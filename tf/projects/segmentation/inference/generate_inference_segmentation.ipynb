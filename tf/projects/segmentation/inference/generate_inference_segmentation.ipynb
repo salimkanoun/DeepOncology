{
 "cells": [
  {
   "cell_type": "code",
   "execution_count": null,
   "metadata": {},
   "outputs": [],
   "source": [
    "from losses.Metrics import metric_dice\n",
    "from tf.project.segmentation.inference.inference import Pipeline\n",
    "import matplotlib.pyplot as plt\n",
    "import pandas as pd \n",
    "import json\n",
    "import csv\n",
    "import SimpleITK as sitk"
   ]
  },
  {
   "cell_type": "code",
   "execution_count": null,
   "metadata": {},
   "outputs": [],
   "source": [
    "target_size = (128, 128, 256)\n",
    "target_spacing = (4.0, 4.0, 4.0)\n",
    "target_direction = (1,0,0,0,1,0,0,0,1)\n",
    "model_path = '/media/oncopole/d508267f-cc7d-45e2-ae24-9456e005a01f/SEGMENTATION/training/20210621-14:00:08/trained_model_20210621-14:00:08.h5'\n",
    "target_origin = None\n",
    "from_pp = False\n",
    "\n",
    "csv_path = '/media/oncopole/d508267f-cc7d-45e2-ae24-9456e005a01f/SEGMENTATION/training/20210621-14:00:08/inference/dataset_inference_v2.csv'\n",
    "\n",
    "\n",
    "df = pd.read_csv(csv_path)\n",
    "dataset = df[['patient_id', 'study', 'study_id', 'ct_img', 'pet_img', 'mask_img']].to_dict('records')\n",
    "print(\"\")\n",
    "pipeline = Pipeline(target_size, target_spacing, target_direction, model_path=model_path, target_origin=None, from_pp=False)\n",
    "print(\"Pipeline object initialized\")"
   ]
  },
  {
   "cell_type": "code",
   "execution_count": null,
   "metadata": {},
   "outputs": [],
   "source": [
    "import time \n",
    "\n",
    "start_time = time.time()\n",
    "directory = '/media/oncopole/d508267f-cc7d-45e2-ae24-9456e005a01f/SEGMENTATION/training/20210621-14:00:08/inference'\n",
    "nifti_directory = '/media/oncopole/d508267f-cc7d-45e2-ae24-9456e005a01f/SEGMENTATION/training/20210621-14:00:08/inference/nifti_probs' \n",
    "liste_paths_images = []\n",
    "for count, img_path in enumerate(dataset) : \n",
    "    print(count)\n",
    "    study_uid = img_path['study_id']\n",
    "    patient_id = img_path['patient_id']\n",
    "    study = img_path['study']\n",
    "    pet_img = sitk.ReadImage(img_path['pet_img'], sitk.sitkFloat32)\n",
    "    pet_spacing = pet_img.GetSpacing()\n",
    "    pet_size = pet_img.GetSize()\n",
    "    pet_origin = pet_img.GetOrigin()\n",
    "    pet_direction = pet_img.GetDirection()\n",
    "    pet_array = sitk.GetArrayFromImage(pet_img)\n",
    "    pred_img = pipeline(img_path)\n",
    "    #save predictions as nifti \n",
    "    pred_img.SetSpacing(pet_spacing)\n",
    "    pred_img.SetDirection(pet_direction)\n",
    "    pred_img.SetOrigin(pet_origin)\n",
    "    sitk.WriteImage(pred_img, nifti_directory+'/'+study_uid+'_inference_pred.nii')\n",
    "    img_path['pred_img'] = nifti_directory+'/'+study_uid+'_inference_pred.nii'\n",
    "\n",
    "print(\"--- %s seconds ---\" % (time.time() - start_time))"
   ]
  },
  {
   "cell_type": "code",
   "execution_count": null,
   "metadata": {},
   "outputs": [],
   "source": [
    "\n",
    "filename = 'prediction_dataset_probs.csv'\n",
    "\n",
    "with open(os.path.join(directory, filename), 'w') as csv_file : \n",
    "    csv_writer = csv.writer(csv_file, delimiter=',', quotechar='\"', quoting=csv.QUOTE_MINIMAL)\n",
    "    csv_writer.writerow([ \"patient_id\", \"study_id\", \"study\", \"ct_img\", \"pet_img\", \"mask_img\", 'pred_img'])\n",
    "    for serie in dataset: \n",
    "        csv_writer.writerow([serie['patient_id'], serie['study_id'], serie['study'], serie['ct_img'], serie['pet_img'], serie['mask_img'], serie['pred_img']])"
   ]
  }
 ],
 "metadata": {
  "kernelspec": {
   "display_name": "Python 3",
   "language": "python",
   "name": "python3"
  },
  "language_info": {
   "codemirror_mode": {
    "name": "ipython",
    "version": 3
   },
   "file_extension": ".py",
   "mimetype": "text/x-python",
   "name": "python",
   "nbconvert_exporter": "python",
   "pygments_lexer": "ipython3",
   "version": "3.8.5"
  }
 },
 "nbformat": 4,
 "nbformat_minor": 2
}