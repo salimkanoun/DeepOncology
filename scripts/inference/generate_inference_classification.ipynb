{
 "metadata": {
  "language_info": {
   "codemirror_mode": {
    "name": "ipython",
    "version": 3
   },
   "file_extension": ".py",
   "mimetype": "text/x-python",
   "name": "python",
   "nbconvert_exporter": "python",
   "pygments_lexer": "ipython3",
   "version": "3.8.5"
  },
  "orig_nbformat": 2,
  "kernelspec": {
   "name": "python3",
   "display_name": "Python 3",
   "language": "python"
  }
 },
 "nbformat": 4,
 "nbformat_minor": 2,
 "cells": [
  {
   "cell_type": "code",
   "execution_count": 1,
   "metadata": {},
   "outputs": [],
   "source": [
    "import tensorflow as tf\n",
    "import os \n",
    "import SimpleITK as sitk \n",
    "from classification.preprocessing import *"
   ]
  },
  {
   "cell_type": "code",
   "execution_count": 2,
   "metadata": {},
   "outputs": [
    {
     "output_type": "stream",
     "name": "stdout",
     "text": [
      "Model: \"classic_model\"\n__________________________________________________________________________________________________\nLayer (type)                    Output Shape         Param #     Connected to                     \n==================================================================================================\ninput_1 (InputLayer)            [(None, 1024, 256, 1 0                                            \n__________________________________________________________________________________________________\nconv1 (Conv2D)                  (None, 1018, 250, 32 1600        input_1[0][0]                    \n__________________________________________________________________________________________________\nmax_pool1 (MaxPooling2D)        (None, 509, 125, 32) 0           conv1[0][0]                      \n__________________________________________________________________________________________________\nconv2 (Conv2D)                  (None, 507, 123, 64) 18496       max_pool1[0][0]                  \n__________________________________________________________________________________________________\nmax_pool2 (MaxPooling2D)        (None, 253, 61, 64)  0           conv2[0][0]                      \n__________________________________________________________________________________________________\nconv3 (Conv2D)                  (None, 251, 59, 64)  36928       max_pool2[0][0]                  \n__________________________________________________________________________________________________\nmax_pool3 (MaxPooling2D)        (None, 125, 29, 64)  0           conv3[0][0]                      \n__________________________________________________________________________________________________\nflatten (Flatten)               (None, 232000)       0           max_pool3[0][0]                  \n__________________________________________________________________________________________________\ndense_1 (Dense)                 (None, 256)          59392256    flatten[0][0]                    \n__________________________________________________________________________________________________\ndropout_1 (Dropout)             (None, 256)          0           dense_1[0][0]                    \n__________________________________________________________________________________________________\ndense_2 (Dense)                 (None, 128)          32896       dropout_1[0][0]                  \n__________________________________________________________________________________________________\ndropout_2 (Dropout)             (None, 128)          0           dense_2[0][0]                    \n__________________________________________________________________________________________________\nhead (Dense)                    (None, 2)            258         dropout_2[0][0]                  \n__________________________________________________________________________________________________\nlegs (Dense)                    (None, 3)            387         dropout_2[0][0]                  \n__________________________________________________________________________________________________\nright_arm (Dense)               (None, 2)            258         dropout_2[0][0]                  \n__________________________________________________________________________________________________\nleft_arm (Dense)                (None, 2)            258         dropout_2[0][0]                  \n==================================================================================================\nTotal params: 59,483,337\nTrainable params: 59,483,337\nNon-trainable params: 0\n__________________________________________________________________________________________________\n"
     ]
    }
   ],
   "source": [
    "trained_model_path = '/media/oncopole/d508267f-cc7d-45e2-ae24-9456e005a01f/CLASSIFICATION/training/train_2/20210705-15_03_50/trained_model_20210705-15_03_50.h5'\n",
    "model = tf.keras.models.load_model(trained_model_path)\n",
    "model.summary()"
   ]
  },
  {
   "cell_type": "code",
   "execution_count": 3,
   "metadata": {
    "tags": []
   },
   "outputs": [
    {
     "output_type": "stream",
     "name": "stdout",
     "text": [
      "(326, 1024, 256, 1)\n(326, 4)\n"
     ]
    }
   ],
   "source": [
    "test_directory = '/media/oncopole/d508267f-cc7d-45e2-ae24-9456e005a01f/CLASSIFICATION/training/train_2/test'\n",
    "files = os.listdir(test_directory)\n",
    "liste_files = []\n",
    "for x in files : \n",
    "    liste_files.append(os.path.join(test_directory, x))\n",
    "sorted_test = sorted(liste_files)\n",
    "X_test = []\n",
    "y_test = []\n",
    "for i in range(0, len(sorted_test), 2):\n",
    "    X_test.append(sitk.GetArrayFromImage(sitk.ReadImage(sorted_test[i+1])))\n",
    "    y_test.append(get_label_from_json(sorted_test[i]))\n",
    "\n",
    "X_test = np.asarray(X_test)\n",
    "y_test = np.asarray(y_test)\n",
    "\n",
    "print(X_test.shape)\n",
    "print(y_test.shape)"
   ]
  },
  {
   "cell_type": "code",
   "execution_count": 5,
   "metadata": {},
   "outputs": [
    {
     "output_type": "stream",
     "name": "stdout",
     "text": [
      "11/11 [==============================] - 7s 261ms/step - loss: 0.0278 - head_loss: 0.0508 - legs_loss: 0.0379 - right_arm_loss: 0.0061 - left_arm_loss: 0.0163 - head_head_accuracy: 0.9877 - legs_legs_accuracy: 0.9847 - right_arm_right_arm_accuracy: 1.0000 - left_arm_left_arm_accuracy: 0.9969\n"
     ]
    },
    {
     "output_type": "execute_result",
     "data": {
      "text/plain": [
       "{'loss': 0.027774466201663017,\n",
       " 'head_loss': 0.050832413136959076,\n",
       " 'legs_loss': 0.037949759513139725,\n",
       " 'right_arm_loss': 0.006051304750144482,\n",
       " 'left_arm_loss': 0.01626438833773136,\n",
       " 'head_head_accuracy': 0.987730085849762,\n",
       " 'legs_legs_accuracy': 0.9846625924110413,\n",
       " 'right_arm_right_arm_accuracy': 1.0,\n",
       " 'left_arm_left_arm_accuracy': 0.9969325065612793}"
      ]
     },
     "metadata": {},
     "execution_count": 5
    }
   ],
   "source": [
    "#evaluate\n",
    "result = model.evaluate(X_test,  {'head': y_test[:,0], \n",
    "                                    'legs': y_test[:,1],\n",
    "                                    'right_arm' : y_test[:,2],\n",
    "                                    'left_arm' : y_test[:,3] ,\n",
    "                                    })\n",
    "dict(zip(model.metrics_names, result)) "
   ]
  },
  {
   "cell_type": "code",
   "execution_count": 4,
   "metadata": {},
   "outputs": [],
   "source": [
    "#predictions\n",
    "inferences = model.predict(X_test)"
   ]
  },
  {
   "cell_type": "code",
   "execution_count": 5,
   "metadata": {},
   "outputs": [
    {
     "output_type": "execute_result",
     "data": {
      "text/plain": [
       "4"
      ]
     },
     "metadata": {},
     "execution_count": 5
    }
   ],
   "source": [
    "len(inferences)\n",
    "#inference[0] head \n",
    "#inferences[1] legs \n",
    "#infernece[2] right arm \n",
    "#inference[3] left arm "
   ]
  },
  {
   "cell_type": "code",
   "execution_count": 6,
   "metadata": {},
   "outputs": [],
   "source": [
    "from classification.inference import * \n",
    "inferences_decoded = decodage_predictions(inferences)"
   ]
  },
  {
   "cell_type": "code",
   "execution_count": 7,
   "metadata": {},
   "outputs": [
    {
     "output_type": "execute_result",
     "data": {
      "text/plain": [
       "['Vertex', 'Hips', 'up', 'up']"
      ]
     },
     "metadata": {},
     "execution_count": 7
    }
   ],
   "source": [
    "inferences_decoded[0]"
   ]
  },
  {
   "cell_type": "code",
   "execution_count": 8,
   "metadata": {},
   "outputs": [],
   "source": [
    "truth_decoded = decodage_truth(y_test)"
   ]
  },
  {
   "cell_type": "code",
   "execution_count": 11,
   "metadata": {},
   "outputs": [
    {
     "output_type": "execute_result",
     "data": {
      "text/plain": [
       "['Vertex', 'Hips', 'up', 'up']"
      ]
     },
     "metadata": {},
     "execution_count": 11
    }
   ],
   "source": [
    "truth_decoded[0]"
   ]
  },
  {
   "cell_type": "code",
   "execution_count": 9,
   "metadata": {},
   "outputs": [],
   "source": [
    "#generate image with true/false predictions and save them \n",
    "directory = '/media/oncopole/d508267f-cc7d-45e2-ae24-9456e005a01f/CLASSIFICATION/training/train_2/inference'\n",
    "affichage(X_test, inferences_decoded, truth_decoded, directory)"
   ]
  },
  {
   "cell_type": "code",
   "execution_count": null,
   "metadata": {},
   "outputs": [],
   "source": [
    "#GENERATE MIP FROM NIFTI \n",
    "\n",
    "from dicom_to_cnn.model.reader.Nifti import Nifti \n",
    "from dicom_to_cnn.model.post_processing.mip.MIP_Generator import MIP_Generator\n",
    "\n",
    "nifti_path = ''\n",
    "resampled_array = Nifti(nifti_path).resample(shape_matrix=(256, 256, 1024), shape_physic=(700, 700, 2000))\n",
    "resampled_array[np.where(resampled_array < 500)] = 0 #500 UH\n",
    "normalize = resampled_array[:,:,:,]/np.max(resampled_array) #normalize\n",
    "mip_generator = MIP_Generator(normalize)\n",
    "mip = mip_generator.project(angle=0)\n",
    "mip = np.expand_dims(mip, -1)\n",
    "#mip of size 1024 256 1"
   ]
  },
  {
   "cell_type": "code",
   "execution_count": null,
   "metadata": {},
   "outputs": [],
   "source": []
  },
  {
   "cell_type": "code",
   "execution_count": null,
   "metadata": {},
   "outputs": [],
   "source": []
  },
  {
   "cell_type": "code",
   "execution_count": null,
   "metadata": {},
   "outputs": [],
   "source": []
  },
  {
   "cell_type": "code",
   "execution_count": null,
   "metadata": {},
   "outputs": [],
   "source": []
  }
 ]
}