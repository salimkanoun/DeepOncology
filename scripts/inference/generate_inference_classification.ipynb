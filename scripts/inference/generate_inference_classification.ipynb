{
 "metadata": {
  "language_info": {
   "codemirror_mode": {
    "name": "ipython",
    "version": 3
   },
   "file_extension": ".py",
   "mimetype": "text/x-python",
   "name": "python",
   "nbconvert_exporter": "python",
   "pygments_lexer": "ipython3",
   "version": "3.8.5"
  },
  "orig_nbformat": 2,
  "kernelspec": {
   "name": "python3",
   "display_name": "Python 3",
   "language": "python"
  }
 },
 "nbformat": 4,
 "nbformat_minor": 2,
 "cells": [
  {
   "cell_type": "code",
   "execution_count": null,
   "metadata": {},
   "outputs": [],
   "source": [
    "import tensorflow as tf\n",
    "import os \n",
    "import SimpleITK as sitk \n",
    "from classification.tools.preprocessing import *"
   ]
  },
  {
   "cell_type": "code",
   "execution_count": null,
   "metadata": {},
   "outputs": [],
   "source": [
    "trained_model_path = '/media/oncopole/d508267f-cc7d-45e2-ae24-9456e005a01f/CLASSIFICATION/training/train_2/20210705-15_03_50/trained_model_20210705-15_03_50.h5'\n",
    "model = tf.keras.models.load_model(trained_model_path)\n",
    "model.summary()"
   ]
  },
  {
   "cell_type": "code",
   "execution_count": null,
   "metadata": {
    "tags": []
   },
   "outputs": [],
   "source": [
    "test_directory = '/media/oncopole/d508267f-cc7d-45e2-ae24-9456e005a01f/CLASSIFICATION/training/train_2/images/test'\n",
    "files = os.listdir(test_directory)\n",
    "liste_files = []\n",
    "for x in files : \n",
    "    liste_files.append(os.path.join(test_directory, x))\n",
    "sorted_test = sorted(liste_files)\n",
    "X_test = []\n",
    "y_test = []\n",
    "for i in range(0, len(sorted_test), 2):\n",
    "    X_test.append(sitk.GetArrayFromImage(sitk.ReadImage(sorted_test[i+1])))\n",
    "    y_test.append(get_label_from_json(sorted_test[i]))\n",
    "\n",
    "X_test = np.asarray(X_test)\n",
    "y_test = np.asarray(y_test)\n",
    "\n",
    "print(X_test.shape)\n",
    "print(y_test.shape)"
   ]
  },
  {
   "cell_type": "code",
   "execution_count": null,
   "metadata": {},
   "outputs": [],
   "source": [
    "#evaluate\n",
    "result = model.evaluate(X_test,  {'head': y_test[:,0], \n",
    "                                    'legs': y_test[:,1],\n",
    "                                    'right_arm' : y_test[:,2],\n",
    "                                    'left_arm' : y_test[:,3] ,\n",
    "                                    })\n",
    "dict(zip(model.metrics_names, result)) "
   ]
  },
  {
   "cell_type": "code",
   "execution_count": null,
   "metadata": {},
   "outputs": [],
   "source": [
    "#predictions\n",
    "inferences = model.predict(X_test)"
   ]
  },
  {
   "cell_type": "code",
   "execution_count": null,
   "metadata": {},
   "outputs": [],
   "source": [
    "len(inferences)\n",
    "#inferences[0] head \n",
    "#inferences[1] legs \n",
    "#inferneces[2] right arm \n",
    "#inferences[3] left arm \n",
    "print(len(inferences[0][0]))"
   ]
  },
  {
   "cell_type": "code",
   "execution_count": null,
   "metadata": {},
   "outputs": [],
   "source": [
    "from classification.tools.inference import * \n",
    "inferences_decoded = decodage_predictions(inferences)"
   ]
  },
  {
   "cell_type": "code",
   "execution_count": null,
   "metadata": {},
   "outputs": [],
   "source": [
    "inferences_decoded[0]"
   ]
  },
  {
   "cell_type": "code",
   "execution_count": null,
   "metadata": {},
   "outputs": [],
   "source": [
    "truth_decoded = decodage_truth(y_test)"
   ]
  },
  {
   "cell_type": "code",
   "execution_count": null,
   "metadata": {},
   "outputs": [],
   "source": [
    "truth_decoded[0]"
   ]
  },
  {
   "cell_type": "code",
   "execution_count": null,
   "metadata": {},
   "outputs": [],
   "source": [
    "#generate image with true/false predictions and save them \n",
    "directory = '/media/oncopole/d508267f-cc7d-45e2-ae24-9456e005a01f/CLASSIFICATION/training/train_2/inference'\n",
    "affichage(X_test, inferences_decoded, truth_decoded, directory)"
   ]
  },
  {
   "cell_type": "code",
   "execution_count": null,
   "metadata": {},
   "outputs": [],
   "source": [
    "#GENERATE MIP FROM NIFTI \n",
    "\n",
    "from dicom_to_cnn.model.reader.Nifti import Nifti \n",
    "from dicom_to_cnn.model.post_processing.mip.MIP_Generator import MIP_Generator\n",
    "\n",
    "nifti_path = ''\n",
    "resampled_array = Nifti(nifti_path).resample(shape_matrix=(256, 256, 1024), shape_physic=(700, 700, 2000))\n",
    "resampled_array[np.where(resampled_array < 500)] = 0 #500 UH\n",
    "normalize = resampled_array[:,:,:,]/np.max(resampled_array) #normalize\n",
    "mip_generator = MIP_Generator(normalize)\n",
    "mip = mip_generator.project(angle=0)\n",
    "mip = np.expand_dims(mip, -1)\n",
    "#mip of size 1024 256 1"
   ]
  },
  {
   "cell_type": "code",
   "execution_count": null,
   "metadata": {},
   "outputs": [],
   "source": []
  },
  {
   "cell_type": "code",
   "execution_count": null,
   "metadata": {},
   "outputs": [],
   "source": []
  },
  {
   "cell_type": "code",
   "execution_count": null,
   "metadata": {},
   "outputs": [],
   "source": []
  },
  {
   "cell_type": "code",
   "execution_count": null,
   "metadata": {},
   "outputs": [],
   "source": []
  }
 ]
}