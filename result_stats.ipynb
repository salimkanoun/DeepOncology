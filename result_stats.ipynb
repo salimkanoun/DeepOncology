{
 "cells": [
  {
   "cell_type": "code",
   "execution_count": 5,
   "metadata": {},
   "outputs": [],
   "source": [
    "import os\n",
    "import csv\n",
    "\n",
    "import pandas as pd\n",
    "import numpy as np\n",
    "\n",
    "import matplotlib.pyplot as plt\n",
    "import seaborn as sns\n",
    "from mrcnn import visualize\n",
    "\n",
    "from sklearn.metrics import r2_score\n",
    "from scipy.stats import pearsonr"
   ]
  },
  {
   "cell_type": "code",
   "execution_count": 8,
   "metadata": {},
   "outputs": [],
   "source": [
    "csv_pred_path = '/media/oncopole/DD 2To/SEGMENTATION/inference/inference_dataset_V4.csv'\n",
    "df = pd.read_csv(csv_pred_path)"
   ]
  },
  {
   "cell_type": "code",
   "execution_count": 10,
   "metadata": {},
   "outputs": [
    {
     "output_type": "execute_result",
     "data": {
      "text/plain": [
       "     PATIENT_NAME      patient_id  \\\n",
       "0  53011101841003  53011101841003   \n",
       "1  53011101881011  53011101881011   \n",
       "2  53011101841011  53011101841011   \n",
       "3  53011101881007  53011101881007   \n",
       "4  53011101871009  53011101871009   \n",
       "\n",
       "                                      study_id study  \\\n",
       "0  1.2.250.1.199.10.90001.93080.20120515093605   ahl   \n",
       "1  1.2.250.1.199.10.90001.97031.20130222102728   ahl   \n",
       "2  1.2.250.1.199.10.90001.97274.20140120115149   ahl   \n",
       "3  1.2.250.1.199.10.90001.98250.20120824131623   ahl   \n",
       "4  1.2.250.1.38.2.1.102.130708113824.102392945   ahl   \n",
       "\n",
       "                                              ct_img  \\\n",
       "0  /media/oncopole/DDArchive/AHL_NIFTI/5301110184...   \n",
       "1  /media/oncopole/DDArchive/AHL_NIFTI/5301110188...   \n",
       "2  /media/oncopole/DDArchive/AHL_NIFTI/5301110184...   \n",
       "3  /media/oncopole/DDArchive/AHL_NIFTI/5301110188...   \n",
       "4  /media/oncopole/DDArchive/AHL_NIFTI/5301110187...   \n",
       "\n",
       "                                             pet_img  \\\n",
       "0  /media/oncopole/DDArchive/AHL_NIFTI/5301110184...   \n",
       "1  /media/oncopole/DDArchive/AHL_NIFTI/5301110188...   \n",
       "2  /media/oncopole/DDArchive/AHL_NIFTI/5301110184...   \n",
       "3  /media/oncopole/DDArchive/AHL_NIFTI/5301110188...   \n",
       "4  /media/oncopole/DDArchive/AHL_NIFTI/5301110187...   \n",
       "\n",
       "                                            mask_img  \n",
       "0  /media/oncopole/DDArchive/AHL_NIFTI/5301110184...  \n",
       "1  /media/oncopole/DDArchive/AHL_NIFTI/5301110188...  \n",
       "2  /media/oncopole/DDArchive/AHL_NIFTI/5301110184...  \n",
       "3  /media/oncopole/DDArchive/AHL_NIFTI/5301110188...  \n",
       "4  /media/oncopole/DDArchive/AHL_NIFTI/5301110187...  "
      ],
      "text/html": "<div>\n<style scoped>\n    .dataframe tbody tr th:only-of-type {\n        vertical-align: middle;\n    }\n\n    .dataframe tbody tr th {\n        vertical-align: top;\n    }\n\n    .dataframe thead th {\n        text-align: right;\n    }\n</style>\n<table border=\"1\" class=\"dataframe\">\n  <thead>\n    <tr style=\"text-align: right;\">\n      <th></th>\n      <th>PATIENT_NAME</th>\n      <th>patient_id</th>\n      <th>study_id</th>\n      <th>study</th>\n      <th>ct_img</th>\n      <th>pet_img</th>\n      <th>mask_img</th>\n    </tr>\n  </thead>\n  <tbody>\n    <tr>\n      <th>0</th>\n      <td>53011101841003</td>\n      <td>53011101841003</td>\n      <td>1.2.250.1.199.10.90001.93080.20120515093605</td>\n      <td>ahl</td>\n      <td>/media/oncopole/DDArchive/AHL_NIFTI/5301110184...</td>\n      <td>/media/oncopole/DDArchive/AHL_NIFTI/5301110184...</td>\n      <td>/media/oncopole/DDArchive/AHL_NIFTI/5301110184...</td>\n    </tr>\n    <tr>\n      <th>1</th>\n      <td>53011101881011</td>\n      <td>53011101881011</td>\n      <td>1.2.250.1.199.10.90001.97031.20130222102728</td>\n      <td>ahl</td>\n      <td>/media/oncopole/DDArchive/AHL_NIFTI/5301110188...</td>\n      <td>/media/oncopole/DDArchive/AHL_NIFTI/5301110188...</td>\n      <td>/media/oncopole/DDArchive/AHL_NIFTI/5301110188...</td>\n    </tr>\n    <tr>\n      <th>2</th>\n      <td>53011101841011</td>\n      <td>53011101841011</td>\n      <td>1.2.250.1.199.10.90001.97274.20140120115149</td>\n      <td>ahl</td>\n      <td>/media/oncopole/DDArchive/AHL_NIFTI/5301110184...</td>\n      <td>/media/oncopole/DDArchive/AHL_NIFTI/5301110184...</td>\n      <td>/media/oncopole/DDArchive/AHL_NIFTI/5301110184...</td>\n    </tr>\n    <tr>\n      <th>3</th>\n      <td>53011101881007</td>\n      <td>53011101881007</td>\n      <td>1.2.250.1.199.10.90001.98250.20120824131623</td>\n      <td>ahl</td>\n      <td>/media/oncopole/DDArchive/AHL_NIFTI/5301110188...</td>\n      <td>/media/oncopole/DDArchive/AHL_NIFTI/5301110188...</td>\n      <td>/media/oncopole/DDArchive/AHL_NIFTI/5301110188...</td>\n    </tr>\n    <tr>\n      <th>4</th>\n      <td>53011101871009</td>\n      <td>53011101871009</td>\n      <td>1.2.250.1.38.2.1.102.130708113824.102392945</td>\n      <td>ahl</td>\n      <td>/media/oncopole/DDArchive/AHL_NIFTI/5301110187...</td>\n      <td>/media/oncopole/DDArchive/AHL_NIFTI/5301110187...</td>\n      <td>/media/oncopole/DDArchive/AHL_NIFTI/5301110187...</td>\n    </tr>\n  </tbody>\n</table>\n</div>"
     },
     "metadata": {},
     "execution_count": 10
    }
   ],
   "source": [
    "df.head()"
   ]
  },
  {
   "cell_type": "code",
   "execution_count": 56,
   "metadata": {},
   "outputs": [
    {
     "output_type": "stream",
     "name": "stdout",
     "text": [
      "ahl\n29.54 % \n\ngained\n24.12 % \n\npvab\n20.05 % \n\nrelevance\n11.92 % \n\nremarc\n7.59 % \n\nflip\n4.88 % \n\nlnh073b\n1.9 % \n\n"
     ]
    }
   ],
   "source": [
    "study = []\n",
    "number = []\n",
    "for idx,name in enumerate(df['study'].value_counts().index.tolist()):\n",
    "    #print('Study:', name)\n",
    "    study.append(name)\n",
    "    #print('Number :', df['study'].value_counts()[idx])\n",
    "    number.append(df['study'].value_counts()[idx])\n",
    "#print(study)\n",
    "#print(number)\n",
    "\n",
    "percent = []\n",
    "for s, n in zip(study, number):\n",
    "    print(s)\n",
    "    print(\"{} % \".format(round(n/np.sum(number)*100,2)))\n",
    "    print('')\n",
    "    percent.append(round(n/np.sum(number)*100,2))\n",
    "\n"
   ]
  },
  {
   "cell_type": "code",
   "execution_count": null,
   "metadata": {},
   "outputs": [],
   "source": []
  },
  {
   "cell_type": "code",
   "execution_count": null,
   "metadata": {},
   "outputs": [],
   "source": []
  },
  {
   "cell_type": "code",
   "execution_count": null,
   "metadata": {},
   "outputs": [],
   "source": []
  },
  {
   "cell_type": "code",
   "execution_count": null,
   "metadata": {},
   "outputs": [],
   "source": []
  },
  {
   "cell_type": "code",
   "execution_count": null,
   "metadata": {},
   "outputs": [],
   "source": [
    "result_csv_path = '/home/oncopole/Documents/Rudy/DeepOncopole/data/vnet/dice3d_results.csv'"
   ]
  },
  {
   "cell_type": "code",
   "execution_count": null,
   "metadata": {},
   "outputs": [],
   "source": [
    "df = pd.read_csv(result_csv_path,\n",
    "                sep=\"\\t|,\",)"
   ]
  },
  {
   "cell_type": "code",
   "execution_count": null,
   "metadata": {},
   "outputs": [],
   "source": [
    "df.info()"
   ]
  },
  {
   "cell_type": "code",
   "execution_count": null,
   "metadata": {},
   "outputs": [],
   "source": [
    "df_train = df[df['subset']=='train'].copy()\n",
    "df_val = df[df['subset']=='val'].copy()\n",
    "df_test = df[df['subset']=='test'].copy()"
   ]
  },
  {
   "cell_type": "code",
   "execution_count": null,
   "metadata": {},
   "outputs": [],
   "source": [
    "df_train.describe()"
   ]
  },
  {
   "cell_type": "code",
   "execution_count": null,
   "metadata": {},
   "outputs": [],
   "source": [
    "df_train.median()"
   ]
  },
  {
   "cell_type": "code",
   "execution_count": null,
   "metadata": {},
   "outputs": [],
   "source": [
    "df_val.describe()"
   ]
  },
  {
   "cell_type": "code",
   "execution_count": null,
   "metadata": {},
   "outputs": [],
   "source": [
    "df_val.median()"
   ]
  },
  {
   "cell_type": "code",
   "execution_count": null,
   "metadata": {},
   "outputs": [],
   "source": [
    "ax = sns.boxplot(x=\"subset\", y=\"dice_cnn\", data=df)\n",
    "ax = sns.swarmplot(x=\"subset\", y=\"dice_cnn\", data=df, color=\".25\")\n",
    "\n",
    "# ax.set_ylim(0.0, 1.0)\n",
    "plt.show()"
   ]
  },
  {
   "cell_type": "code",
   "execution_count": null,
   "metadata": {},
   "outputs": [],
   "source": [
    "plot_result(df_train)"
   ]
  },
  {
   "cell_type": "code",
   "execution_count": null,
   "metadata": {},
   "outputs": [],
   "source": [
    "plot_result(df_val)"
   ]
  },
  {
   "cell_type": "code",
   "execution_count": null,
   "metadata": {},
   "outputs": [],
   "source": [
    "plot_result(df_test)"
   ]
  }
 ],
 "metadata": {
  "kernelspec": {
   "display_name": "Python 3",
   "language": "python",
   "name": "python3"
  },
  "language_info": {
   "codemirror_mode": {
    "name": "ipython",
    "version": 3
   },
   "file_extension": ".py",
   "mimetype": "text/x-python",
   "name": "python",
   "nbconvert_exporter": "python",
   "pygments_lexer": "ipython3",
   "version": "3.8.5"
  }
 },
 "nbformat": 4,
 "nbformat_minor": 4
}