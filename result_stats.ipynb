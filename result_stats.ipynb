{
 "cells": [
  {
   "cell_type": "code",
   "execution_count": 1,
   "metadata": {},
   "outputs": [],
   "source": [
    "import os\n",
    "import csv\n",
    "\n",
    "import pandas as pd\n",
    "import numpy as np\n",
    "\n",
    "#from lib.stats import *\n",
    "from stats import * \n",
    "\n",
    "\n",
    "import matplotlib.pyplot as plt\n",
    "import seaborn as sns\n",
    "from mrcnn import visualize\n",
    "\n",
    "from sklearn.metrics import r2_score\n",
    "from scipy.stats import pearsonr\n",
    "\n",
    "from library_dicom.dicom_processor.tools.folders import * "
   ]
  },
  {
   "cell_type": "code",
   "execution_count": 2,
   "metadata": {},
   "outputs": [],
   "source": [
    "csv_pred_path = '/media/oncopole/DD 2To/SEGMENTATION/inference/prediction_dataset.csv'\n",
    "df = pd.read_csv(csv_pred_path)"
   ]
  },
  {
   "cell_type": "code",
   "execution_count": 3,
   "metadata": {},
   "outputs": [
    {
     "output_type": "execute_result",
     "data": {
      "text/plain": [
       "       patient_id                                     study_id study  \\\n",
       "0  53011101841003  1.2.250.1.199.10.90001.93080.20120515093605   ahl   \n",
       "1  53011101881011  1.2.250.1.199.10.90001.97031.20130222102728   ahl   \n",
       "2  53011101841011  1.2.250.1.199.10.90001.97274.20140120115149   ahl   \n",
       "3  53011101881007  1.2.250.1.199.10.90001.98250.20120824131623   ahl   \n",
       "4  53011101871009  1.2.250.1.38.2.1.102.130708113824.102392945   ahl   \n",
       "\n",
       "                                              ct_img  \\\n",
       "0  /media/oncopole/DDArchive/AHL_NIFTI/5301110184...   \n",
       "1  /media/oncopole/DDArchive/AHL_NIFTI/5301110188...   \n",
       "2  /media/oncopole/DDArchive/AHL_NIFTI/5301110184...   \n",
       "3  /media/oncopole/DDArchive/AHL_NIFTI/5301110188...   \n",
       "4  /media/oncopole/DDArchive/AHL_NIFTI/5301110187...   \n",
       "\n",
       "                                             pet_img  \\\n",
       "0  /media/oncopole/DDArchive/AHL_NIFTI/5301110184...   \n",
       "1  /media/oncopole/DDArchive/AHL_NIFTI/5301110188...   \n",
       "2  /media/oncopole/DDArchive/AHL_NIFTI/5301110184...   \n",
       "3  /media/oncopole/DDArchive/AHL_NIFTI/5301110188...   \n",
       "4  /media/oncopole/DDArchive/AHL_NIFTI/5301110187...   \n",
       "\n",
       "                                            mask_img  \\\n",
       "0  /media/oncopole/DDArchive/AHL_NIFTI/5301110184...   \n",
       "1  /media/oncopole/DDArchive/AHL_NIFTI/5301110188...   \n",
       "2  /media/oncopole/DDArchive/AHL_NIFTI/5301110184...   \n",
       "3  /media/oncopole/DDArchive/AHL_NIFTI/5301110188...   \n",
       "4  /media/oncopole/DDArchive/AHL_NIFTI/5301110187...   \n",
       "\n",
       "                                            pred_img  \n",
       "0  /media/oncopole/DD 2To/SEGMENTATION/inference/...  \n",
       "1  /media/oncopole/DD 2To/SEGMENTATION/inference/...  \n",
       "2  /media/oncopole/DD 2To/SEGMENTATION/inference/...  \n",
       "3  /media/oncopole/DD 2To/SEGMENTATION/inference/...  \n",
       "4  /media/oncopole/DD 2To/SEGMENTATION/inference/...  "
      ],
      "text/html": "<div>\n<style scoped>\n    .dataframe tbody tr th:only-of-type {\n        vertical-align: middle;\n    }\n\n    .dataframe tbody tr th {\n        vertical-align: top;\n    }\n\n    .dataframe thead th {\n        text-align: right;\n    }\n</style>\n<table border=\"1\" class=\"dataframe\">\n  <thead>\n    <tr style=\"text-align: right;\">\n      <th></th>\n      <th>patient_id</th>\n      <th>study_id</th>\n      <th>study</th>\n      <th>ct_img</th>\n      <th>pet_img</th>\n      <th>mask_img</th>\n      <th>pred_img</th>\n    </tr>\n  </thead>\n  <tbody>\n    <tr>\n      <th>0</th>\n      <td>53011101841003</td>\n      <td>1.2.250.1.199.10.90001.93080.20120515093605</td>\n      <td>ahl</td>\n      <td>/media/oncopole/DDArchive/AHL_NIFTI/5301110184...</td>\n      <td>/media/oncopole/DDArchive/AHL_NIFTI/5301110184...</td>\n      <td>/media/oncopole/DDArchive/AHL_NIFTI/5301110184...</td>\n      <td>/media/oncopole/DD 2To/SEGMENTATION/inference/...</td>\n    </tr>\n    <tr>\n      <th>1</th>\n      <td>53011101881011</td>\n      <td>1.2.250.1.199.10.90001.97031.20130222102728</td>\n      <td>ahl</td>\n      <td>/media/oncopole/DDArchive/AHL_NIFTI/5301110188...</td>\n      <td>/media/oncopole/DDArchive/AHL_NIFTI/5301110188...</td>\n      <td>/media/oncopole/DDArchive/AHL_NIFTI/5301110188...</td>\n      <td>/media/oncopole/DD 2To/SEGMENTATION/inference/...</td>\n    </tr>\n    <tr>\n      <th>2</th>\n      <td>53011101841011</td>\n      <td>1.2.250.1.199.10.90001.97274.20140120115149</td>\n      <td>ahl</td>\n      <td>/media/oncopole/DDArchive/AHL_NIFTI/5301110184...</td>\n      <td>/media/oncopole/DDArchive/AHL_NIFTI/5301110184...</td>\n      <td>/media/oncopole/DDArchive/AHL_NIFTI/5301110184...</td>\n      <td>/media/oncopole/DD 2To/SEGMENTATION/inference/...</td>\n    </tr>\n    <tr>\n      <th>3</th>\n      <td>53011101881007</td>\n      <td>1.2.250.1.199.10.90001.98250.20120824131623</td>\n      <td>ahl</td>\n      <td>/media/oncopole/DDArchive/AHL_NIFTI/5301110188...</td>\n      <td>/media/oncopole/DDArchive/AHL_NIFTI/5301110188...</td>\n      <td>/media/oncopole/DDArchive/AHL_NIFTI/5301110188...</td>\n      <td>/media/oncopole/DD 2To/SEGMENTATION/inference/...</td>\n    </tr>\n    <tr>\n      <th>4</th>\n      <td>53011101871009</td>\n      <td>1.2.250.1.38.2.1.102.130708113824.102392945</td>\n      <td>ahl</td>\n      <td>/media/oncopole/DDArchive/AHL_NIFTI/5301110187...</td>\n      <td>/media/oncopole/DDArchive/AHL_NIFTI/5301110187...</td>\n      <td>/media/oncopole/DDArchive/AHL_NIFTI/5301110187...</td>\n      <td>/media/oncopole/DD 2To/SEGMENTATION/inference/...</td>\n    </tr>\n  </tbody>\n</table>\n</div>"
     },
     "metadata": {},
     "execution_count": 3
    }
   ],
   "source": [
    "df.head()"
   ]
  },
  {
   "cell_type": "code",
   "execution_count": 9,
   "metadata": {},
   "outputs": [
    {
     "output_type": "stream",
     "name": "stdout",
     "text": [
      "ahl\n29.54 % \n\ngained\n24.12 % \n\npvab\n20.05 % \n\nrelevance\n11.92 % \n\nremarc\n7.59 % \n\nflip\n4.88 % \n\nlnh073b\n1.9 % \n\n"
     ]
    }
   ],
   "source": [
    "study = []\n",
    "number = []\n",
    "for idx,name in enumerate(df['study'].value_counts().index.tolist()):\n",
    "    #print('Study:', name)\n",
    "    study.append(name)\n",
    "    #print('Number :', df['study'].value_counts()[idx])\n",
    "    number.append(df['study'].value_counts()[idx])\n",
    "#print(study)\n",
    "#print(number)\n",
    "\n",
    "percent = []\n",
    "for s, n in zip(study, number):\n",
    "    print(s)\n",
    "    print(\"{} % \".format(round(n/np.sum(number)*100,2)))\n",
    "    print('')\n",
    "    percent.append(round(n/np.sum(number)*100,2))"
   ]
  },
  {
   "cell_type": "code",
   "execution_count": 3,
   "metadata": {},
   "outputs": [
    {
     "output_type": "execute_result",
     "data": {
      "text/plain": [
       "['53011101841003',\n",
       " '1.2.250.1.199.10.90001.93080.20120515093605',\n",
       " 'ahl',\n",
       " '/media/oncopole/DDArchive/AHL_NIFTI/53011101841003/pet0/1.2.250.1.199.10.90001.93080.20120515093605_nifti_CT.nii',\n",
       " '/media/oncopole/DDArchive/AHL_NIFTI/53011101841003/pet0/1.2.250.1.199.10.90001.93080.20120515093605_nifti_PT.nii',\n",
       " '/media/oncopole/DDArchive/AHL_NIFTI/53011101841003/pet0/1.2.250.1.199.10.90001.93080.20120515093605_nifti_mask_3d.nii',\n",
       " '/media/oncopole/DD 2To/SEGMENTATION/inference/nifti/1.2.250.1.199.10.90001.93080.20120515093605_inference_pred.nii']"
      ]
     },
     "metadata": {},
     "execution_count": 3
    }
   ],
   "source": [
    "dataset = df.values.tolist()\n",
    "dataset[0]"
   ]
  },
  {
   "cell_type": "code",
   "execution_count": 10,
   "metadata": {},
   "outputs": [
    {
     "output_type": "execute_result",
     "data": {
      "text/plain": [
       "['2017064',\n",
       " '2.16.840.1.113669.632.20.310000.20002776668',\n",
       " 'flip',\n",
       " '/media/oncopole/DDArchive/FLIP_NIFTI_COMPLET/CR,064/pet0/2.16.840.1.113669.632.20.310000.20002776668_nifti_CT.nii',\n",
       " '/media/oncopole/DDArchive/FLIP_NIFTI_COMPLET/CR,064/pet0/2.16.840.1.113669.632.20.310000.20002776668_nifti_PT.nii',\n",
       " '/media/oncopole/DDArchive/FLIP_NIFTI_COMPLET/CR,064/pet0/2.16.840.1.113669.632.20.310000.20002776668_nifti_mask_3d.nii',\n",
       " '/media/oncopole/DD 2To/SEGMENTATION/inference/nifti/2.16.840.1.113669.632.20.310000.20002776668_inference_pred.nii']"
      ]
     },
     "metadata": {},
     "execution_count": 10
    }
   ],
   "source": [
    "dataset[125]"
   ]
  },
  {
   "cell_type": "code",
   "execution_count": 4,
   "metadata": {},
   "outputs": [
    {
     "output_type": "execute_result",
     "data": {
      "text/plain": [
       "369"
      ]
     },
     "metadata": {},
     "execution_count": 4
    }
   ],
   "source": [
    "len(dataset)"
   ]
  },
  {
   "cell_type": "code",
   "execution_count": 4,
   "metadata": {},
   "outputs": [
    {
     "output_type": "stream",
     "name": "stdout",
     "text": [
      "361\n",
      "[0.75858903]\n",
      "[0.73418282]\n",
      "[0.95843592]\n",
      "362\n",
      "[0.88229273]\n",
      "[0.79605372]\n",
      "[0.89711431]\n",
      "363\n",
      "[0.75215577]\n",
      "[0.70013245]\n",
      "[0.76092416]\n",
      "364\n",
      "[0.7582078]\n",
      "[0.64849414]\n",
      "[0.8305619]\n",
      "365\n",
      "[0.50539221]\n",
      "[0.57132648]\n",
      "[0.89666137]\n",
      "366\n",
      "[0.05695612]\n",
      "[0.74048443]\n",
      "[0.]\n",
      "367\n",
      "[0.60384741]\n",
      "[0.6145653]\n",
      "[0.87496732]\n",
      "368\n",
      "[0.84747454]\n",
      "[0.78437293]\n",
      "[0.92022923]\n"
     ]
    }
   ],
   "source": [
    "#DICE \n",
    "seuil = [0.41, 2.5, 4.0]\n",
    "for inference in dataset[361:] :\n",
    "    print(dataset.index(inference)) \n",
    "    pet_array, spacing = get_array_from_nifti(inference[4])\n",
    "    for s in seuil : \n",
    "        if s == 0.41 : \n",
    "            #Watershed\n",
    "            ws_array = applied_watershed_on_inference(inference[6], inference[4])\n",
    "            pred_array = np.transpose(ws_array, (2,1,0))\n",
    "            true_array, _ = get_array_from_nifti(inference[5]) \n",
    "            dice = calcul_dice(pred_array, true_array, pet_array, thresh = s)\n",
    "            inference.append(dice[0])\n",
    "            filename = inference[1]+'_'+str(s)\n",
    "            write_json_file('/media/oncopole/DD 2To/SEGMENTATION/inference/stats/dice', filename, inference)\n",
    "            print(dice)\n",
    "            \n",
    "        else : \n",
    "            \n",
    "            pred_array, _ = get_array_from_nifti(inference[6])\n",
    "            true_array, _ = get_array_from_nifti(inference[5])\n",
    "            dice = calcul_dice(pred_array, true_array, pet_array, thresh = s)\n",
    "            inference.append(dice[0])\n",
    "            filename = inference[1]+'_'+str(s)\n",
    "            write_json_file('/media/oncopole/DD 2To/SEGMENTATION/inference/stats/dice', filename, inference)\n",
    "            print(dice)\n",
    "           "
   ]
  },
  {
   "cell_type": "code",
   "execution_count": 4,
   "metadata": {},
   "outputs": [
    {
     "output_type": "stream",
     "name": "stdout",
     "text": [
      "361\n",
      "362\n",
      "363\n",
      "364\n",
      "365\n",
      "366\n",
      "367\n",
      "368\n"
     ]
    }
   ],
   "source": [
    "#TMTV\n",
    "seuil = [0.41, 2.5, 4.0]\n",
    "for inference in dataset[361:] : \n",
    "    print(dataset.index(inference))\n",
    "    pet_array, spacing = get_array_from_nifti(inference[4])\n",
    "    for s in seuil : \n",
    "        if s == 0.41 : \n",
    "            #Watershed\n",
    "            ws_array = applied_watershed_on_inference(inference[6], inference[4])\n",
    "            pred_array = np.transpose(ws_array, (2,1,0))\n",
    "            true_array, _ = get_array_from_nifti(inference[5]) \n",
    "            tmtv_pred, tmtv_true = calcul_tmtv(pred_array, true_array, pet_array, spacing, thresh = s)\n",
    "            inference.append(tmtv_pred)\n",
    "            inference.append(tmtv_true)\n",
    "            filename = inference[1]+'_'+str(s)\n",
    "            write_json_file('/media/oncopole/DD 2To/SEGMENTATION/inference/stats/tmtv', filename, inference)\n",
    "            #print(\"tmtv_pred :\", tmtv_pred)\n",
    "            #print(\"tmtv_true :\", tmtv_true)\n",
    "            \n",
    "        else : \n",
    "            \n",
    "            pred_array, _ = get_array_from_nifti(inference[6])\n",
    "            true_array, _ = get_array_from_nifti(inference[5])\n",
    "            tmtv_pred, tmtv_true = calcul_tmtv(pred_array, true_array, pet_array, spacing, thresh = s)\n",
    "            inference.append(tmtv_pred)\n",
    "            inference.append(tmtv_true)\n",
    "            filename = inference[1]+'_'+str(s)\n",
    "            write_json_file('/media/oncopole/DD 2To/SEGMENTATION/inference/stats/tmtv', filename, inference)\n",
    "            #print(\"tmtv_pred :\", tmtv_pred)\n",
    "            #print(\"tmtv_true :\", tmtv_true)\n",
    "           \n"
   ]
  },
  {
   "cell_type": "code",
   "execution_count": 8,
   "metadata": {},
   "outputs": [
    {
     "output_type": "stream",
     "name": "stdout",
     "text": [
      "369\n['13014101433004', '1.2.276.0.7230010.3.1.2.413926400.1.1607332253.423543', 'pvab', '/media/oncopole/DDArchive/PVAB_NIFTI/13014101433004/PET0/1.2.276.0.7230010.3.1.2.413926400.1.1607332253.423543_nifti_CT.nii', '/media/oncopole/DDArchive/PVAB_NIFTI/13014101433004/PET0/1.2.276.0.7230010.3.1.2.413926400.1.1607332253.423543_nifti_PT.nii', '/media/oncopole/DDArchive/PVAB_NIFTI/13014101433004/PET0/1.2.276.0.7230010.3.1.2.413926400.1.1607332253.423543_nifti_mask_3d.nii', '/media/oncopole/DD 2To/SEGMENTATION/inference/nifti/1.2.276.0.7230010.3.1.2.413926400.1.1607332253.423543_inference_pred.nii', 0.22711320565526924, 0.7003100241129866, 0.9130434782608695]\n"
     ]
    }
   ],
   "source": [
    "#csv_dice \n",
    "\n",
    "directory = '/media/oncopole/DD 2To/SEGMENTATION/inference/stats/dice'\n",
    "liste_json = os.listdir(directory)\n",
    "full_liste = []\n",
    "for json_file in liste_json : \n",
    "    if '_4.0' in json_file : \n",
    "        full_liste.append(os.path.join(directory, json_file))\n",
    "\n",
    "print(len(full_liste)) #must be 369\n",
    "dataset = []\n",
    "for json_file in full_liste : \n",
    "    with open(json_file) as json_file : \n",
    "        reader = json.load(json_file)\n",
    "        dataset.append(reader)\n",
    "print(dataset[0])\n",
    "filename = 'inference_dice_dataset.csv'\n",
    "\n",
    "with open(os.path.join(directory, filename), 'w') as csv_file : \n",
    "    csv_writer = csv.writer(csv_file, delimiter=',', quotechar='\"', quoting=csv.QUOTE_MINIMAL)\n",
    "    csv_writer.writerow([\"patient_id\", \"study_uid\", \"study\", \"ct_img\", \"pet_img\", \"mask_img\", \"pred_img\", \"dice_0.41\", \"dice_2.5\", \"dice_4.0\"])\n",
    "    for serie in dataset: \n",
    "        csv_writer.writerow([serie[0], serie[1], serie[2], serie[3], serie[4], serie[5], serie[6], serie[7], serie[8], serie[9]])"
   ]
  },
  {
   "cell_type": "code",
   "execution_count": 9,
   "metadata": {},
   "outputs": [
    {
     "output_type": "stream",
     "name": "stdout",
     "text": [
      "369\n"
     ]
    }
   ],
   "source": [
    "#csv_tmtv\n",
    "\n",
    "directory = '/media/oncopole/DD 2To/SEGMENTATION/inference/stats/tmtv'\n",
    "liste_json = os.listdir(directory)\n",
    "full_liste = []\n",
    "for json_file in liste_json : \n",
    "    if '_4.0' in json_file : \n",
    "        full_liste.append(os.path.join(directory, json_file))\n",
    "\n",
    "print(len(full_liste)) #must be 369\n",
    "dataset = []\n",
    "for json_file in full_liste : \n",
    "    with open(json_file) as json_file : \n",
    "        reader = json.load(json_file)\n",
    "        dataset.append(reader)\n",
    "filename = 'inference_tmtv_dataset.csv'\n",
    "\n",
    "with open(os.path.join(directory, filename), 'w') as csv_file : \n",
    "    csv_writer = csv.writer(csv_file, delimiter=',', quotechar='\"', quoting=csv.QUOTE_MINIMAL)\n",
    "    csv_writer.writerow([\"patient_id\", \"study_uid\", \"study\", \"ct_img\", \"pet_img\", \"mask_img\", \"pred_img\", \"pred_0.41\", \"true_0.41\", \"pred_2.5\", \"true_2.5\", \"pred_4.0\", \"true_4.0\"])\n",
    "    for serie in dataset: \n",
    "        csv_writer.writerow([serie[0], serie[1], serie[2], serie[3], serie[4], serie[5], serie[6], serie[7], serie[8], serie[9], serie[10], serie[11], serie[12]])"
   ]
  },
  {
   "cell_type": "code",
   "execution_count": null,
   "metadata": {},
   "outputs": [],
   "source": []
  },
  {
   "cell_type": "code",
   "execution_count": null,
   "metadata": {},
   "outputs": [],
   "source": []
  },
  {
   "cell_type": "code",
   "execution_count": null,
   "metadata": {},
   "outputs": [],
   "source": []
  },
  {
   "cell_type": "code",
   "execution_count": null,
   "metadata": {},
   "outputs": [],
   "source": []
  },
  {
   "cell_type": "code",
   "execution_count": null,
   "metadata": {},
   "outputs": [],
   "source": []
  },
  {
   "cell_type": "code",
   "execution_count": null,
   "metadata": {},
   "outputs": [],
   "source": []
  },
  {
   "cell_type": "code",
   "execution_count": null,
   "metadata": {},
   "outputs": [],
   "source": []
  },
  {
   "cell_type": "code",
   "execution_count": null,
   "metadata": {},
   "outputs": [],
   "source": [
    "result_csv_path = '/home/oncopole/Documents/Rudy/DeepOncopole/data/vnet/dice3d_results.csv'"
   ]
  },
  {
   "cell_type": "code",
   "execution_count": null,
   "metadata": {},
   "outputs": [],
   "source": [
    "df = pd.read_csv(result_csv_path,\n",
    "                sep=\"\\t|,\",)"
   ]
  },
  {
   "cell_type": "code",
   "execution_count": null,
   "metadata": {},
   "outputs": [],
   "source": [
    "df.info()"
   ]
  },
  {
   "cell_type": "code",
   "execution_count": null,
   "metadata": {},
   "outputs": [],
   "source": [
    "df_train = df[df['subset']=='train'].copy()\n",
    "df_val = df[df['subset']=='val'].copy()\n",
    "df_test = df[df['subset']=='test'].copy()"
   ]
  },
  {
   "cell_type": "code",
   "execution_count": null,
   "metadata": {},
   "outputs": [],
   "source": [
    "df_train.describe()"
   ]
  },
  {
   "cell_type": "code",
   "execution_count": null,
   "metadata": {},
   "outputs": [],
   "source": [
    "df_train.median()"
   ]
  },
  {
   "cell_type": "code",
   "execution_count": null,
   "metadata": {},
   "outputs": [],
   "source": [
    "df_val.describe()"
   ]
  },
  {
   "cell_type": "code",
   "execution_count": null,
   "metadata": {},
   "outputs": [],
   "source": [
    "df_val.median()"
   ]
  },
  {
   "cell_type": "code",
   "execution_count": null,
   "metadata": {},
   "outputs": [],
   "source": [
    "ax = sns.boxplot(x=\"subset\", y=\"dice_cnn\", data=df)\n",
    "ax = sns.swarmplot(x=\"subset\", y=\"dice_cnn\", data=df, color=\".25\")\n",
    "\n",
    "# ax.set_ylim(0.0, 1.0)\n",
    "plt.show()"
   ]
  },
  {
   "cell_type": "code",
   "execution_count": null,
   "metadata": {},
   "outputs": [],
   "source": [
    "plot_result(df_train)"
   ]
  },
  {
   "cell_type": "code",
   "execution_count": null,
   "metadata": {},
   "outputs": [],
   "source": [
    "plot_result(df_val)"
   ]
  },
  {
   "cell_type": "code",
   "execution_count": null,
   "metadata": {},
   "outputs": [],
   "source": [
    "plot_result(df_test)"
   ]
  }
 ],
 "metadata": {
  "kernelspec": {
   "display_name": "Python 3",
   "language": "python",
   "name": "python3"
  },
  "language_info": {
   "codemirror_mode": {
    "name": "ipython",
    "version": 3
   },
   "file_extension": ".py",
   "mimetype": "text/x-python",
   "name": "python",
   "nbconvert_exporter": "python",
   "pygments_lexer": "ipython3",
   "version": "3.8.5"
  }
 },
 "nbformat": 4,
 "nbformat_minor": 4
}