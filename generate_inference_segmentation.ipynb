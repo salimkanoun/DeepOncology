{
 "cells": [
  {
   "cell_type": "code",
   "execution_count": null,
   "metadata": {},
   "outputs": [],
   "source": [
    "from experiments.exp_3d.preprocessing import *\n",
    "from losses.Metrics import metric_dice\n",
    "\n",
    "from lib.visualize import *\n",
    "from experiments.exp_3d.inference import Pipeline\n",
    "import matplotlib.pyplot as plt\n",
    "import pandas as pd \n",
    "import json\n",
    "import csv\n",
    "\n",
    "import pydicom\n",
    "import pydicom_seg\n",
    "import SimpleITK as sitk\n",
    "from library_dicom.export_segmentation.ExportSegmentation_Writer import ExportSegmentation_Writer"
   ]
  },
  {
   "cell_type": "code",
   "execution_count": null,
   "metadata": {},
   "outputs": [],
   "source": [
    "target_size = (128, 128, 256)\n",
    "target_spacing = (4.0, 4.0, 4.0)\n",
    "target_direction = (1,0,0,0,1,0,0,0,1)\n",
    "model_path = '/media/oncopole/DD 2To/SEGMENTATION/training/20210429_11h17m32/trained_model_20210429_11h17_32.h5'\n",
    "target_origin = None\n",
    "from_pp = False\n",
    "\n",
    "csv_path = '/media/oncopole/DD 2To/SEGMENTATION/inference/inference_dataset_V5.csv'\n",
    "\n",
    "\n",
    "df = pd.read_csv(csv_path)\n",
    "dataset = df[['patient_id', 'study', 'study_id', 'ct_img', 'pet_img', 'mask_img']].to_dict('records')\n",
    "print(\"\")\n",
    "pipeline = Pipeline(target_size, target_spacing, target_direction, model_path=model_path, target_origin=None, from_pp=False)\n",
    "print(\"Pipeline object initialized\")"
   ]
  },
  {
   "cell_type": "code",
   "execution_count": null,
   "metadata": {},
   "outputs": [],
   "source": [
    "len(dataset[0:100])"
   ]
  },
  {
   "cell_type": "code",
   "execution_count": null,
   "metadata": {},
   "outputs": [],
   "source": [
    "from library_dicom.dicom_processor.tools.create_mip import *\n",
    "import time \n",
    "\n",
    "start_time = time.time()\n",
    "directory = '/media/oncopole/DD 2To/SEGMENTATION/inference'\n",
    "nifti_directory = '/media/oncopole/DD 2To/SEGMENTATION/inference/nifti'\n",
    "vmin = 0 \n",
    "vmax = 10 \n",
    "liste_paths_images = []\n",
    "for count, img_path in enumerate(dataset[0:100]) : \n",
    "    print(count)\n",
    "    study_uid = img_path['study_id']\n",
    "    patient_id = img_path['patient_id']\n",
    "    study = img_path['study']\n",
    "    pet_img = sitk.ReadImage(img_path['pet_img'], sitk.sitkFloat32)\n",
    "    pet_spacing = pet_img.GetSpacing()\n",
    "    pet_size = pet_img.GetSize()\n",
    "    pet_origin = pet_img.GetOrigin()\n",
    "    pet_direction = pet_img.GetDirection()\n",
    "    pet_array = sitk.GetArrayFromImage(pet_img)\n",
    "\n",
    "\n",
    "    pred_img = pipeline(img_path)\n",
    "    #save predictions as nifti \n",
    "    \n",
    "    pred_img.SetSpacing(pet_spacing)\n",
    "    pred_img.SetDirection(pet_direction)\n",
    "    pred_img.SetOrigin(pet_origin)\n",
    "    sitk.WriteImage(pred_img, nifti_directory+'/'+study_uid+'_inference_pred.nii')\n",
    "    img_path['pred_img'] = nifti_directory+'/'+study_uid+'_inference_pred.nii'\n",
    "\n",
    "    pred_array = sitk.GetArrayFromImage(pred_img)\n",
    "\n",
    "    #generate pdf with mip inference\n",
    "    for type_ in range(1,3):\n",
    "        filename = inference_pet_projection(pet_array, pred_array, study_uid, patient_id, study,  axis=type_, directory=directory , vmin=vmin, vmax=vmax)\n",
    "        liste_paths_images.append(filename)\n",
    "    \n",
    "print(\"--- %s seconds ---\" % (time.time() - start_time))"
   ]
  },
  {
   "cell_type": "code",
   "execution_count": null,
   "metadata": {},
   "outputs": [],
   "source": [
    "from library_dicom.dicom_processor.tools.folders import * \n",
    "\n",
    "write_json_file(directory, 'liste_images_paths', liste_paths_images)"
   ]
  },
  {
   "cell_type": "code",
   "execution_count": null,
   "metadata": {},
   "outputs": [],
   "source": [
    "generate_inference_pet_projection_pdf(liste_paths_images, directory, pdf_filename='inference')"
   ]
  },
  {
   "cell_type": "code",
   "execution_count": null,
   "metadata": {},
   "outputs": [],
   "source": [
    "directory = '/media/oncopole/DD 2To/SEGMENTATION/inference'\n",
    "filename = 'prediction_dataset.csv'\n",
    "\n",
    "with open(os.path.join(directory, filename), 'w') as csv_file : \n",
    "    csv_writer = csv.writer(csv_file, delimiter=',', quotechar='\"', quoting=csv.QUOTE_MINIMAL)\n",
    "    csv_writer.writerow([ \"patient_id\", \"study_id\", \"study\", \"ct_img\", \"pet_img\", \"mask_img\", 'pred_img'])\n",
    "    for serie in dataset: \n",
    "        csv_writer.writerow([serie['patient_id'], serie['study_id'], serie['study'], serie['ct_img'], serie['pet_img'], serie['mask_img'], serie['pred_img']])"
   ]
  },
  {
   "cell_type": "code",
   "execution_count": null,
   "metadata": {},
   "outputs": [],
   "source": []
  },
  {
   "cell_type": "code",
   "execution_count": null,
   "metadata": {},
   "outputs": [],
   "source": [
    "#Dicom SEG \n",
    "\n",
    "segmentation = pred_img\n",
    "pet_path = '/media/deeplearning/LACIE SHARE/Olivier_Morel_sarcome/1.2.250.1.59.453.859.92444169.1516.1370594209.2.2.8'\n",
    "filename = 'sarcome_dicom_seg_v2.dcm'\n",
    "directory_path = '/media/deeplearning/LACIE SHARE/Olivier_Morel_sarcome'\n",
    "export_objet = ExportSegmentation_Writer(segmentation, segmentation_type='img', serie_path = pet_path, mode='dicomseg')\n",
    "export_objet.generate_dicom(filename = filename, directory_path = directory_path)"
   ]
  },
  {
   "cell_type": "code",
   "execution_count": null,
   "metadata": {},
   "outputs": [],
   "source": [
    "#DICOM RTSTRUCT \n",
    "from library_dicom.export_segmentation.ExportSegmentation_Writer import ExportSegmentation_Writer\n",
    "from library_dicom.dicom_processor.tools.folders import *\n",
    "from library_dicom.export_segmentation.tools.rtss_writer_tools import *\n",
    "from skimage.measure import label\n",
    "\n",
    "#Clean the mask + label \n",
    "\n",
    "\n",
    "segmentation = pred_img\n",
    "segmentation =  sitk.GetArrayFromImage(segmentation)\n",
    "segmentation = clean_mask(segmentation)\n",
    "labelled = label(segmentation)\n",
    "#generate rtstruct file \n",
    "pet_path = '/media/deeplearning/LACIE SHARE/Olivier_Morel_sarcome/1.2.250.1.59.453.859.92444169.1516.1370594209.2.2.8'\n",
    "export_objet = ExportSegmentation_Writer(labelled, segmentation_type ='matrix', serie_path = pet_path, mode = 'rtstruct')\n",
    "filename = 'sarcome_rtstruct_v2.dcm'\n",
    "directory_path = '/media/deeplearning/LACIE SHARE/Olivier_Morel_sarcome'\n",
    "export_objet.generate_dicom(filename, directory_path)\n"
   ]
  }
 ],
 "metadata": {
  "kernelspec": {
   "display_name": "Python 3",
   "language": "python",
   "name": "python3"
  },
  "language_info": {
   "codemirror_mode": {
    "name": "ipython",
    "version": 3
   },
   "file_extension": ".py",
   "mimetype": "text/x-python",
   "name": "python",
   "nbconvert_exporter": "python",
   "pygments_lexer": "ipython3",
   "version": "3.8.5"
  }
 },
 "nbformat": 4,
 "nbformat_minor": 2
}