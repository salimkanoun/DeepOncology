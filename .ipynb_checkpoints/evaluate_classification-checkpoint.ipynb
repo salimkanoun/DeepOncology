{
 "cells": [
  {
   "cell_type": "code",
   "execution_count": 5,
   "metadata": {},
   "outputs": [],
   "source": [
    "import tensorflow as tf \n",
    "from classification.pre_process.Prep_CSV import Prep_CSV\n",
    "from classification.pre_process.Preprocessing import Preprocessing \n",
    "from utils.predict_process import *\n",
    "\n",
    "from sklearn.model_selection import train_test_split"
   ]
  },
  {
   "cell_type": "code",
   "execution_count": 6,
   "metadata": {},
   "outputs": [],
   "source": [
    "model_path = '/media/deeplearning/78ca2911-9e9f-4f78-b80a-848024b95f92/CLASSIFICATION/Classification/classic_model_test/classification_trained_model'\n",
    "\n",
    "model = tf.keras.models.load_model(model_path)"
   ]
  },
  {
   "cell_type": "code",
   "execution_count": 7,
   "metadata": {},
   "outputs": [
    {
     "name": "stdout",
     "output_type": "stream",
     "text": [
      "Model: \"classic_model\"\n",
      "__________________________________________________________________________________________________\n",
      "Layer (type)                    Output Shape         Param #     Connected to                     \n",
      "==================================================================================================\n",
      "input_1 (InputLayer)            [(None, 503, 136, 1) 0                                            \n",
      "__________________________________________________________________________________________________\n",
      "conv1 (Conv2D)                  (None, 497, 130, 32) 1600        input_1[0][0]                    \n",
      "__________________________________________________________________________________________________\n",
      "max_pool1 (MaxPooling2D)        (None, 248, 65, 32)  0           conv1[0][0]                      \n",
      "__________________________________________________________________________________________________\n",
      "conv2 (Conv2D)                  (None, 246, 63, 64)  18496       max_pool1[0][0]                  \n",
      "__________________________________________________________________________________________________\n",
      "max_pool2 (MaxPooling2D)        (None, 123, 31, 64)  0           conv2[0][0]                      \n",
      "__________________________________________________________________________________________________\n",
      "conv3 (Conv2D)                  (None, 121, 29, 64)  36928       max_pool2[0][0]                  \n",
      "__________________________________________________________________________________________________\n",
      "max_pool3 (MaxPooling2D)        (None, 60, 14, 64)   0           conv3[0][0]                      \n",
      "__________________________________________________________________________________________________\n",
      "flatten (Flatten)               (None, 53760)        0           max_pool3[0][0]                  \n",
      "__________________________________________________________________________________________________\n",
      "dense_1 (Dense)                 (None, 256)          13762816    flatten[0][0]                    \n",
      "__________________________________________________________________________________________________\n",
      "dropout_1 (Dropout)             (None, 256)          0           dense_1[0][0]                    \n",
      "__________________________________________________________________________________________________\n",
      "dense_2 (Dense)                 (None, 128)          32896       dropout_1[0][0]                  \n",
      "__________________________________________________________________________________________________\n",
      "dropout_2 (Dropout)             (None, 128)          0           dense_2[0][0]                    \n",
      "__________________________________________________________________________________________________\n",
      "head (Dense)                    (None, 2)            258         dropout_2[0][0]                  \n",
      "__________________________________________________________________________________________________\n",
      "leg (Dense)                     (None, 3)            387         dropout_2[0][0]                  \n",
      "__________________________________________________________________________________________________\n",
      "right_arm (Dense)               (None, 2)            258         dropout_2[0][0]                  \n",
      "__________________________________________________________________________________________________\n",
      "left_arm (Dense)                (None, 2)            258         dropout_2[0][0]                  \n",
      "==================================================================================================\n",
      "Total params: 13,853,897\n",
      "Trainable params: 13,853,897\n",
      "Non-trainable params: 0\n",
      "__________________________________________________________________________________________________\n"
     ]
    }
   ],
   "source": [
    "model.summary()"
   ]
  },
  {
   "cell_type": "code",
   "execution_count": null,
   "metadata": {},
   "outputs": [],
   "source": []
  },
  {
   "cell_type": "code",
   "execution_count": null,
   "metadata": {},
   "outputs": [],
   "source": []
  },
  {
   "cell_type": "code",
   "execution_count": null,
   "metadata": {},
   "outputs": [],
   "source": []
  },
  {
   "cell_type": "code",
   "execution_count": 4,
   "metadata": {},
   "outputs": [
    {
     "name": "stdout",
     "output_type": "stream",
     "text": [
      "WARNING:tensorflow:From /home/deeplearning/.local/lib/python3.8/site-packages/tensorflow/python/training/tracking/tracking.py:111: Model.state_updates (from tensorflow.python.keras.engine.training) is deprecated and will be removed in a future version.\n",
      "Instructions for updating:\n",
      "This property should not be used in TensorFlow 2.0, as updates are applied automatically.\n",
      "WARNING:tensorflow:From /home/deeplearning/.local/lib/python3.8/site-packages/tensorflow/python/training/tracking/tracking.py:111: Layer.updates (from tensorflow.python.keras.engine.base_layer) is deprecated and will be removed in a future version.\n",
      "Instructions for updating:\n",
      "This property should not be used in TensorFlow 2.0, as updates are applied automatically.\n",
      "INFO:tensorflow:Assets written to: /media/deeplearning/78ca2911-9e9f-4f78-b80a-848024b95f92/CLASSIFICATION/Classification/classic_model_test/model_classification_trained/assets\n"
     ]
    }
   ],
   "source": [
    "model.save('/media/deeplearning/78ca2911-9e9f-4f78-b80a-848024b95f92/CLASSIFICATION/Classification/classic_model_test/model_classification_trained')"
   ]
  },
  {
   "cell_type": "code",
   "execution_count": null,
   "metadata": {
    "tags": [
     "outputPrepend"
    ]
   },
   "outputs": [],
   "source": [
    "model.summary()"
   ]
  },
  {
   "cell_type": "code",
   "execution_count": null,
   "metadata": {
    "tags": []
   },
   "outputs": [],
   "source": [
    "json_path = '/media/deeplearning/78ca2911-9e9f-4f78-b80a-848024b95f92/result.json'\n",
    "nifti_directory = '/media/deeplearning/78ca2911-9e9f-4f78-b80a-848024b95f92'\n",
    "objet = Prep_CSV(json_path)\n",
    "objet.result_csv(nifti_directory)\n",
    "print(objet.csv_result_path)\n",
    "\n",
    "prep_objet = Preprocessing(objet.csv_result_path)\n",
    "X, y = prep_objet.normalize_encoding_dataset()\n",
    "X_train, X_test, y_train, y_test = train_test_split(X,y, random_state = 42, test_size = 0.15) #random state \n",
    "X_train, X_val, y_train, y_val = train_test_split(X_train, y_train, random_state = 42, test_size = 0.15)\n",
    "print(\"size of X_train : \", X_train.shape)\n",
    "print(\"size of y_train : \",y_train.shape)\n",
    "print(\"\")\n",
    "print(\"size of X_test : \", X_test.shape)\n",
    "print(\"size of y_test : \",y_test.shape)\n",
    "print(\"\")\n",
    "print(\"size of X_val : \", X_val.shape)\n",
    "print(\"size of y_val : \",y_val.shape)"
   ]
  },
  {
   "cell_type": "code",
   "execution_count": null,
   "metadata": {},
   "outputs": [],
   "source": [
    "#dataset \n",
    "\n",
    "import pandas as pd \n",
    "import csv \n",
    "\n",
    "csv_path = '/media/deeplearning/78ca2911-9e9f-4f78-b80a-848024b95f92/classif_test_png.csv'\n",
    "with open(csv_path, 'r') as csv_file :\n",
    "    reader = csv.reader(csv_file, delimiter = ',') #liste pour chaque ligne \n",
    "    dataset = []\n",
    "    for row in reader :\n",
    "        dataset.append(row)\n",
    "\n",
    "del dataset[0]"
   ]
  },
  {
   "cell_type": "code",
   "execution_count": null,
   "metadata": {},
   "outputs": [],
   "source": [
    "#evaluate model on test set \n",
    "\n",
    "model.metrics_names"
   ]
  },
  {
   "cell_type": "code",
   "execution_count": null,
   "metadata": {},
   "outputs": [],
   "source": [
    "result = model.evaluate(X_test,  {'head': y_test[:,0], \n",
    "                                    'leg': y_test[:,1],\n",
    "                                    'right_arm' : y_test[:,2],\n",
    "                                    'left_arm' : y_test[:,3] ,\n",
    "                                    })\n",
    "dict(zip(model.metrics_names, result))        "
   ]
  },
  {
   "cell_type": "code",
   "execution_count": null,
   "metadata": {},
   "outputs": [],
   "source": [
    "#prediction \n",
    "pred = model.predict(X_test)"
   ]
  },
  {
   "cell_type": "code",
   "execution_count": null,
   "metadata": {},
   "outputs": [],
   "source": [
    "predi = decodage_predictions(pred)\n",
    "print(len(predi))\n",
    "print(predi[0])"
   ]
  },
  {
   "cell_type": "code",
   "execution_count": null,
   "metadata": {},
   "outputs": [],
   "source": [
    "truth = decodage_truth(y_test)\n",
    "plt.imshow(X_test[0][:,:,0])\n",
    "plt.show()\n",
    "print(y_test[0])\n",
    "print(truth[0])"
   ]
  },
  {
   "cell_type": "code",
   "execution_count": null,
   "metadata": {},
   "outputs": [],
   "source": [
    "directory = '/home/deeplearning/Deep_Learning_result/classic_model_test'"
   ]
  },
  {
   "cell_type": "code",
   "execution_count": null,
   "metadata": {},
   "outputs": [],
   "source": [
    "affichage(X_test, predi, truth, directory)"
   ]
  },
  {
   "cell_type": "code",
   "execution_count": null,
   "metadata": {},
   "outputs": [],
   "source": []
  }
 ],
 "metadata": {
  "kernelspec": {
   "display_name": "Python 3.8.5 64-bit",
   "language": "python",
   "name": "python38564bit9a8409779cd04c3cbd0c5f1e859a644e"
  },
  "language_info": {
   "codemirror_mode": {
    "name": "ipython",
    "version": 3
   },
   "file_extension": ".py",
   "mimetype": "text/x-python",
   "name": "python",
   "nbconvert_exporter": "python",
   "pygments_lexer": "ipython3",
   "version": "3.8.5"
  },
  "metadata": {
   "interpreter": {
    "hash": "31f2aee4e71d21fbe5cf8b01ff0e069b9275f58929596ceb00d14d90e3e16cd6"
   }
  }
 },
 "nbformat": 4,
 "nbformat_minor": 2
}
