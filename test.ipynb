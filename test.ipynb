{
 "metadata": {
  "language_info": {
   "codemirror_mode": {
    "name": "ipython",
    "version": 3
   },
   "file_extension": ".py",
   "mimetype": "text/x-python",
   "name": "python",
   "nbconvert_exporter": "python",
   "pygments_lexer": "ipython3",
   "version": "3.8.5"
  },
  "orig_nbformat": 2,
  "kernelspec": {
   "name": "python3",
   "display_name": "Python 3.8.5 64-bit ('base': conda)",
   "metadata": {
    "interpreter": {
     "hash": "6a0b6c04207aa6f5c33e08335e377a5793c5a1abe8e179f13df17cfd923ec7d1"
    }
   }
  }
 },
 "nbformat": 4,
 "nbformat_minor": 2,
 "cells": [
  {
   "cell_type": "code",
   "execution_count": 1,
   "metadata": {},
   "outputs": [],
   "source": [
    "import os\n",
    "import csv\n",
    "import pandas as pd\n",
    "import numpy as np\n",
    "from tools.segmentation.stats import *\n",
    "import matplotlib.pyplot as plt\n",
    "import seaborn as sns\n",
    "from mrcnn import visualize\n",
    "from sklearn.metrics import r2_score\n",
    "from scipy.stats import pearsonr\n",
    "\n",
    "from dicom_to_cnn.tools.cleaning_dicom.folders import * "
   ]
  },
  {
   "cell_type": "code",
   "execution_count": 2,
   "metadata": {},
   "outputs": [
    {
     "output_type": "execute_result",
     "data": {
      "text/plain": [
       "       PATIENT_ID   PET                                          STUDY_UID  \\\n",
       "0  13011101331015  pet0  1.2.124.113532.10.149.172.5.20131107.93455.772...   \n",
       "1  13011101051001  pet0  1.2.124.113532.172.16.25.2.20110720.111654.943617   \n",
       "2  13011101431006  pet0    1.2.124.113532.172.16.25.2.20120125.456.1038547   \n",
       "3  13011101431010  pet0    1.2.124.113532.172.16.25.2.20120605.739.1104125   \n",
       "4  13011101431009  pet0    1.2.124.113532.172.16.25.2.20120606.612.1104622   \n",
       "\n",
       "                                            NIFTI_CT  \\\n",
       "0  /media/oncopole/d508267f-cc7d-45e2-ae24-9456e0...   \n",
       "1  /media/oncopole/d508267f-cc7d-45e2-ae24-9456e0...   \n",
       "2  /media/oncopole/d508267f-cc7d-45e2-ae24-9456e0...   \n",
       "3  /media/oncopole/d508267f-cc7d-45e2-ae24-9456e0...   \n",
       "4  /media/oncopole/d508267f-cc7d-45e2-ae24-9456e0...   \n",
       "\n",
       "                                           NIFTI_PET  \\\n",
       "0  /media/oncopole/d508267f-cc7d-45e2-ae24-9456e0...   \n",
       "1  /media/oncopole/d508267f-cc7d-45e2-ae24-9456e0...   \n",
       "2  /media/oncopole/d508267f-cc7d-45e2-ae24-9456e0...   \n",
       "3  /media/oncopole/d508267f-cc7d-45e2-ae24-9456e0...   \n",
       "4  /media/oncopole/d508267f-cc7d-45e2-ae24-9456e0...   \n",
       "\n",
       "                                          NIFTI_MASK STUDY  \n",
       "0  /media/oncopole/d508267f-cc7d-45e2-ae24-9456e0...   ahl  \n",
       "1  /media/oncopole/d508267f-cc7d-45e2-ae24-9456e0...   ahl  \n",
       "2  /media/oncopole/d508267f-cc7d-45e2-ae24-9456e0...   ahl  \n",
       "3  /media/oncopole/d508267f-cc7d-45e2-ae24-9456e0...   ahl  \n",
       "4  /media/oncopole/d508267f-cc7d-45e2-ae24-9456e0...   ahl  "
      ],
      "text/html": "<div>\n<style scoped>\n    .dataframe tbody tr th:only-of-type {\n        vertical-align: middle;\n    }\n\n    .dataframe tbody tr th {\n        vertical-align: top;\n    }\n\n    .dataframe thead th {\n        text-align: right;\n    }\n</style>\n<table border=\"1\" class=\"dataframe\">\n  <thead>\n    <tr style=\"text-align: right;\">\n      <th></th>\n      <th>PATIENT_ID</th>\n      <th>PET</th>\n      <th>STUDY_UID</th>\n      <th>NIFTI_CT</th>\n      <th>NIFTI_PET</th>\n      <th>NIFTI_MASK</th>\n      <th>STUDY</th>\n    </tr>\n  </thead>\n  <tbody>\n    <tr>\n      <th>0</th>\n      <td>13011101331015</td>\n      <td>pet0</td>\n      <td>1.2.124.113532.10.149.172.5.20131107.93455.772...</td>\n      <td>/media/oncopole/d508267f-cc7d-45e2-ae24-9456e0...</td>\n      <td>/media/oncopole/d508267f-cc7d-45e2-ae24-9456e0...</td>\n      <td>/media/oncopole/d508267f-cc7d-45e2-ae24-9456e0...</td>\n      <td>ahl</td>\n    </tr>\n    <tr>\n      <th>1</th>\n      <td>13011101051001</td>\n      <td>pet0</td>\n      <td>1.2.124.113532.172.16.25.2.20110720.111654.943617</td>\n      <td>/media/oncopole/d508267f-cc7d-45e2-ae24-9456e0...</td>\n      <td>/media/oncopole/d508267f-cc7d-45e2-ae24-9456e0...</td>\n      <td>/media/oncopole/d508267f-cc7d-45e2-ae24-9456e0...</td>\n      <td>ahl</td>\n    </tr>\n    <tr>\n      <th>2</th>\n      <td>13011101431006</td>\n      <td>pet0</td>\n      <td>1.2.124.113532.172.16.25.2.20120125.456.1038547</td>\n      <td>/media/oncopole/d508267f-cc7d-45e2-ae24-9456e0...</td>\n      <td>/media/oncopole/d508267f-cc7d-45e2-ae24-9456e0...</td>\n      <td>/media/oncopole/d508267f-cc7d-45e2-ae24-9456e0...</td>\n      <td>ahl</td>\n    </tr>\n    <tr>\n      <th>3</th>\n      <td>13011101431010</td>\n      <td>pet0</td>\n      <td>1.2.124.113532.172.16.25.2.20120605.739.1104125</td>\n      <td>/media/oncopole/d508267f-cc7d-45e2-ae24-9456e0...</td>\n      <td>/media/oncopole/d508267f-cc7d-45e2-ae24-9456e0...</td>\n      <td>/media/oncopole/d508267f-cc7d-45e2-ae24-9456e0...</td>\n      <td>ahl</td>\n    </tr>\n    <tr>\n      <th>4</th>\n      <td>13011101431009</td>\n      <td>pet0</td>\n      <td>1.2.124.113532.172.16.25.2.20120606.612.1104622</td>\n      <td>/media/oncopole/d508267f-cc7d-45e2-ae24-9456e0...</td>\n      <td>/media/oncopole/d508267f-cc7d-45e2-ae24-9456e0...</td>\n      <td>/media/oncopole/d508267f-cc7d-45e2-ae24-9456e0...</td>\n      <td>ahl</td>\n    </tr>\n  </tbody>\n</table>\n</div>"
     },
     "metadata": {},
     "execution_count": 2
    }
   ],
   "source": [
    "csv_pred_path = '/media/oncopole/d508267f-cc7d-45e2-ae24-9456e005a01f/SEGMENTATION/SEG_NIFTI_PATH_V6.csv'\n",
    "df = pd.read_csv(csv_pred_path)\n",
    "df.head()"
   ]
  },
  {
   "cell_type": "code",
   "execution_count": 4,
   "metadata": {},
   "outputs": [
    {
     "output_type": "stream",
     "name": "stdout",
     "text": [
      "['ahl', 'gained', 'relevance', 'remarc', 'flip', 'lnh073b']\n[703, 573, 277, 217, 125, 61]\nahl\n35.94 % \n\ngained\n29.29 % \n\nrelevance\n14.16 % \n\nremarc\n11.09 % \n\nflip\n6.39 % \n\nlnh073b\n3.12 % \n\n"
     ]
    }
   ],
   "source": [
    "study = []\n",
    "number = []\n",
    "for idx,name in enumerate(df['STUDY'].value_counts().index.tolist()):\n",
    "    #print('Study:', name)\n",
    "    study.append(name)\n",
    "    #print('Number :', df['study'].value_counts()[idx])\n",
    "    number.append(df['STUDY'].value_counts()[idx])\n",
    "print(study)\n",
    "print(number)\n",
    "\n",
    "percent = []\n",
    "for s, n in zip(study, number):\n",
    "    print(s)\n",
    "    print(\"{} % \".format(round(n/np.sum(number)*100,2)))\n",
    "    print('')\n",
    "    percent.append(round(n/np.sum(number)*100,2))"
   ]
  },
  {
   "cell_type": "code",
   "execution_count": 9,
   "metadata": {},
   "outputs": [],
   "source": [
    "import csv\n",
    "path = '/media/oncopole/d508267f-cc7d-45e2-ae24-9456e005a01f/NIFTI/PVAB_NIFTI/PVAB_NIFTI_V2.csv'\n",
    "with open(path, newline='') as csvfile:\n",
    "    reader = csv.reader(csvfile, delimiter=',', quotechar=',')\n",
    "    dataset = []\n",
    "    for row in reader:\n",
    "        dataset.append(row)\n",
    "\n",
    "del dataset[0]"
   ]
  },
  {
   "cell_type": "code",
   "execution_count": 10,
   "metadata": {},
   "outputs": [
    {
     "output_type": "execute_result",
     "data": {
      "text/plain": [
       "['13014101023001',\n",
       " '13014101023001',\n",
       " '1.2.276.0.7230010.3.1.2.380371712.1.1605271362.777715',\n",
       " 'PET0',\n",
       " '/media/oncopole/LACIE SHARE/PVAB/NIFTI/13014101023001/PET0/1.2.276.0.7230010.3.1.2.380371712.1.1605271362.777715_nifti_CT.nii',\n",
       " '/media/oncopole/LACIE SHARE/PVAB/NIFTI/13014101023001/PET0/1.2.276.0.7230010.3.1.2.380371712.1.1605271362.777715_nifti_PT.nii',\n",
       " '/media/oncopole/LACIE SHARE/PVAB/NIFTI/13014101023001/PET0/1.2.276.0.7230010.3.1.2.380371712.1.1605271362.777715_nifti_mask.nii']"
      ]
     },
     "metadata": {},
     "execution_count": 10
    }
   ],
   "source": [
    "dataset[0]"
   ]
  },
  {
   "cell_type": "code",
   "execution_count": 11,
   "metadata": {},
   "outputs": [],
   "source": [
    "for row in dataset : \n",
    "    for i in range(4,7):\n",
    "        x = row[i].replace('/media/oncopole/LACIE SHARE/PVAB/NIFTI', '/media/oncopole/d508267f-cc7d-45e2-ae24-9456e005a01f/NIFTI/PVAB_NIFTI')\n",
    "        row[i] = x"
   ]
  },
  {
   "cell_type": "code",
   "execution_count": 12,
   "metadata": {},
   "outputs": [
    {
     "output_type": "execute_result",
     "data": {
      "text/plain": [
       "['13014101023001',\n",
       " '13014101023001',\n",
       " '1.2.276.0.7230010.3.1.2.380371712.1.1605271362.777715',\n",
       " 'PET0',\n",
       " '/media/oncopole/d508267f-cc7d-45e2-ae24-9456e005a01f/NIFTI/PVAB_NIFTI/13014101023001/PET0/1.2.276.0.7230010.3.1.2.380371712.1.1605271362.777715_nifti_CT.nii',\n",
       " '/media/oncopole/d508267f-cc7d-45e2-ae24-9456e005a01f/NIFTI/PVAB_NIFTI/13014101023001/PET0/1.2.276.0.7230010.3.1.2.380371712.1.1605271362.777715_nifti_PT.nii',\n",
       " '/media/oncopole/d508267f-cc7d-45e2-ae24-9456e005a01f/NIFTI/PVAB_NIFTI/13014101023001/PET0/1.2.276.0.7230010.3.1.2.380371712.1.1605271362.777715_nifti_mask.nii']"
      ]
     },
     "metadata": {},
     "execution_count": 12
    }
   ],
   "source": [
    "dataset[0]"
   ]
  },
  {
   "cell_type": "code",
   "execution_count": 13,
   "metadata": {},
   "outputs": [],
   "source": [
    "directory = '/media/oncopole/d508267f-cc7d-45e2-ae24-9456e005a01f/NIFTI/PVAB_NIFTI'\n",
    "filename = 'PVAB_NIFTI_V3.csv'\n",
    "\n",
    "with open(os.path.join(directory, filename), 'w') as csv_file : \n",
    "    csv_writer = csv.writer(csv_file, delimiter=',', quotechar='\"', quoting=csv.QUOTE_MINIMAL)\n",
    "    csv_writer.writerow([\"PATIENT_ID\", \"PET\", \"STUDY_UID\", \"NIFTI_CT\", \"NIFTI_PET\", \"NIFTI_MASK\", \"STUDY\"])\n",
    "    for serie in dataset: \n",
    "        #serie = [path_1, modal_1, path_2, modal_2, study_uid, type_, patient_id, nifti_CT, nifti_PET, nifti_MASK]\n",
    "        csv_writer.writerow([serie[1], serie[3], serie[2], serie[-3], serie[-2], serie[-1], 'pvab'])"
   ]
  },
  {
   "cell_type": "code",
   "execution_count": null,
   "metadata": {},
   "outputs": [],
   "source": []
  },
  {
   "cell_type": "code",
   "execution_count": null,
   "metadata": {},
   "outputs": [],
   "source": []
  },
  {
   "cell_type": "code",
   "execution_count": null,
   "metadata": {},
   "outputs": [],
   "source": []
  }
 ]
}