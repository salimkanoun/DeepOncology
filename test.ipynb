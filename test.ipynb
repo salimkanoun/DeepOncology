{
 "metadata": {
  "language_info": {
   "codemirror_mode": {
    "name": "ipython",
    "version": 3
   },
   "file_extension": ".py",
   "mimetype": "text/x-python",
   "name": "python",
   "nbconvert_exporter": "python",
   "pygments_lexer": "ipython3",
   "version": "3.8.5"
  },
  "orig_nbformat": 2,
  "kernelspec": {
   "name": "python3",
   "display_name": "Python 3.8.5 64-bit ('base': conda)",
   "metadata": {
    "interpreter": {
     "hash": "6a0b6c04207aa6f5c33e08335e377a5793c5a1abe8e179f13df17cfd923ec7d1"
    }
   }
  }
 },
 "nbformat": 4,
 "nbformat_minor": 2,
 "cells": [
  {
   "cell_type": "code",
   "execution_count": 6,
   "metadata": {},
   "outputs": [],
   "source": [
    "import csv \n",
    "\n",
    "csv_path = 'csv classification with study uid and arm head legs results'\n",
    "with open(csv_path, 'r') as csvfile:\n",
    "    reader = csv.reader(csvfile, delimiter=',')\n",
    "    dataset = []\n",
    "    for row in reader:\n",
    "        dataset.append(row)\n",
    "del dataset[0] #remove header !"
   ]
  },
  {
   "cell_type": "code",
   "execution_count": 7,
   "metadata": {},
   "outputs": [
    {
     "output_type": "stream",
     "name": "stdout",
     "text": [
      "1956\n"
     ]
    }
   ],
   "source": [
    "csv_path_ahl = 'ahl nifti results'\n",
    "with open(csv_path_ahl, 'r') as csvfile:\n",
    "    reader = csv.reader(csvfile, delimiter=',')\n",
    "    dataset_ahl = []\n",
    "    for row in reader:\n",
    "        dataset_ahl.append(row)\n",
    "del dataset_ahl[0] #remove header !\n",
    "\n",
    "\n",
    "csv_path_gained = 'gained nifti results'\n",
    "with open(csv_path_gained, 'r') as csvfile:\n",
    "    reader = csv.reader(csvfile, delimiter=',')\n",
    "    dataset_gained = []\n",
    "    for row in reader:\n",
    "        dataset_gained.append(row)\n",
    "del dataset_gained[0] #remove header !"
   ]
  },
  {
   "cell_type": "code",
   "execution_count": null,
   "metadata": {},
   "outputs": [],
   "source": [
    "dataset_reunite = dataset_ahl+dataset_gained \n",
    "\n",
    "for row in dataset : \n",
    "    study_uid = row[1]\n",
    "    for patient in dataset_reunite : \n",
    "        if study_uid == patient[2] : \n",
    "            row.append(patient[5]) #ajouter chemin CT nifti "
   ]
  },
  {
   "cell_type": "code",
   "execution_count": null,
   "metadata": {},
   "outputs": [],
   "source": [
    "directory = ''\n",
    "filename = 'classification_dataset.csv'\n",
    "\n",
    "with open(os.path.join(directory, filename), 'w') as csv_file : \n",
    "    csv_writer = csv.writer(csv_file, delimiter=',', quotechar='\"', quoting=csv.QUOTE_MINIMAL)\n",
    "    csv_writer.writerow([\"PATIENT_ID\", \"STUDY_UID\", \"NIFTI_CT\", \"RIGHT_ARM\", \"LEFT_ARM\", \"HEAD\", \"LEGS\"])\n",
    "    for serie in dataset: \n",
    "        #serie = [path_1, modal_1, path_2, modal_2, study_uid, type_, patient_id, nifti_CT, nifti_PET, nifti_MASK]\n",
    "        csv_writer.writerow([   ])"
   ]
  },
  {
   "cell_type": "code",
   "execution_count": null,
   "metadata": {},
   "outputs": [],
   "source": []
  },
  {
   "cell_type": "code",
   "execution_count": 8,
   "metadata": {},
   "outputs": [
    {
     "output_type": "execute_result",
     "data": {
      "text/plain": [
       "'/media/oncopole/d508267f-cc7d-45e2-ae24-9456e005a01f/NIFTI/AHL_NIFTI/13011101331015/pet0/1.2.124.113532.10.149.172.5.20131107.93455.7725981_nifti_CT.nii'"
      ]
     },
     "metadata": {},
     "execution_count": 8
    }
   ],
   "source": [
    "dataset[0][3]"
   ]
  },
  {
   "cell_type": "code",
   "execution_count": 10,
   "metadata": {},
   "outputs": [],
   "source": [
    "import SimpleITK as sitk \n",
    "for row in dataset : \n",
    "    for i in range(3,6):\n",
    "        img = sitk.ReadImage(row[i])"
   ]
  },
  {
   "cell_type": "code",
   "execution_count": null,
   "metadata": {},
   "outputs": [],
   "source": []
  },
  {
   "cell_type": "code",
   "execution_count": null,
   "metadata": {},
   "outputs": [],
   "source": []
  },
  {
   "cell_type": "code",
   "execution_count": null,
   "metadata": {},
   "outputs": [],
   "source": []
  },
  {
   "cell_type": "code",
   "execution_count": 4,
   "metadata": {
    "tags": []
   },
   "outputs": [
    {
     "output_type": "stream",
     "name": "stdout",
     "text": [
      "['13011101331015', 'pet0', '1.2.124.113532.10.149.172.5.20131107.93455.7725981', '/media/oncopole/d508267f-cc7d-45e2-ae24-9456e005a01f/NIFTI/AHL_NIFTI/13011101331015/pet0/1.2.124.113532.10.149.172.5.20131107.93455.7725981_nifti_CT.nii', '/media/oncopole/d508267f-cc7d-45e2-ae24-9456e005a01f/NIFTI/AHL_NIFTI/13011101331015/pet0/1.2.124.113532.10.149.172.5.20131107.93455.7725981_nifti_PT.nii', '/media/oncopole/d508267f-cc7d-45e2-ae24-9456e005a01f/NIFTI/AHL_NIFTI/13011101331015/pet0/1.2.124.113532.10.149.172.5.20131107.93455.7725981_nifti_mask_3d.nii', 'ahl']\n"
     ]
    }
   ],
   "source": [
    "for row in dataset : \n",
    "    for i in range(3,6):\n",
    "        path = row[i]\n",
    "        new_name = path.replace('DDArchive', 'd508267f-cc7d-45e2-ae24-9456e005a01f/NIFTI')\n",
    "        row[i] = new_name\n",
    "print(dataset[0])"
   ]
  },
  {
   "cell_type": "code",
   "execution_count": 5,
   "metadata": {},
   "outputs": [],
   "source": [
    "directory = '/media/oncopole/DD 2To/SEGMENTATION'\n",
    "filename = 'SEG_NIFTI_PATH_V6.csv'\n",
    "\n",
    "with open(os.path.join(directory, filename), 'w') as csv_file : \n",
    "    csv_writer = csv.writer(csv_file, delimiter=',', quotechar='\"', quoting=csv.QUOTE_MINIMAL)\n",
    "    csv_writer.writerow([\"PATIENT_ID\", \"PET\", \"STUDY_UID\", \"NIFTI_CT\", \"NIFTI_PET\", \"NIFTI_MASK\", \"STUDY\"])\n",
    "    for serie in dataset: \n",
    "        #serie = [path_1, modal_1, path_2, modal_2, study_uid, type_, patient_id, nifti_CT, nifti_PET, nifti_MASK]\n",
    "        csv_writer.writerow([serie[0], serie[1], serie[2], serie[3], serie[4], serie[5], serie[6]])"
   ]
  },
  {
   "cell_type": "code",
   "execution_count": 9,
   "metadata": {},
   "outputs": [
    {
     "output_type": "stream",
     "name": "stdout",
     "text": [
      "(256, 256, 299)\n",
      "(299, 256, 256, 38)\n",
      "[0 1]\n"
     ]
    }
   ],
   "source": [
    "import SimpleITK as sitk \n",
    "import numpy as np \n",
    "path = '/media/oncopole/83c5223d-7a01-4ed0-b268-b877a7da96e2/REMARC_NIFTI/11009101056032/V0/1.2.840.113619.2.290.3.180357632.682.1327904939.426_nifti_mask_3d.nii'\n",
    "img = sitk.ReadImage(path)\n",
    "print(img.GetSize())\n",
    "array =  sitk.GetArrayFromImage(img)\n",
    "print(array.shape)\n",
    "print(np.unique(array))"
   ]
  },
  {
   "cell_type": "code",
   "execution_count": null,
   "metadata": {},
   "outputs": [],
   "source": []
  }
 ]
}