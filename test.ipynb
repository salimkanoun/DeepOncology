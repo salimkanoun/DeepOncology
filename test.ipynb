{
 "metadata": {
  "language_info": {
   "codemirror_mode": {
    "name": "ipython",
    "version": 3
   },
   "file_extension": ".py",
   "mimetype": "text/x-python",
   "name": "python",
   "nbconvert_exporter": "python",
   "pygments_lexer": "ipython3",
   "version": "3.8.5"
  },
  "orig_nbformat": 2,
  "kernelspec": {
   "name": "python3",
   "display_name": "Python 3",
   "language": "python"
  }
 },
 "nbformat": 4,
 "nbformat_minor": 2,
 "cells": [
  {
   "cell_type": "code",
   "execution_count": 1,
   "metadata": {},
   "outputs": [],
   "source": [
    "import csv \n",
    "\n",
    "csv_path = '/media/oncopole/d508267f-cc7d-45e2-ae24-9456e005a01f/CLASSIFICATION/classification_dataset.csv'\n",
    "with open(csv_path, 'r') as csvfile:\n",
    "    reader = csv.reader(csvfile, delimiter=',')\n",
    "    dataset = []\n",
    "    for row in reader:\n",
    "        dataset.append(row)\n",
    "del dataset[0] #remove header !"
   ]
  },
  {
   "cell_type": "code",
   "execution_count": 1,
   "metadata": {},
   "outputs": [
    {
     "output_type": "stream",
     "name": "stdout",
     "text": [
      "('Failed to import pydot. You must `pip install pydot` and install graphviz (https://graphviz.gitlab.io/download/), ', 'for `pydotprint` to work.')\n"
     ]
    }
   ],
   "source": [
    "import tensorflow as tf \n",
    "model = '/media/oncopole/d508267f-cc7d-45e2-ae24-9456e005a01f/SEGMENTATION/training/20210621-14:00:08/trained_model_20210621-14:00:08.h5'\n",
    "image = '/media/oncopole/d508267f-cc7d-45e2-ae24-9456e005a01f/SEGMENTATION/training/20210621-14:00:08.model.png'\n",
    "tf.keras.utils.plot_model(model, to_file=image)"
   ]
  },
  {
   "cell_type": "code",
   "execution_count": null,
   "metadata": {},
   "outputs": [],
   "source": []
  },
  {
   "cell_type": "code",
   "execution_count": null,
   "metadata": {},
   "outputs": [],
   "source": []
  },
  {
   "cell_type": "code",
   "execution_count": null,
   "metadata": {},
   "outputs": [],
   "source": []
  },
  {
   "cell_type": "code",
   "execution_count": null,
   "metadata": {},
   "outputs": [],
   "source": []
  },
  {
   "cell_type": "code",
   "execution_count": null,
   "metadata": {},
   "outputs": [],
   "source": []
  },
  {
   "cell_type": "code",
   "execution_count": 2,
   "metadata": {},
   "outputs": [
    {
     "output_type": "execute_result",
     "data": {
      "text/plain": [
       "['1.2.276.0.7230010.3.2.212610',\n",
       " '/media/deeplearning/78ca2911-9e9f-4f78-b80a-848024b95f92/CLASSIFICATION/image_a_annoter/gained/1.2.276.0.7230010.3.2.212610_mip_ct.png',\n",
       " 'Vertex',\n",
       " 'Hips',\n",
       " 'up',\n",
       " 'up']"
      ]
     },
     "metadata": {},
     "execution_count": 2
    }
   ],
   "source": [
    "dataset[0]"
   ]
  },
  {
   "cell_type": "code",
   "execution_count": 6,
   "metadata": {},
   "outputs": [
    {
     "output_type": "execute_result",
     "data": {
      "text/plain": [
       "2176"
      ]
     },
     "metadata": {},
     "execution_count": 6
    }
   ],
   "source": [
    "len(dataset)"
   ]
  },
  {
   "cell_type": "code",
   "execution_count": 3,
   "metadata": {},
   "outputs": [],
   "source": [
    "csv_path_ahl = '/media/oncopole/d508267f-cc7d-45e2-ae24-9456e005a01f/NIFTI/AHL_NIFTI/AHL2011_NIFTI_V5.csv'\n",
    "with open(csv_path_ahl, 'r') as csvfile:\n",
    "    reader = csv.reader(csvfile, delimiter=',')\n",
    "    dataset_ahl = []\n",
    "    for row in reader:\n",
    "        dataset_ahl.append(row)\n",
    "del dataset_ahl[0] #remove header !\n",
    "\n",
    "\n",
    "csv_path_gained = '/media/oncopole/d508267f-cc7d-45e2-ae24-9456e005a01f/NIFTI/GAINED_NIFTI/GAINED_PET0_NIFTI_V2.csv'\n",
    "with open(csv_path_gained, 'r') as csvfile:\n",
    "    reader = csv.reader(csvfile, delimiter=',')\n",
    "    dataset_gained = []\n",
    "    for row in reader:\n",
    "        dataset_gained.append(row)\n",
    "del dataset_gained[0] #remove header !"
   ]
  },
  {
   "cell_type": "code",
   "execution_count": 5,
   "metadata": {},
   "outputs": [
    {
     "output_type": "stream",
     "name": "stdout",
     "text": [
      "['CON,DA', '13011101331015', '1.2.124.113532.10.149.172.5.20131107.93455.7725981', 'pet0', 'AHL_NIFTI/13011101331015/pet0/1.2.124.113532.10.149.172.5.20131107.93455.7725981_nifti_CT.nii', 'AHL_NIFTI/13011101331015/pet0/1.2.124.113532.10.149.172.5.20131107.93455.7725981_nifti_PT.nii', 'AHL_NIFTI/13011101331015/pet0/1.2.124.113532.10.149.172.5.20131107.93455.7725981_nifti_mask_3d.nii']\n"
     ]
    }
   ],
   "source": [
    "dataset_reunite = dataset_ahl+dataset_gained \n",
    "print(dataset_reunite[0])"
   ]
  },
  {
   "cell_type": "code",
   "execution_count": 7,
   "metadata": {},
   "outputs": [],
   "source": [
    "\n",
    "for row in dataset : \n",
    "    study_uid = row[0]\n",
    "    for patient in dataset_reunite : \n",
    "        if study_uid == patient[2] : \n",
    "            row.append(patient[4]) #ajouter chemin CT nifti "
   ]
  },
  {
   "cell_type": "code",
   "execution_count": 9,
   "metadata": {
    "tags": [
     "outputPrepend"
    ]
   },
   "outputs": [
    {
     "output_type": "stream",
     "name": "stdout",
     "text": [
      "ing/78ca2911-9e9f-4f78-b80a-848024b95f92/CLASSIFICATION/image_a_annoter/gained_pet4/2.16.56.465769650.2551326252.2444644315_mip_ct.png', 'Vertex', 'Hips', 'down', 'down']\n['1.2.840.113711.3413733.332952.453985595.26.2116281012.10', '/media/deeplearning/78ca2911-9e9f-4f78-b80a-848024b95f92/CLASSIFICATION/image_a_annoter/gained_pet2/1.2.840.113711.3413733.332952.453985595.26.2116281012.10_mip_ct.png', 'Eye', 'Hips', 'up', 'up']\n['1.2.250.1.74.20150602082500.4000021432846', '/media/deeplearning/78ca2911-9e9f-4f78-b80a-848024b95f92/CLASSIFICATION/image_a_annoter/gained_pet4/1.2.250.1.74.20150602082500.4000021432846_mip_ct.png', 'Mouth', 'Hips', 'up', 'up']\n['1.2.250.1.74.20140513140000.1000041384511', '/media/deeplearning/78ca2911-9e9f-4f78-b80a-848024b95f92/CLASSIFICATION/image_a_annoter/gained_pet4/1.2.250.1.74.20140513140000.1000041384511_mip_ct.png', 'Vertex', 'Hips', 'down', 'down']\n['2.16.56.465769650.2551326252.2361160945', '/media/deeplearning/78ca2911-9e9f-4f78-b80a-848024b95f92/CLASSIFICATION/image_a_annoter/gained_pet2/2.16.56.465769650.2551326252.2361160945_mip_ct.png', 'Eye', 'Hips', 'up', 'up']\n['1.2.840.113619.2.290.3.313268244.650.1438841543.374', '/media/deeplearning/78ca2911-9e9f-4f78-b80a-848024b95f92/CLASSIFICATION/image_a_annoter/gained_pet2/1.2.840.113619.2.290.3.313268244.650.1438841543.374_mip_ct.png', 'Eye', 'Hips', 'up', 'up']\n['1.2.276.0.7230010.3.2.84806', '/media/deeplearning/78ca2911-9e9f-4f78-b80a-848024b95f92/CLASSIFICATION/image_a_annoter/gained_pet2/1.2.276.0.7230010.3.2.84806_mip_ct.png', 'Vertex', 'Hips', 'down', 'down']\n['1.2.840.113619.2.290.3.1569943720.607.1438963837.93', '/media/deeplearning/78ca2911-9e9f-4f78-b80a-848024b95f92/CLASSIFICATION/image_a_annoter/gained_pet2/1.2.840.113619.2.290.3.1569943720.607.1438963837.93_mip_ct.png', 'Vertex', 'Hips', 'up', 'up']\n['1.2.250.1.199.10.90001.94978.20141124101558', '/media/deeplearning/78ca2911-9e9f-4f78-b80a-848024b95f92/CLASSIFICATION/image_a_annoter/gained_pet4/1.2.250.1.199.10.90001.94978.20141124101558_mip_ct.png', 'Vertex', 'Hips', 'down', 'down']\n['1.2.276.0.7230010.3.2.209038', '/media/deeplearning/78ca2911-9e9f-4f78-b80a-848024b95f92/CLASSIFICATION/image_a_annoter/gained_pet2/1.2.276.0.7230010.3.2.209038_mip_ct.png', 'Vertex', 'Hips', 'up', 'up']\n['1.2.250.1.74.20131108075500.4000015120551', '/media/deeplearning/78ca2911-9e9f-4f78-b80a-848024b95f92/CLASSIFICATION/image_a_annoter/gained_pet2/1.2.250.1.74.20131108075500.4000015120551_mip_ct.png', 'Mouth', 'Hips', 'up', 'up']\n['2.16.840.1.113669.632.20.210791.20000286473', '/media/deeplearning/78ca2911-9e9f-4f78-b80a-848024b95f92/CLASSIFICATION/image_a_annoter/gained_pet2/2.16.840.1.113669.632.20.210791.20000286473_mip_ct.png', 'Eye', 'Hips', 'up', 'up']\n['1.2.276.0.7230010.3.2.298511', '/media/deeplearning/78ca2911-9e9f-4f78-b80a-848024b95f92/CLASSIFICATION/image_a_annoter/gained_pet2/1.2.276.0.7230010.3.2.298511_mip_ct.png', 'Eye', 'Hips', 'up', 'up']\n['1.2.840.113711.3413733.183028.435493366.26.2116281012.10', '/media/deeplearning/78ca2911-9e9f-4f78-b80a-848024b95f92/CLASSIFICATION/image_a_annoter/gained_pet4/1.2.840.113711.3413733.183028.435493366.26.2116281012.10_mip_ct.png', 'Eye', 'Hips', 'up', 'up']\n['1.2.250.1.74.20140610123000.1000041624677', '/media/deeplearning/78ca2911-9e9f-4f78-b80a-848024b95f92/CLASSIFICATION/image_a_annoter/gained_pet2/1.2.250.1.74.20140610123000.1000041624677_mip_ct.png', 'Vertex', 'Hips', 'down', 'down']\n['1.2.826.0.1.3680043.2.455.30.11.4.89302', '/media/deeplearning/78ca2911-9e9f-4f78-b80a-848024b95f92/CLASSIFICATION/image_a_annoter/gained_pet2/1.2.826.0.1.3680043.2.455.30.11.4.89302_mip_ct.png', 'Eye', 'Hips', 'up', 'up']\n['1.2.250.1.74.20150420091500.230000004504843', '/media/deeplearning/78ca2911-9e9f-4f78-b80a-848024b95f92/CLASSIFICATION/image_a_annoter/gained_pet4/1.2.250.1.74.20150420091500.230000004504843_mip_ct.png', 'Vertex', 'Foot', 'down', 'down']\n['1.2.276.0.7230010.3.1.2.985102521.1192.1399971022.2', '/media/deeplearning/78ca2911-9e9f-4f78-b80a-848024b95f92/CLASSIFICATION/image_a_annoter/gained_pet4/1.2.276.0.7230010.3.1.2.985102521.1192.1399971022.2_mip_ct.png', 'Eye', 'Hips', 'up', 'up']\n['7.2611141027122501742014101513450060000030425198', '/media/deeplearning/78ca2911-9e9f-4f78-b80a-848024b95f92/CLASSIFICATION/image_a_annoter/gained/7.2611141027122501742014101513450060000030425198_mip_ct.png', 'Vertex', 'Hips', 'up', 'up']\n['1.2.250.1.59.470.1.20140505000339.11139.141', '/media/deeplearning/78ca2911-9e9f-4f78-b80a-848024b95f92/CLASSIFICATION/image_a_annoter/gained_pet2/1.2.250.1.59.470.1.20140505000339.11139.141_mip_ct.png', 'Eye', 'Hips', 'up', 'up']\n['1.2.250.1.74.20150206112500.4000019373566', '/media/deeplearning/78ca2911-9e9f-4f78-b80a-848024b95f92/CLASSIFICATION/image_a_annoter/gained_pet4/1.2.250.1.74.20150206112500.4000019373566_mip_ct.png', 'Mouth', 'Knee', 'up', 'up']\n['1.2.250.1.74.20140219080000.1000039310241', '/media/deeplearning/78ca2911-9e9f-4f78-b80a-848024b95f92/CLASSIFICATION/image_a_annoter/gained_pet4/1.2.250.1.74.20140219080000.1000039310241_mip_ct.png', 'Vertex', 'Hips', 'down', 'down']\n['1.2.840.113711.41813.3.12264.395183379.26.2116281012.114410', '/media/deeplearning/78ca2911-9e9f-4f78-b80a-848024b95f92/CLASSIFICATION/image_a_annoter/gained_pet2/1.2.840.113711.41813.3.12264.395183379.26.2116281012.114410_mip_ct.png', 'Eye', 'Hips', 'up', 'up']\n['1.3.51.0.1.1.10.49.10.222.1766567.1764960', '/media/deeplearning/78ca2911-9e9f-4f78-b80a-848024b95f92/CLASSIFICATION/image_a_annoter/gained_pet2/1.3.51.0.1.1.10.49.10.222.1766567.1764960_mip_ct.png', 'Eye', 'Hips', 'up', 'up']\n['1.2.250.1.38.2.1.102.140708144536.103425777', '/media/deeplearning/78ca2911-9e9f-4f78-b80a-848024b95f92/CLASSIFICATION/image_a_annoter/gained_pet4/1.2.250.1.38.2.1.102.140708144536.103425777_mip_ct.png', 'Vertex', 'Hips', 'up', 'up']\n['1.2.276.0.7230010.3.2.298691', '/media/deeplearning/78ca2911-9e9f-4f78-b80a-848024b95f92/CLASSIFICATION/image_a_annoter/gained_pet2/1.2.276.0.7230010.3.2.298691_mip_ct.png', 'Eye', 'Hips', 'down', 'down']\n['2.16.840.1.113669.632.20.210791.20000182615', '/media/deeplearning/78ca2911-9e9f-4f78-b80a-848024b95f92/CLASSIFICATION/image_a_annoter/gained_pet2/2.16.840.1.113669.632.20.210791.20000182615_mip_ct.png', 'Eye', 'Knee', 'up', 'up']\n['1.2.928.1024120033', '/media/deeplearning/78ca2911-9e9f-4f78-b80a-848024b95f92/CLASSIFICATION/image_a_annoter/gained_pet2/1.2.928.1024120033_mip_ct.png', 'Vertex', 'Hips', 'up', 'up']\n['1.2.840.113711.41813.3.11340.440441093.26.2116281012.15090', '/media/deeplearning/78ca2911-9e9f-4f78-b80a-848024b95f92/CLASSIFICATION/image_a_annoter/gained_pet2/1.2.840.113711.41813.3.11340.440441093.26.2116281012.15090_mip_ct.png', 'Eye', 'Hips', 'up', 'up']\n['1.2.840.113711.41813.3.15312.398650763.26.2116281012.130380', '/media/deeplearning/78ca2911-9e9f-4f78-b80a-848024b95f92/CLASSIFICATION/image_a_annoter/gained_pet4/1.2.840.113711.41813.3.15312.398650763.26.2116281012.130380_mip_ct.png', 'Eye', 'Knee', 'down', 'down']\n['1.2.250.1.199.10.90001.97758.20140731081848', '/media/deeplearning/78ca2911-9e9f-4f78-b80a-848024b95f92/CLASSIFICATION/image_a_annoter/gained_pet2/1.2.250.1.199.10.90001.97758.20140731081848_mip_ct.png', 'Eye', 'Hips', 'down', 'down']\n['7.2104151039122501742015040807500060000032817913', '/media/deeplearning/78ca2911-9e9f-4f78-b80a-848024b95f92/CLASSIFICATION/image_a_annoter/gained/7.2104151039122501742015040807500060000032817913_mip_ct.png', 'Vertex', 'Hips', 'up', 'up']\n['1.2.840.113619.2.290.3.2366253502.261.1397563461.748', '/media/deeplearning/78ca2911-9e9f-4f78-b80a-848024b95f92/CLASSIFICATION/image_a_annoter/gained_pet2/1.2.840.113619.2.290.3.2366253502.261.1397563461.748_mip_ct.png', 'Eye', 'Hips', 'up', 'up']\n['10.65.2.10.10.3.11437568', '/media/deeplearning/78ca2911-9e9f-4f78-b80a-848024b95f92/CLASSIFICATION/image_a_annoter/gained_pet4/10.65.2.10.10.3.11437568_mip_ct.png', 'Vertex', 'Hips', 'up', 'up']\n['1.2.276.0.7230010.3.2.244793', '/media/deeplearning/78ca2911-9e9f-4f78-b80a-848024b95f92/CLASSIFICATION/image_a_annoter/gained_pet2/1.2.276.0.7230010.3.2.244793_mip_ct.png', 'Vertex', 'Hips', 'up', 'up']\n['1.2.276.0.7230010.3.86101443', '/media/deeplearning/78ca2911-9e9f-4f78-b80a-848024b95f92/CLASSIFICATION/image_a_annoter/gained_pet4/1.2.276.0.7230010.3.86101443_mip_ct.png', 'Vertex', 'Hips', 'down', 'down']\n['1.2.250.1.74.20140122080000.1000039310425', '/media/deeplearning/78ca2911-9e9f-4f78-b80a-848024b95f92/CLASSIFICATION/image_a_annoter/gained_pet2/1.2.250.1.74.20140122080000.1000039310425_mip_ct.png', 'Vertex', 'Hips', 'down', 'down']\n['1.2.840.113619.2.290.3.2831182250.466.1401084956.773', '/media/deeplearning/78ca2911-9e9f-4f78-b80a-848024b95f92/CLASSIFICATION/image_a_annoter/gained_pet2/1.2.840.113619.2.290.3.2831182250.466.1401084956.773_mip_ct.png', 'Eye', 'Hips', 'up', 'up']\n['1.2.840.113711.93413733.10132.402397990.26.2116281012.10', '/media/deeplearning/78ca2911-9e9f-4f78-b80a-848024b95f92/CLASSIFICATION/image_a_annoter/gained_pet4/1.2.840.113711.93413733.10132.402397990.26.2116281012.10_mip_ct.png', 'Eye', 'Hips', 'up', 'up']\n['1.2.276.0.7230010.3.2.46164', '/media/deeplearning/78ca2911-9e9f-4f78-b80a-848024b95f92/CLASSIFICATION/image_a_annoter/gained_pet2/1.2.276.0.7230010.3.2.46164_mip_ct.png', 'Vertex', 'Hips', 'up', 'up']\n['1.2.250.1.199.10.90001.98031.20140922125631', '/media/deeplearning/78ca2911-9e9f-4f78-b80a-848024b95f92/CLASSIFICATION/image_a_annoter/gained_pet2/1.2.250.1.199.10.90001.98031.20140922125631_mip_ct.png', 'Vertex', 'Hips', 'up', 'up']\n['1.2.840.113619.2.290.3.279710523.872.1406872381.261', '/media/deeplearning/78ca2911-9e9f-4f78-b80a-848024b95f92/CLASSIFICATION/image_a_annoter/gained_pet4/1.2.840.113619.2.290.3.279710523.872.1406872381.261_mip_ct.png', 'Eye', 'Hips', 'up', 'up']\n['1.2.250.1.74.20140113120000.28000026945379', '/media/deeplearning/78ca2911-9e9f-4f78-b80a-848024b95f92/CLASSIFICATION/image_a_annoter/gained_pet4/1.2.250.1.74.20140113120000.28000026945379_mip_ct.png', 'Vertex', 'Hips', 'up', 'up']\n['1.2.840.113619.2.182.101748215217877.1429826450.514019', '/media/deeplearning/78ca2911-9e9f-4f78-b80a-848024b95f92/CLASSIFICATION/image_a_annoter/gained_pet2/1.2.840.113619.2.182.101748215217877.1429826450.514019_mip_ct.png', 'Vertex', 'Hips', 'up', 'up']\n['1.2.250.1.199.10.90001.94464.20140109082912', '/media/deeplearning/78ca2911-9e9f-4f78-b80a-848024b95f92/CLASSIFICATION/image_a_annoter/gained_pet4/1.2.250.1.199.10.90001.94464.20140109082912_mip_ct.png', 'Eye', 'Hips', 'up', 'up']\n['1.2.250.1.199.10.90001.99132.20140807085301', '/media/deeplearning/78ca2911-9e9f-4f78-b80a-848024b95f92/CLASSIFICATION/image_a_annoter/gained_pet4/1.2.250.1.199.10.90001.99132.20140807085301_mip_ct.png', 'Eye', 'Hips', 'up', 'up']\n['1.2.840.113619.2.290.3.2831166708.748.1379311598.763', '/media/deeplearning/78ca2911-9e9f-4f78-b80a-848024b95f92/CLASSIFICATION/image_a_annoter/gained_pet4/1.2.840.113619.2.290.3.2831166708.748.1379311598.763_mip_ct.png', 'Vertex', 'Hips', 'up', 'up']\n['1.2.250.1.38.2.1.102.131223092318.102852723', '/media/deeplearning/78ca2911-9e9f-4f78-b80a-848024b95f92/CLASSIFICATION/image_a_annoter/gained_pet4/1.2.250.1.38.2.1.102.131223092318.102852723_mip_ct.png', 'Vertex', 'Hips', 'up', 'up']\n['2.16.840.1.113669.632.20.210791.20000133023', '/media/deeplearning/78ca2911-9e9f-4f78-b80a-848024b95f92/CLASSIFICATION/image_a_annoter/gained_pet4/2.16.840.1.113669.632.20.210791.20000133023_mip_ct.png', 'Eye', 'Knee', 'up', 'up']\n['1.2.276.0.7230010.3.2.394871', '/media/deeplearning/78ca2911-9e9f-4f78-b80a-848024b95f92/CLASSIFICATION/image_a_annoter/gained_pet4/1.2.276.0.7230010.3.2.394871_mip_ct.png', 'Vertex', 'Hips', 'down', 'down']\n['1.2.250.1.74.20150102091000.100000030626055', '/media/deeplearning/78ca2911-9e9f-4f78-b80a-848024b95f92/CLASSIFICATION/image_a_annoter/gained_pet4/1.2.250.1.74.20150102091000.100000030626055_mip_ct.png', 'Vertex', 'Hips', 'up', 'up']\n['1.2.250.1.59.0.8559.20131231131406.3685720', '/media/deeplearning/78ca2911-9e9f-4f78-b80a-848024b95f92/CLASSIFICATION/image_a_annoter/gained_pet2/1.2.250.1.59.0.8559.20131231131406.3685720_mip_ct.png', 'Vertex', 'Hips', 'up', 'up']\n['1.2.276.0.7230010.3.2.125846', '/media/deeplearning/78ca2911-9e9f-4f78-b80a-848024b95f92/CLASSIFICATION/image_a_annoter/gained_pet2/1.2.276.0.7230010.3.2.125846_mip_ct.png', 'Vertex', 'Hips', 'up', 'up']\n['1.2.250.1.74.20130410120000.1000035216290', '/media/deeplearning/78ca2911-9e9f-4f78-b80a-848024b95f92/CLASSIFICATION/image_a_annoter/gained_pet2/1.2.250.1.74.20130410120000.1000035216290_mip_ct.png', 'Vertex', 'Hips', 'down', 'down']\n['2.16.840.1.113669.632.20.670001.900000652901', '/media/deeplearning/78ca2911-9e9f-4f78-b80a-848024b95f92/CLASSIFICATION/image_a_annoter/gained_pet4/2.16.840.1.113669.632.20.670001.900000652901_mip_ct.png', 'Vertex', 'Hips', 'down', 'down']\n['1.2.124.113532.172.16.25.2.20130708.93037.1321498', '/media/deeplearning/78ca2911-9e9f-4f78-b80a-848024b95f92/CLASSIFICATION/image_a_annoter/gained_pet4/1.2.124.113532.172.16.25.2.20130708.93037.1321498_mip_ct.png', 'Vertex', 'Hips', 'up', 'up']\n['1.2.276.0.7230010.3.2.259616', '/media/deeplearning/78ca2911-9e9f-4f78-b80a-848024b95f92/CLASSIFICATION/image_a_annoter/gained_pet2/1.2.276.0.7230010.3.2.259616_mip_ct.png', 'Eye', 'Hips', 'up', 'up']\n['1.2.276.0.7230010.3.2.641455', '/media/deeplearning/78ca2911-9e9f-4f78-b80a-848024b95f92/CLASSIFICATION/image_a_annoter/gained_pet2/1.2.276.0.7230010.3.2.641455_mip_ct.png', 'Vertex', 'Hips', 'down', 'down']\n['2.16.840.1.113669.632.20.540001.10004110411', '/media/deeplearning/78ca2911-9e9f-4f78-b80a-848024b95f92/CLASSIFICATION/image_a_annoter/gained_pet4/2.16.840.1.113669.632.20.540001.10004110411_mip_ct.png', 'Eye', 'Hips', 'up', 'up']\n['7.120614161212840113619229036046435513071401706245977', '/media/deeplearning/78ca2911-9e9f-4f78-b80a-848024b95f92/CLASSIFICATION/image_a_annoter/gained/7.120614161212840113619229036046435513071401706245977_mip_ct.png', 'Vertex', 'Hips', 'up', 'up']\n['1.2.250.1.74.20140325083000.4000016307120', '/media/deeplearning/78ca2911-9e9f-4f78-b80a-848024b95f92/CLASSIFICATION/image_a_annoter/gained_pet2/1.2.250.1.74.20140325083000.4000016307120_mip_ct.png', 'Mouth', 'Hips', 'up', 'up']\n['1.2.276.0.7230010.3.86119850', '/media/deeplearning/78ca2911-9e9f-4f78-b80a-848024b95f92/CLASSIFICATION/image_a_annoter/gained_pet2/1.2.276.0.7230010.3.86119850_mip_ct.png', 'Vertex', 'Hips', 'down', 'down']\n['1.2.250.1.59.0.8559.20130510112820.3508702', '/media/deeplearning/78ca2911-9e9f-4f78-b80a-848024b95f92/CLASSIFICATION/image_a_annoter/gained_pet2/1.2.250.1.59.0.8559.20130510112820.3508702_mip_ct.png', 'Vertex', 'Hips', 'up', 'up']\n['7.070514144612840113619229036046435511501399354128820', '/media/deeplearning/78ca2911-9e9f-4f78-b80a-848024b95f92/CLASSIFICATION/image_a_annoter/gained_pet4/7.070514144612840113619229036046435511501399354128820_mip_ct.png', 'Vertex', 'Hips', 'up', 'up']\n['2.16.840.1.113669.632.20.330001.10002693845', '/media/deeplearning/78ca2911-9e9f-4f78-b80a-848024b95f92/CLASSIFICATION/image_a_annoter/gained_pet2/2.16.840.1.113669.632.20.330001.10002693845_mip_ct.png', 'Eye', 'Hips', 'up', 'up']\n['7.250614155412840113619229032831165510500140108268262', '/media/deeplearning/78ca2911-9e9f-4f78-b80a-848024b95f92/CLASSIFICATION/image_a_annoter/gained_pet4/7.250614155412840113619229032831165510500140108268262_mip_ct.png', 'Vertex', 'Hips', 'up', 'up']\n['1.3.51.0.1.1.10.49.10.222.1515977.1514222', '/media/deeplearning/78ca2911-9e9f-4f78-b80a-848024b95f92/CLASSIFICATION/image_a_annoter/gained_pet2/1.3.51.0.1.1.10.49.10.222.1515977.1514222_mip_ct.png', 'Vertex', 'Hips', 'up', 'up']\n['1.3.51.0.1.1.172.16.34.65.2852203.2727734', '/media/deeplearning/78ca2911-9e9f-4f78-b80a-848024b95f92/CLASSIFICATION/image_a_annoter/gained_pet2/1.3.51.0.1.1.172.16.34.65.2852203.2727734_mip_ct.png', 'Eye', 'Hips', 'up', 'up']\n['2.16.56.465769650.2551326252.2728356497', '/media/deeplearning/78ca2911-9e9f-4f78-b80a-848024b95f92/CLASSIFICATION/image_a_annoter/gained_pet4/2.16.56.465769650.2551326252.2728356497_mip_ct.png', 'Eye', 'Hips', 'down', 'down']\n['1.2.250.1.38.2.1.102.140206095628.102979460', '/media/deeplearning/78ca2911-9e9f-4f78-b80a-848024b95f92/CLASSIFICATION/image_a_annoter/gained_pet4/1.2.250.1.38.2.1.102.140206095628.102979460_mip_ct.png', 'Vertex', 'Hips', 'up', 'up']\n['1.2.250.1.74.20150212094500.28000035135809', '/media/deeplearning/78ca2911-9e9f-4f78-b80a-848024b95f92/CLASSIFICATION/image_a_annoter/gained_pet2/1.2.250.1.74.20150212094500.28000035135809_mip_ct.png', 'Vertex', 'Hips', 'up', 'up']\n['1.2.840.113619.2.290.3.252365070.145.1426228315.845', '/media/deeplearning/78ca2911-9e9f-4f78-b80a-848024b95f92/CLASSIFICATION/image_a_annoter/gained_pet2/1.2.840.113619.2.290.3.252365070.145.1426228315.845_mip_ct.png', 'Vertex', 'Hips', 'down', 'down']\n['1.2.826.0.1.3680043.2.455.30.10.86000.1734.2866123', '/media/deeplearning/78ca2911-9e9f-4f78-b80a-848024b95f92/CLASSIFICATION/image_a_annoter/gained_pet4/1.2.826.0.1.3680043.2.455.30.10.86000.1734.2866123_mip_ct.png', 'Vertex', 'Hips', 'up', 'up']\n['1.2.250.1.59.470.940100027.1.20141119143336.7737.121735', '/media/deeplearning/78ca2911-9e9f-4f78-b80a-848024b95f92/CLASSIFICATION/image_a_annoter/gained_pet4/1.2.250.1.59.470.940100027.1.20141119143336.7737.121735_mip_ct.png', 'Vertex', 'Hips', 'up', 'up']\n['1.2.840.113619.2.290.3.2831182250.325.1403762794.853', '/media/deeplearning/78ca2911-9e9f-4f78-b80a-848024b95f92/CLASSIFICATION/image_a_annoter/gained_pet4/1.2.840.113619.2.290.3.2831182250.325.1403762794.853_mip_ct.png', 'Vertex', 'Hips', 'down', 'down']\n['1.2.840.113711.7041813.3.6536.420021414.26.2116281012.127280', '/media/deeplearning/78ca2911-9e9f-4f78-b80a-848024b95f92/CLASSIFICATION/image_a_annoter/gained_pet2/1.2.840.113711.7041813.3.6536.420021414.26.2116281012.127280_mip_ct.png', 'Eye', 'Hips', 'up', 'down']\n['1.2.840.113704.1.111.5696.1406197805.1', '/media/deeplearning/78ca2911-9e9f-4f78-b80a-848024b95f92/CLASSIFICATION/image_a_annoter/gained_pet2/1.2.840.113704.1.111.5696.1406197805.1_mip_ct.png', 'Eye', 'Hips', 'up', 'up']\n['1.2.840.113619.2.290.3.279748722.160.1402380479.58', '/media/deeplearning/78ca2911-9e9f-4f78-b80a-848024b95f92/CLASSIFICATION/image_a_annoter/gained_pet4/1.2.840.113619.2.290.3.279748722.160.1402380479.58_mip_ct.png', 'Vertex', 'Hips', 'up', 'up']\n['7.0411141309122501742014100807300060000030332303', '/media/deeplearning/78ca2911-9e9f-4f78-b80a-848024b95f92/CLASSIFICATION/image_a_annoter/gained/7.0411141309122501742014100807300060000030332303_mip_ct.png', 'Vertex', 'Hips', 'up', 'up']\n['1.2.840.113619.2.290.3.2831170562.658.1397196579.153', '/media/deeplearning/78ca2911-9e9f-4f78-b80a-848024b95f92/CLASSIFICATION/image_a_annoter/gained_pet2/1.2.840.113619.2.290.3.2831170562.658.1397196579.153_mip_ct.png', 'Eye', 'Hips', 'up', 'up']\n['1.2.840.113619.2.290.3.2831182250.818.1390288141.688', '/media/deeplearning/78ca2911-9e9f-4f78-b80a-848024b95f92/CLASSIFICATION/image_a_annoter/gained_pet2/1.2.840.113619.2.290.3.2831182250.818.1390288141.688_mip_ct.png', 'Eye', 'Hips', 'down', 'down']\n['1.2.250.1.38.2.1.14.1.131106135123.209333', '/media/deeplearning/78ca2911-9e9f-4f78-b80a-848024b95f92/CLASSIFICATION/image_a_annoter/gained_pet2/1.2.250.1.38.2.1.14.1.131106135123.209333_mip_ct.png', 'Mouth', 'Hips', 'down', 'down']\n['1.2.276.0.7230010.3.2.247781', '/media/deeplearning/78ca2911-9e9f-4f78-b80a-848024b95f92/CLASSIFICATION/image_a_annoter/gained_pet4/1.2.276.0.7230010.3.2.247781_mip_ct.png', 'Eye', 'Hips', 'up', 'up']\n['1.2.840.113711.41813.3.11244.408331337.26.2116281012.160880', '/media/deeplearning/78ca2911-9e9f-4f78-b80a-848024b95f92/CLASSIFICATION/image_a_annoter/gained_pet4/1.2.840.113711.41813.3.11244.408331337.26.2116281012.160880_mip_ct.png', 'Mouth', 'Hips', 'up', 'up']\n['1.2.840.113619.2.290.3.279748722.662.1403503462.576', '/media/deeplearning/78ca2911-9e9f-4f78-b80a-848024b95f92/CLASSIFICATION/image_a_annoter/gained_pet2/1.2.840.113619.2.290.3.279748722.662.1403503462.576_mip_ct.png', 'Vertex', 'Hips', 'up', 'up']\n"
     ]
    }
   ],
   "source": [
    "for row in dataset :\n",
    "    if len(row) != 7 : \n",
    "        print(row)"
   ]
  },
  {
   "cell_type": "code",
   "execution_count": null,
   "metadata": {},
   "outputs": [],
   "source": []
  },
  {
   "cell_type": "code",
   "execution_count": null,
   "metadata": {},
   "outputs": [],
   "source": []
  },
  {
   "cell_type": "code",
   "execution_count": null,
   "metadata": {},
   "outputs": [],
   "source": [
    "directory = ''\n",
    "filename = 'classification_dataset.csv'\n",
    "\n",
    "with open(os.path.join(directory, filename), 'w') as csv_file : \n",
    "    csv_writer = csv.writer(csv_file, delimiter=',', quotechar='\"', quoting=csv.QUOTE_MINIMAL)\n",
    "    csv_writer.writerow([\"PATIENT_ID\", \"STUDY_UID\", \"NIFTI_CT\", \"RIGHT_ARM\", \"LEFT_ARM\", \"HEAD\", \"LEGS\"])\n",
    "    for serie in dataset: \n",
    "        #serie = [path_1, modal_1, path_2, modal_2, study_uid, type_, patient_id, nifti_CT, nifti_PET, nifti_MASK]\n",
    "        csv_writer.writerow([   ])"
   ]
  },
  {
   "cell_type": "code",
   "execution_count": null,
   "metadata": {},
   "outputs": [],
   "source": []
  },
  {
   "cell_type": "code",
   "execution_count": null,
   "metadata": {},
   "outputs": [],
   "source": []
  },
  {
   "cell_type": "code",
   "execution_count": null,
   "metadata": {},
   "outputs": [],
   "source": []
  },
  {
   "cell_type": "code",
   "execution_count": null,
   "metadata": {},
   "outputs": [],
   "source": []
  },
  {
   "cell_type": "code",
   "execution_count": null,
   "metadata": {},
   "outputs": [],
   "source": []
  }
 ]
}