{
 "metadata": {
  "language_info": {
   "codemirror_mode": {
    "name": "ipython",
    "version": 3
   },
   "file_extension": ".py",
   "mimetype": "text/x-python",
   "name": "python",
   "nbconvert_exporter": "python",
   "pygments_lexer": "ipython3",
   "version": "3.8.5"
  },
  "orig_nbformat": 2,
  "kernelspec": {
   "name": "python3",
   "display_name": "Python 3.8.5 64-bit ('base': conda)",
   "metadata": {
    "interpreter": {
     "hash": "6a0b6c04207aa6f5c33e08335e377a5793c5a1abe8e179f13df17cfd923ec7d1"
    }
   }
  }
 },
 "nbformat": 4,
 "nbformat_minor": 2,
 "cells": [
  {
   "cell_type": "code",
   "execution_count": null,
   "metadata": {},
   "outputs": [],
   "source": [
    "import csv \n",
    "import os "
   ]
  },
  {
   "cell_type": "code",
   "execution_count": null,
   "metadata": {},
   "outputs": [],
   "source": [
    "base_path = '/media/oncopole/83c5223d-7a01-4ed0-b268-b877a7da96e2/REMARC_NIFTI'\n",
    "\n",
    "csv_file_path = '/media/oncopole/83c5223d-7a01-4ed0-b268-b877a7da96e2/REMARC_NIFTI/REMARC_NIFTI_v1.csv'\n",
    "with open(csv_file_path, 'r') as csv_file :\n",
    "        reader = csv.reader(csv_file, delimiter = ',') #liste pour chaque ligne \n",
    "        dataset = []\n",
    "        for row in reader :\n",
    "            dataset.append(row)\n",
    "            \n",
    "del dataset[0] #enlever première ligne"
   ]
  },
  {
   "cell_type": "code",
   "execution_count": null,
   "metadata": {},
   "outputs": [],
   "source": [
    "dataset[0]"
   ]
  },
  {
   "cell_type": "code",
   "execution_count": null,
   "metadata": {},
   "outputs": [],
   "source": [
    "for row in dataset : \n",
    "    ct = '/'.join(row[4].split('/')[-3:])\n",
    "    pt = '/'.join(row[5].split('/')[-3:])\n",
    "    mask = '/'.join(row[6].split('/')[-3:])\n",
    "    row[4] = os.path.join(base_path, ct)\n",
    "    row[5] = os.path.join(base_path, pt)\n",
    "    row[6] = os.path.join(base_path, mask)\n",
    "    row.append('remarc')"
   ]
  },
  {
   "cell_type": "code",
   "execution_count": null,
   "metadata": {},
   "outputs": [],
   "source": [
    "dataset[0]"
   ]
  },
  {
   "cell_type": "code",
   "execution_count": null,
   "metadata": {},
   "outputs": [],
   "source": [
    "directory = '/media/oncopole/DD 2To/SEGMENTATION'\n",
    "filename = 'REMARC_NIFTI_PATH.csv'\n",
    "\n",
    "with open(os.path.join(directory, filename), 'w') as csv_file : \n",
    "    csv_writer = csv.writer(csv_file, delimiter=',', quotechar='\"', quoting=csv.QUOTE_MINIMAL)\n",
    "    csv_writer.writerow([\"PATIENT ID\", \"PET\", \"STUDY_UID\", \"NIFTI_CT\", \"NIFTI_PET\", \"NIFTI_MASK\", 'STUDY'])\n",
    "    for serie in dataset: \n",
    "        csv_writer.writerow([serie[1], serie[3], serie[2], serie[4], serie[5], serie[6], serie[7]])"
   ]
  }
 ]
}