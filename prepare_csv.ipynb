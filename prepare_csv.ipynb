{
 "metadata": {
  "language_info": {
   "codemirror_mode": {
    "name": "ipython",
    "version": 3
   },
   "file_extension": ".py",
   "mimetype": "text/x-python",
   "name": "python",
   "nbconvert_exporter": "python",
   "pygments_lexer": "ipython3",
   "version": "3.8.5-final"
  },
  "orig_nbformat": 2,
  "kernelspec": {
   "name": "python38564bit9a8409779cd04c3cbd0c5f1e859a644e",
   "display_name": "Python 3.8.5 64-bit",
   "language": "python"
  }
 },
 "nbformat": 4,
 "nbformat_minor": 2,
 "cells": [
  {
   "cell_type": "code",
   "execution_count": 1,
   "metadata": {},
   "outputs": [],
   "source": [
    "import csv "
   ]
  },
  {
   "cell_type": "code",
   "execution_count": 2,
   "metadata": {},
   "outputs": [],
   "source": [
    "directory_nifti_csv = '/media/deeplearning/LACIE SHARE/NIFTI_CSV'\n",
    "nifti_csv = os.listdir(directory_nifti_csv)\n",
    "liste_nifti_csv = []\n",
    "for csv_f in nifti_csv :\n",
    "    liste_nifti_csv.append(os.path.join(directory_nifti_csv,csv_f))"
   ]
  },
  {
   "cell_type": "code",
   "execution_count": 3,
   "metadata": {},
   "outputs": [],
   "source": [
    "total_list = []\n",
    "for csv_file_path in liste_nifti_csv : \n",
    "    #csv_path = csv_file_path\n",
    "    with open(csv_file_path, 'r') as csv_file :\n",
    "        reader = csv.reader(csv_file, delimiter = ',') #liste pour chaque ligne \n",
    "        dataset = []\n",
    "        for row in reader :\n",
    "            dataset.append(row)\n",
    "            \n",
    "    del dataset[0] #enlever première ligne\n",
    "    total_list.append(dataset)"
   ]
  },
  {
   "cell_type": "code",
   "execution_count": 4,
   "metadata": {},
   "outputs": [
    {
     "output_type": "stream",
     "name": "stdout",
     "text": [
      "0\n1\n2\n3\n4\n5\n6\n"
     ]
    }
   ],
   "source": [
    "study_list = []\n",
    "etu_name = ['ahl', 'flip', 'flip', 'gained', 'lnh073b', 'relevance', 'remarc']\n",
    "for etude in total_list:\n",
    "    index = total_list.index(etude)\n",
    "    print(index)\n",
    "    for patient in etude : \n",
    "        if (len(patient) == 7) or if ('pet0' in patient) : \n",
    "            patient.append(etu_name[index])\n",
    "            study_list.append(patient)\n"
   ]
  },
  {
   "cell_type": "code",
   "execution_count": 5,
   "metadata": {},
   "outputs": [
    {
     "output_type": "execute_result",
     "data": {
      "text/plain": [
       "3160"
      ]
     },
     "metadata": {},
     "execution_count": 5
    }
   ],
   "source": [
    "len(study_list)"
   ]
  },
  {
   "cell_type": "code",
   "execution_count": 6,
   "metadata": {},
   "outputs": [
    {
     "output_type": "execute_result",
     "data": {
      "text/plain": [
       "['CON,DA',\n",
       " '13011101331015',\n",
       " '1.2.124.113532.10.149.172.5.20131107.93455.7725981',\n",
       " 'pet0',\n",
       " 'AHL_NIFTI/13011101331015/pet0/1.2.124.113532.10.149.172.5.20131107.93455.7725981_nifti_CT.nii',\n",
       " 'AHL_NIFTI/13011101331015/pet0/1.2.124.113532.10.149.172.5.20131107.93455.7725981_nifti_PT.nii',\n",
       " 'AHL_NIFTI/13011101331015/pet0/1.2.124.113532.10.149.172.5.20131107.93455.7725981_nifti_mask.nii',\n",
       " 'ahl']"
      ]
     },
     "metadata": {},
     "execution_count": 6
    }
   ],
   "source": [
    "study_list[0]"
   ]
  },
  {
   "cell_type": "code",
   "execution_count": 7,
   "metadata": {},
   "outputs": [],
   "source": [
    "directory = '/media/deeplearning/LACIE SHARE/NIFTI_CSV'\n",
    "filename = 'SEG_NIFTI_PATH.csv'\n",
    "\n",
    "with open(os.path.join(directory, filename), 'w') as csv_file : \n",
    "    csv_writer = csv.writer(csv_file, delimiter=',', quotechar='\"', quoting=csv.QUOTE_MINIMAL)\n",
    "    csv_writer.writerow([\"PATIENT ID\", \"PET\", \"STUDY_UID\", \"NIFTI_CT\", \"NIFTI_PET\", \"NIFTI_MASK\", 'STUDY'])\n",
    "    for serie in study_list: \n",
    "        csv_writer.writerow([serie[1], serie[3], serie[2], serie[4], serie[5], serie[6], serie[7]])\n"
   ]
  },
  {
   "cell_type": "code",
   "execution_count": null,
   "metadata": {},
   "outputs": [],
   "source": []
  }
 ]
}