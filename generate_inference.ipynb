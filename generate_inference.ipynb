{
 "cells": [
  {
   "cell_type": "code",
   "execution_count": 1,
   "metadata": {},
   "outputs": [],
   "source": [
    "from experiments.exp_3d.preprocessing import *\n",
    "from losses.Metrics import metric_dice\n",
    "\n",
    "from lib.visualize import *\n",
    "from experiments.exp_3d.inference import Pipeline\n",
    "import matplotlib.pyplot as plt\n",
    "import pandas as pd \n",
    "import json\n",
    "import csv\n",
    "\n",
    "import pydicom\n",
    "import pydicom_seg\n",
    "import SimpleITK as sitk\n",
    "from library_dicom.export_segmentation.ExportSegmentation_Writer import ExportSegmentation_Writer"
   ]
  },
  {
   "cell_type": "code",
   "execution_count": 2,
   "metadata": {},
   "outputs": [
    {
     "output_type": "stream",
     "name": "stdout",
     "text": [
      "\n",
      "Pipeline object initialized\n"
     ]
    }
   ],
   "source": [
    "target_size = (128, 128, 256)\n",
    "target_spacing = (4.0, 4.0, 4.0)\n",
    "target_direction = (1,0,0,0,1,0,0,0,1)\n",
    "model_path = '/media/oncopole/DD 2To/SEGMENTATION/training/20210429-11:17:32/trained_model_20210429-11:17:32.h5'\n",
    "target_origin = None\n",
    "from_pp = False\n",
    "\n",
    "csv_path = '/media/oncopole/DD 2To/SEGMENTATION/inference/inference_dataset.csv'\n",
    "\n",
    "\n",
    "df = pd.read_csv(csv_path)\n",
    "dataset = df[['patient_id', 'study', 'study_id', 'ct_img', 'pet_img', 'mask_img']].to_dict('records')\n",
    "print(\"\")\n",
    "pipeline = Pipeline(target_size, target_spacing, target_direction, model_path=model_path, target_origin=None, from_pp=False)\n",
    "print(\"Pipeline object initialized\")"
   ]
  },
  {
   "cell_type": "code",
   "execution_count": 3,
   "metadata": {},
   "outputs": [
    {
     "output_type": "execute_result",
     "data": {
      "text/plain": [
       "{'patient_id': '53011101841003',\n",
       " 'study': 'ahl',\n",
       " 'study_id': '1.2.250.1.199.10.90001.93080.20120515093605',\n",
       " 'ct_img': '/media/oncopole/83c5223d-7a01-4ed0-b268-b877a7da96e2/AHL_NIFTI/53011101841003/pet0/1.2.250.1.199.10.90001.93080.20120515093605_nifti_CT.nii',\n",
       " 'pet_img': '/media/oncopole/83c5223d-7a01-4ed0-b268-b877a7da96e2/AHL_NIFTI/53011101841003/pet0/1.2.250.1.199.10.90001.93080.20120515093605_nifti_PT.nii',\n",
       " 'mask_img': '/media/oncopole/83c5223d-7a01-4ed0-b268-b877a7da96e2/AHL_NIFTI/53011101841003/pet0/1.2.250.1.199.10.90001.93080.20120515093605_nifti_mask.nii'}"
      ]
     },
     "metadata": {},
     "execution_count": 3
    }
   ],
   "source": [
    "dataset[0]"
   ]
  },
  {
   "cell_type": "code",
   "execution_count": 4,
   "metadata": {},
   "outputs": [
    {
     "output_type": "stream",
     "name": "stdout",
     "text": [
      "(419, 200, 200)\n"
     ]
    }
   ],
   "source": [
    "from library_dicom.dicom_processor.tools.create_mip import *\n",
    "\n",
    "directory = '/media/oncopole/DD 2To/SEGMENTATION/inference'\n",
    "nifti_directory = '/media/oncopole/DD 2To/SEGMENTATION/inference/nifti'\n",
    "vmin = 0 \n",
    "vmax = 10 \n",
    "liste_paths_images = []\n",
    "for count, img_path in enumerate([dataset[0]]) : \n",
    "    study_uid = img_path['study_id']\n",
    "    patient_id = img_path['patient_id']\n",
    "    pet_img = sitk.ReadImage(img_path['pet_img'], sitk.sitkFloat32)\n",
    "    pet_spacing = pet_img.GetSpacing()\n",
    "    pet_size = pet_img.GetSize()\n",
    "    pet_origin = pet_img.GetOrigin()\n",
    "    pet_direction = pet_img.GetDirection()\n",
    "    pet_array = sitk.GetArrayFromImage(pet_img)\n",
    "\n",
    "\n",
    "    pred_img = pipeline(img_path)\n",
    "    #save predictions as nifti \n",
    "\n",
    "    pred_array = sitk.GetArrayFromImage(pred_img)\n",
    "\n",
    "    #generate pdf with mip inference\n",
    "    for type_ in range(1,3):\n",
    "        filename = inference_pet_projection(pet_array, pred_array, study_uid, patient_id, axis=type_, directory=directory , vmin=vmin, vmax=vmax)\n",
    "        liste_paths_images.append(filename)\n",
    "generate_inference_pet_projection_pdf(liste_paths_images, directory, pdf_filename='inference')"
   ]
  },
  {
   "cell_type": "code",
   "execution_count": null,
   "metadata": {},
   "outputs": [],
   "source": [
    "#Dicom SEG \n",
    "\n",
    "segmentation = pred_img\n",
    "pet_path = '/media/deeplearning/LACIE SHARE/Olivier_Morel_sarcome/1.2.250.1.59.453.859.92444169.1516.1370594209.2.2.8'\n",
    "filename = 'sarcome_dicom_seg_v2.dcm'\n",
    "directory_path = '/media/deeplearning/LACIE SHARE/Olivier_Morel_sarcome'\n",
    "export_objet = ExportSegmentation_Writer(segmentation, segmentation_type='img', serie_path = pet_path, mode='dicomseg')\n",
    "export_objet.generate_dicom(filename = filename, directory_path = directory_path)"
   ]
  },
  {
   "cell_type": "code",
   "execution_count": null,
   "metadata": {},
   "outputs": [],
   "source": [
    "#NIFTI \n",
    "#Check here \n",
    "img = sitk.GetImageFromArray(np.flip(pred, axis = 0))\n",
    "img.SetSpacing(pet_spacing)\n",
    "img.SetOrigin(pet_origin)\n",
    "img.SetDirection(pet_direction)\n",
    "\n",
    "directory = '/media/deeplearning/LACIE SHARE/Olivier_Morel_sarcome'\n",
    "filename = directory + '/'+ 'nifti_mask_prediction_v6.nii'\n",
    "sitk.WriteImage(img, filename)"
   ]
  },
  {
   "cell_type": "code",
   "execution_count": null,
   "metadata": {},
   "outputs": [],
   "source": [
    "#DICOM RTSTRUCT \n",
    "from library_dicom.export_segmentation.ExportSegmentation_Writer import ExportSegmentation_Writer\n",
    "from library_dicom.dicom_processor.tools.folders import *\n",
    "from library_dicom.export_segmentation.tools.rtss_writer_tools import *\n",
    "from skimage.measure import label\n",
    "\n",
    "#Clean the mask + label \n",
    "\n",
    "\n",
    "segmentation = pred_img\n",
    "segmentation =  sitk.GetArrayFromImage(segmentation)\n",
    "segmentation = clean_mask(segmentation)\n",
    "labelled = label(segmentation)\n",
    "#generate rtstruct file \n",
    "pet_path = '/media/deeplearning/LACIE SHARE/Olivier_Morel_sarcome/1.2.250.1.59.453.859.92444169.1516.1370594209.2.2.8'\n",
    "export_objet = ExportSegmentation_Writer(labelled, segmentation_type ='matrix', serie_path = pet_path, mode = 'rtstruct')\n",
    "filename = 'sarcome_rtstruct_v2.dcm'\n",
    "directory_path = '/media/deeplearning/LACIE SHARE/Olivier_Morel_sarcome'\n",
    "export_objet.generate_dicom(filename, directory_path)\n"
   ]
  },
  {
   "cell_type": "code",
   "execution_count": null,
   "metadata": {},
   "outputs": [],
   "source": []
  },
  {
   "cell_type": "code",
   "execution_count": null,
   "metadata": {},
   "outputs": [],
   "source": []
  },
  {
   "cell_type": "code",
   "execution_count": null,
   "metadata": {},
   "outputs": [],
   "source": []
  }
 ],
 "metadata": {
  "kernelspec": {
   "display_name": "Python 3",
   "language": "python",
   "name": "python3"
  },
  "language_info": {
   "codemirror_mode": {
    "name": "ipython",
    "version": 3
   },
   "file_extension": ".py",
   "mimetype": "text/x-python",
   "name": "python",
   "nbconvert_exporter": "python",
   "pygments_lexer": "ipython3",
   "version": "3.8.5"
  }
 },
 "nbformat": 4,
 "nbformat_minor": 2
}