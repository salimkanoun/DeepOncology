{
 "cells": [
  {
   "cell_type": "code",
   "execution_count": null,
   "metadata": {},
   "outputs": [],
   "source": [
    "from experiments.exp_3d.preprocessing import *\n",
    "from losses.Metrics import metric_dice\n",
    "\n",
    "from lib.visualize import display_instance\n",
    "from experiments.exp_3d.inference import Pipeline\n",
    "\n",
    "import matplotlib.pyplot as plt\n",
    "import pandas as pd \n",
    "\n",
    "import pydicom\n",
    "import pydicom_seg\n",
    "import SimpleITK as sitk\n",
    "from library_dicom.export_segmentation.ExportSegmentation_Writer import ExportSegmentation_Writer"
   ]
  },
  {
   "cell_type": "code",
   "execution_count": null,
   "metadata": {},
   "outputs": [],
   "source": [
    "target_size = (128, 128, 256)\n",
    "target_spacing = (4.0, 4.0, 4.0)\n",
    "target_direction = (1,0,0,0,1,0,0,0,1)\n",
    "model_path = '/media/deeplearning/LACIE SHARE/RUDY_WEIGTH/training/20201125-17_00_45/trained_model_20201125-17_00_45.h5'\n",
    "target_origin = None\n",
    "from_pp = False\n",
    "\n",
    "csv_path = '/media/deeplearning/LACIE SHARE/Olivier_Morel_sarcome/inference.csv'\n",
    "\n",
    "\n",
    "df = pd.read_csv(csv_path)\n",
    "dataset = df[['study_id', 'ct_img', 'pet_img']].to_dict('records')\n",
    "print(dataset)\n",
    "print(\"\")\n",
    "pipeline = Pipeline(target_size, target_spacing, target_direction, model_path=model_path, target_origin=None, from_pp=False)\n",
    "print(\"Pipeline object initialized\")"
   ]
  },
  {
   "cell_type": "code",
   "execution_count": null,
   "metadata": {},
   "outputs": [],
   "source": [
    "for count, img_path in enumerate(dataset) : \n",
    "    study_uid = img_path['study_id']\n",
    "    pet_img = sitk.ReadImage(img_path['pet_img'], sitk.sitkFloat32)\n",
    "    pet_spacing = pet_img.GetSpacing()\n",
    "    pet_size = pet_img.GetSize()\n",
    "    pet_origin = pet_img.GetOrigin()\n",
    "    pet_direction = pet_img.GetDirection()\n",
    "    #pet_array = np.rot90(sitk.GetArrayFromImage(pet_img),2)\n",
    "    pet_array = sitk.GetArrayFromImage(pet_img)\n",
    "    print(pet_array.shape)\n",
    "\n",
    "    axis = 1\n",
    "    fig, (ax1, ax2) = plt.subplots(1, 2, figsize=(20, 10))\n",
    "    fig.suptitle(\"id : {}\".format(study_uid))\n",
    "    display_instance(pet_array, mask_array=None, axis=axis, ax=ax1)\n",
    "    ax1.set_title('PET scan')\n",
    "    \n",
    "    \n",
    "    pred_img = pipeline(img_path)\n",
    "    #print(str(type(pred_nifti)))\n",
    "    #pred = np.rot90(sitk.GetArrayFromImage(pred_nifti),2)\n",
    "    pred = sitk.GetArrayFromImage(pred_img)\n",
    "    print(pred.shape)\n",
    "    display_instance(pet_array, mask_array=pred, axis=axis, ax=ax2)\n",
    "    ax2.set_title('prediction')"
   ]
  },
  {
   "source": [
    "### - Generate DICOM-SEG file "
   ],
   "cell_type": "markdown",
   "metadata": {}
  },
  {
   "cell_type": "code",
   "execution_count": null,
   "metadata": {},
   "outputs": [],
   "source": [
    "segmentation = pred_img\n",
    "pet_path = '/media/deeplearning/LACIE SHARE/Olivier_Morel_sarcome/1.2.250.1.59.453.859.92444169.1516.1370594209.2.2.8'\n",
    "filename = 'sarcome_dicom_seg.dcm'\n",
    "directory_path = '/media/deeplearning/LACIE SHARE/Olivier_Morel_sarcome'\n",
    "export_objet = ExportSegmentation_Writer(segmentation, segmentation_type='img', serie_path = pet_path, mode='dicomseg')\n",
    "export_objet.generate_dicom(filename = filename, directory_path = directory_path)"
   ]
  },
  {
   "source": [
    "### - Generate nifti "
   ],
   "cell_type": "markdown",
   "metadata": {}
  },
  {
   "cell_type": "code",
   "execution_count": null,
   "metadata": {},
   "outputs": [],
   "source": [
    "#Check here \n",
    "img = sitk.GetImageFromArray(np.flip(pred, axis = 0))\n",
    "img.SetSpacing(pet_spacing)\n",
    "img.SetOrigin(pet_origin)\n",
    "img.SetDirection(pet_direction)\n",
    "\n",
    "directory = '/media/deeplearning/LACIE SHARE/Olivier_Morel_sarcome'\n",
    "filename = directory + '/'+ 'nifti_mask_prediction_v6.nii'\n",
    "sitk.WriteImage(img, filename)"
   ]
  },
  {
   "source": [
    "### - Generate RTSTRUCT file "
   ],
   "cell_type": "markdown",
   "metadata": {}
  },
  {
   "source": [
    "from library_dicom.export_segmentation.ExportSegmentation_Writer import ExportSegmentation_Writer\n",
    "from library_dicom.dicom_processor.tools.folders import *\n",
    "from library_dicom.export_segmentation.tools.rtss_writer_tools import *\n",
    "from skimage.measure import label\n",
    "\n",
    "\n",
    "segmentation = sitk.GetArrayFromImage(pred_img)\n",
    "segmentation = clean_mask(segmentation)\n",
    "segmentation = label(segmentation)\n",
    "\n",
    "#generate rtstruct file \n",
    "pet_path = '/media/deeplearning/LACIE SHARE/Olivier_Morel_sarcome/1.2.250.1.59.453.859.92444169.1516.1370594209.2.2.8'\n",
    "export_objet = ExportSegmentation_Writer(segmentation, segmentation_type ='matrix', serie_path = pet_path, mode = 'rtstruct')\n",
    "filename = 'sarcome_rtstruct.dcm'\n",
    "directory_path = '/media/deeplearning/LACIE SHARE/Olivier_Morel_sarcome'\n",
    "export_objet.generate_dicom(filename, directory_path)"
   ],
   "cell_type": "code",
   "metadata": {},
   "execution_count": null,
   "outputs": []
  }
 ],
 "metadata": {
  "kernelspec": {
   "display_name": "Python 3.8.2 64-bit",
   "language": "python",
   "name": "python38264bit4afc185bc98b42c389abdbb3fbeec8dd"
  },
  "language_info": {
   "codemirror_mode": {
    "name": "ipython",
    "version": 3
   },
   "file_extension": ".py",
   "mimetype": "text/x-python",
   "name": "python",
   "nbconvert_exporter": "python",
   "pygments_lexer": "ipython3",
   "version": "3.8.5-final"
  }
 },
 "nbformat": 4,
 "nbformat_minor": 4
}