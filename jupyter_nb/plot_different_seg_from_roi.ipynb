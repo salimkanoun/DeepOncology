{
 "cells": [
  {
   "cell_type": "code",
   "execution_count": null,
   "metadata": {},
   "outputs": [],
   "source": [
    "\n",
    "import pandas as pd\n",
    "import numpy as np\n",
    "import pickle\n",
    "import os\n",
    "import json\n",
    "\n",
    "from class_modalities.datasets import DataManager\n",
    "\n",
    "from class_modalities.transforms import LoadNifti, Compose, Roi2Mask_probs, ResampleReshapeAlign, Sitk2Numpy, ScaleIntensityRanged\n",
    "import SimpleITK as sitk"
   ]
  },
  {
   "cell_type": "code",
   "execution_count": null,
   "metadata": {},
   "outputs": [],
   "source": [
    "import matplotlib.pyplot as plt\n",
    "import seaborn as sns\n",
    "%matplotlib inline"
   ]
  },
  {
   "cell_type": "code",
   "execution_count": null,
   "metadata": {},
   "outputs": [],
   "source": [
    "def display_info(img):\n",
    "    print('img information :')\n",
    "    print('\\t Origin    :', img.GetOrigin())\n",
    "    print('\\t Size      :', img.GetSize())\n",
    "    print('\\t Spacing   :', img.GetSpacing())\n",
    "    print('\\t Direction :', img.GetDirection())"
   ]
  },
  {
   "cell_type": "code",
   "execution_count": null,
   "metadata": {},
   "outputs": [],
   "source": [
    "from mrcnn import visualize\n",
    "from mrcnn.visualize import display_images\n",
    "\n",
    "import colorsys\n",
    "import random\n",
    "\n",
    "seed_color = 0\n",
    "def random_colors(N, bright=True):\n",
    "    \"\"\"\n",
    "    Generate random colors.\n",
    "    To get visually distinct colors, generate them in HSV space then\n",
    "    convert to RGB.\n",
    "    \"\"\"\n",
    "    brightness = 1.0 if bright else 0.7\n",
    "    hsv = [(i / N, 1, brightness) for i in range(N)]\n",
    "    colors = list(map(lambda c: colorsys.hsv_to_rgb(*c), hsv))\n",
    "    random.Random(seed_color).shuffle(colors)\n",
    "    return colors\n",
    "\n",
    "def generate_bbox(img):\n",
    "    # generate bounding box from the segmentation\n",
    "    bbox = []\n",
    "    for i in range(img.shape[2]):\n",
    "        indexes = np.where(img[:, :, i])\n",
    "        y1, y2 = min(indexes[0]), max(indexes[0])\n",
    "        x1, x2 = min(indexes[1]), max(indexes[1])\n",
    "        bbox.append([y1, x1, y2, x2])\n",
    "\n",
    "    return np.array(bbox)\n",
    "\n",
    "def plot_mip_whole_scan(mip_pet, mip_mask_true, ax=None):\n",
    "#     # MIP\n",
    "#     mip_pet = np.max(pet_array, axis=axis)\n",
    "#     mip_mask_true = np.max(mask_array axis=axis)\n",
    "\n",
    "\n",
    "    #\n",
    "    # prepapre img for plotting \n",
    "    mip_pet[mip_pet>5.0] = 5.0\n",
    "    mip_pet = (255*mip_pet/5.0).astype(int)\n",
    "    # convert to RBG + MIP\n",
    "    image = mip_pet[:, :, None] * np.ones(3, dtype=int)[None, None, :]\n",
    "\n",
    "    # add dims\n",
    "    mip_mask_true = np.expand_dims(mip_mask_true, axis=-1)\n",
    "\n",
    "    # generate bbox from mask\n",
    "    bbox = generate_bbox(mip_mask_true)\n",
    "\n",
    "    colors = random_colors(bbox.shape[0])\n",
    "\n",
    "    # plot the result\n",
    "    class_ids, class_names = np.ones(bbox.shape[0], dtype=int), [\"\", \"\"] # ['background', 'lymphoma']\n",
    "    visualize.display_instances(image, bbox, mip_mask_true, class_ids, class_names, show_bbox=False,\n",
    "                               ax=ax)\n",
    "#         axes[ii].set_title(titles[threshold])\n",
    "\n",
    "    # plt.show()\n",
    "    "
   ]
  },
  {
   "cell_type": "code",
   "execution_count": null,
   "metadata": {},
   "outputs": [],
   "source": []
  },
  {
   "cell_type": "code",
   "execution_count": null,
   "metadata": {},
   "outputs": [],
   "source": [
    "from scipy.stats import truncnorm, uniform\n",
    "from skimage import filters\n",
    "\n",
    "def relative_seg(roi):\n",
    "    \n",
    "    lower, upper = 0.33, 0.60\n",
    "    mu, std = 0.42, 0.06\n",
    "\n",
    "    a, b = (lower - mu) / std, (upper - mu) / std\n",
    "\n",
    "    return truncnorm.cdf(roi/np.max(roi), a, b, loc=mu, scale=std)\n",
    "\n",
    "def absolute_seg(roi):\n",
    "    \n",
    "    lower, upper = 2.0, 4.0\n",
    "    mu, std = 2.5, 0.5\n",
    "\n",
    "    a, b = (lower - mu) / std, (upper - mu) / std\n",
    "\n",
    "    return truncnorm.cdf(roi, a, b, loc=mu, scale=std)\n",
    "\n",
    "\n",
    "def otsu_seg(roi):\n",
    "    t = filters.threshold_otsu(roi)\n",
    "    return np.where(roi > t, 1, 0)\n"
   ]
  },
  {
   "cell_type": "code",
   "execution_count": null,
   "metadata": {},
   "outputs": [],
   "source": [
    "import os\n",
    "import glob\n",
    "\n",
    "def get_dataset():\n",
    "    data_path = '/media/sf_Deep_Oncopole/data/raw_data'\n",
    "    \n",
    "    pet_path = sorted(glob.glob(os.path.join(data_path, '*_nifti_PT.nii')))\n",
    "    ct_path = sorted(glob.glob(os.path.join(data_path,'*_nifti_CT.nii')))\n",
    "    mask_path = sorted(glob.glob(os.path.join(data_path,'*_nifti_mask.nii')))\n",
    "\n",
    "    dataset = []\n",
    "    for i in range(len(pet_path)):\n",
    "        dataset.append({'pet_img': pet_path[i],\n",
    "                       'ct_img': ct_path[i], \n",
    "                       'mask_img': mask_path[i]})\n",
    "\n",
    "    return dataset\n",
    "\n",
    "dataset = get_dataset()"
   ]
  },
  {
   "cell_type": "code",
   "execution_count": null,
   "metadata": {},
   "outputs": [],
   "source": []
  },
  {
   "cell_type": "code",
   "execution_count": null,
   "metadata": {},
   "outputs": [],
   "source": [
    "print(len(dataset))\n",
    "print(dataset[0])"
   ]
  },
  {
   "cell_type": "code",
   "execution_count": null,
   "metadata": {},
   "outputs": [],
   "source": []
  },
  {
   "cell_type": "code",
   "execution_count": null,
   "metadata": {},
   "outputs": [],
   "source": [
    "image_shape = (256, 128, 128)  # (z, y, x)\n",
    "voxel_spacing = (4.0, 4.8, 4.8) # (z, y, x)"
   ]
  },
  {
   "cell_type": "code",
   "execution_count": null,
   "metadata": {},
   "outputs": [],
   "source": []
  },
  {
   "cell_type": "code",
   "execution_count": null,
   "metadata": {},
   "outputs": [],
   "source": []
  },
  {
   "cell_type": "code",
   "execution_count": null,
   "metadata": {},
   "outputs": [],
   "source": [
    "target_shape = image_shape[::-1]  # (z, y, x) to (x, y, z)\n",
    "target_voxel_spacing = voxel_spacing[::-1]\n",
    "\n",
    "transformers2 = Compose([  # read img + meta info\n",
    "    LoadNifti(keys=(\"pet_img\", \"ct_img\", \"mask_img\")),\n",
    "    Roi2Mask_probs(keys=('pet_img', 'mask_img'),\n",
    "                   method='absolute', new_key_name='mask_img_absolute'),\n",
    "    Roi2Mask_probs(keys=('pet_img', 'mask_img'),\n",
    "                   method='relative', new_key_name='mask_img_relative'),\n",
    "    Roi2Mask_probs(keys=('pet_img', 'mask_img'),\n",
    "                   method='otsu', new_key_name='mask_img_otsu'),\n",
    "#     ResampleReshapeAlign(target_shape, target_voxel_spacing,\n",
    "#                          keys=['pet_img', \"ct_img\",\n",
    "#                                'mask_img_absolute', 'mask_img_relative', 'mask_img_otsu'],\n",
    "#                          origin='head', origin_key='pet_img',\n",
    "#                          interpolator={'pet_img': sitk.sitkLinear,\n",
    "#                                        'ct_img': sitk.sitkLinear,\n",
    "#                                        'mask_img': sitk.sitkLinear,\n",
    "#                                        'mask_img_absolute': sitk.sitkLinear,\n",
    "#                                        'mask_img_relative': sitk.sitkLinear,\n",
    "#                                        'mask_img_otsu': sitk.sitkLinear},\n",
    "#                          default_value={'pet_img': 0.0,\n",
    "#                                         'ct_img': -1000.0,\n",
    "#                                         'mask_img': 0,\n",
    "#                                         'mask_img_absolute': 0.0,\n",
    "#                                         'mask_img_relative': 0.0,\n",
    "#                                         'mask_img_otsu': 0.0}),\n",
    "    Sitk2Numpy(keys=['pet_img', 'ct_img',\n",
    "                     'mask_img_absolute', 'mask_img_relative', 'mask_img_otsu'])\n",
    "])"
   ]
  },
  {
   "cell_type": "code",
   "execution_count": null,
   "metadata": {},
   "outputs": [],
   "source": []
  },
  {
   "cell_type": "code",
   "execution_count": null,
   "metadata": {},
   "outputs": [],
   "source": [
    "img_path = dataset[0]\n",
    "\n",
    "result = transformers2(img_path)\n",
    "print(result.keys())"
   ]
  },
  {
   "cell_type": "code",
   "execution_count": null,
   "metadata": {},
   "outputs": [],
   "source": []
  },
  {
   "cell_type": "code",
   "execution_count": null,
   "metadata": {},
   "outputs": [],
   "source": [
    "display_info(result['mask_img'])"
   ]
  },
  {
   "cell_type": "code",
   "execution_count": null,
   "metadata": {},
   "outputs": [],
   "source": [
    "roi_img = sitk.GetArrayFromImage(result['mask_img'])"
   ]
  },
  {
   "cell_type": "code",
   "execution_count": null,
   "metadata": {},
   "outputs": [],
   "source": [
    "np.unique(roi_img)"
   ]
  },
  {
   "cell_type": "code",
   "execution_count": null,
   "metadata": {},
   "outputs": [],
   "source": [
    "roi_img.shape"
   ]
  },
  {
   "cell_type": "code",
   "execution_count": null,
   "metadata": {},
   "outputs": [],
   "source": [
    "result['pet_img'].shape"
   ]
  },
  {
   "cell_type": "code",
   "execution_count": null,
   "metadata": {},
   "outputs": [],
   "source": [
    "np.where(roi_img[0])"
   ]
  },
  {
   "cell_type": "code",
   "execution_count": null,
   "metadata": {},
   "outputs": [],
   "source": [
    "idx_roi = 0\n",
    "\n",
    "x_min, x_max = min(np.where(roi_img[idx_roi])[0]), max(np.where(roi_img[idx_roi])[0])\n",
    "y_min, y_max = min(np.where(roi_img[idx_roi])[1]), max(np.where(roi_img[idx_roi])[1])\n",
    "z_min, z_max = min(np.where(roi_img[idx_roi])[2]), max(np.where(roi_img[idx_roi])[2])"
   ]
  },
  {
   "cell_type": "code",
   "execution_count": null,
   "metadata": {},
   "outputs": [],
   "source": []
  },
  {
   "cell_type": "code",
   "execution_count": null,
   "metadata": {},
   "outputs": [],
   "source": []
  },
  {
   "cell_type": "code",
   "execution_count": null,
   "metadata": {},
   "outputs": [],
   "source": [
    "pet_roi = result['pet_img'][x_min:x_max, y_min:y_max, z_min:z_max]\n",
    "mask_rois = dict()\n",
    "for key in ['mask_img_absolute', 'mask_img_relative', 'mask_img_otsu']:\n",
    "    mask_rois[key] = result[key][x_min:x_max, y_min:y_max, z_min:z_max]\n",
    "\n"
   ]
  },
  {
   "cell_type": "code",
   "execution_count": null,
   "metadata": {},
   "outputs": [],
   "source": [
    "from mpl_toolkits.axes_grid1 import make_axes_locatable"
   ]
  },
  {
   "cell_type": "code",
   "execution_count": null,
   "metadata": {},
   "outputs": [],
   "source": []
  },
  {
   "cell_type": "code",
   "execution_count": null,
   "metadata": {
    "scrolled": false
   },
   "outputs": [],
   "source": [
    "keys = ['mask_img_absolute', 'mask_img_relative', 'mask_img_otsu']\n",
    "axis = 2  # x_axis\n",
    "n_rows = len(keys) + 2\n",
    "# print(result['pet_img'].shape)\n",
    "\n",
    "# fig = plt.figure(figsize=(12, 8))\n",
    "fig, axes = plt.subplots(n_rows, 2, figsize=(16, 16))\n",
    "\n",
    "# PLOT HISTOGRAM and probs\n",
    "\n",
    "hist_roi = result['pet_img'][np.where(roi_img[idx_roi]>0)]\n",
    "\n",
    "sns.distplot(hist_roi, ax=axes[0, 1])\n",
    "axes[0, 1].set_title('PET hist')\n",
    "# axes[0, 1].set_xlabel('SUV')\n",
    "\n",
    "\n",
    "hist_roi = np.array(sorted(hist_roi))\n",
    "fc_dict = {'mask_img_absolute': absolute_seg, \n",
    "           'mask_img_relative': relative_seg,\n",
    "           'mask_img_otsu': otsu_seg}\n",
    "\n",
    "mean_probs = []\n",
    "for ii, key in enumerate(keys):\n",
    "    probs = fc_dict[key](hist_roi)\n",
    "    mean_probs.append(probs)\n",
    "    axes[ii+1, 1].plot(hist_roi, probs)\n",
    "    axes[ii+1, 1].set_title(key)\n",
    "    \n",
    "ii = len(keys)\n",
    "mean_probs = np.mean(mean_probs, axis=0)\n",
    "axes[ii+1, 1].plot(hist_roi, mean_probs)\n",
    "axes[ii+1, 1].set_title('mean')\n",
    "\n",
    "\n",
    "\n",
    "\n",
    "\n",
    "\n",
    "# PLOT image & mask\n",
    "\n",
    "\n",
    "# ax1 = fig.add_subplot(n_rows, 1, 1)\n",
    "im1 = axes[0, 0].imshow(np.max(pet_roi, axis=axis), cmap='hot')\n",
    "\n",
    "divider = make_axes_locatable(axes[0, 0])\n",
    "cax = divider.append_axes('right', size='5%', pad=0.05)\n",
    "fig.colorbar(im1, cax=cax, orientation='vertical')\n",
    "axes[0, 0].set_title('MIP PET')\n",
    "\n",
    "for ii, key in enumerate(keys):\n",
    "#     ax2 = fig.add_subplot(2, 1, 2)\n",
    "    im2 = axes[ii+1, 0].imshow(np.max(mask_rois[key], axis=axis))\n",
    "\n",
    "    divider = make_axes_locatable(axes[ii+1, 0])\n",
    "    cax = divider.append_axes('right', size='5%', pad=0.05)\n",
    "    fig.colorbar(im2, cax=cax, orientation='vertical')\n",
    "    axes[ii+1, 0].set_title(key)\n",
    "    \n",
    "ii = len(keys)\n",
    "mean_mask = np.mean([mask_rois[key] for key in keys], axis=0)\n",
    "im2 = axes[ii+1, 0].imshow(np.max(mean_mask, axis=axis))\n",
    "\n",
    "divider = make_axes_locatable(axes[ii+1, 0])\n",
    "cax = divider.append_axes('right', size='5%', pad=0.05)\n",
    "fig.colorbar(im2, cax=cax, orientation='vertical')\n",
    "axes[ii+1, 0].set_title('mean_mask')\n",
    "\n",
    "\n",
    "\n",
    "plt.subplots_adjust(top=0.92, bottom=0.08, left=0.10, right=0.95,\n",
    "                   hspace=0.25, wspace=0.35)\n",
    "plt.show()"
   ]
  },
  {
   "cell_type": "code",
   "execution_count": null,
   "metadata": {},
   "outputs": [],
   "source": []
  },
  {
   "cell_type": "code",
   "execution_count": null,
   "metadata": {},
   "outputs": [],
   "source": []
  },
  {
   "cell_type": "code",
   "execution_count": null,
   "metadata": {},
   "outputs": [],
   "source": [
    "len(np.where(np.zeros(100))[0])"
   ]
  },
  {
   "cell_type": "code",
   "execution_count": null,
   "metadata": {},
   "outputs": [],
   "source": [
    "def plot_seg_hist(result, idx_roi, axis=1):\n",
    "    \"\"\"\n",
    "    axis = (z, y, x)\n",
    "    \"\"\"\n",
    "    axis_list = axis if isinstance(axis, (list, tuple)) else [axis]\n",
    "    \n",
    "    if len(np.where(roi_img[idx_roi])[0]) == 0 :\n",
    "        print('empty R.O.I')\n",
    "        return None\n",
    "    \n",
    "    x_min, x_max = min(np.where(roi_img[idx_roi])[0]), max(np.where(roi_img[idx_roi])[0]) + 1\n",
    "    y_min, y_max = min(np.where(roi_img[idx_roi])[1]), max(np.where(roi_img[idx_roi])[1]) + 1\n",
    "    z_min, z_max = min(np.where(roi_img[idx_roi])[2]), max(np.where(roi_img[idx_roi])[2]) + 1\n",
    "    \n",
    "    pet_roi = result['pet_img'].copy()\n",
    "    pet_roi[np.where(roi_img[idx_roi]==0)] = 0.0\n",
    "    pet_roi = pet_roi[x_min:x_max, y_min:y_max, z_min:z_max]\n",
    "#     pet_roi = result['pet_img'][x_min:x_max, y_min:y_max, z_min:z_max]\n",
    "    \n",
    "    mask_rois = dict()\n",
    "    for key in ['mask_img_absolute', 'mask_img_relative', 'mask_img_otsu']:\n",
    "        mask_rois[key] = result[key][x_min:x_max, y_min:y_max, z_min:z_max]\n",
    "    \n",
    "    \n",
    "    \n",
    "    keys = ['mask_img_absolute', 'mask_img_relative', 'mask_img_otsu']\n",
    "    n_rows = len(keys) + 2 # PET + method + mean method\n",
    "    n_cols = len(axis_list) + 1 # MIP + hist\n",
    "    # print(result['pet_img'].shape)\n",
    "\n",
    "    # fig = plt.figure(figsize=(12, 8))\n",
    "    fig, axes = plt.subplots(n_rows, n_cols, figsize=(16, 16))\n",
    "\n",
    "    # PLOT HISTOGRAM and probs\n",
    "\n",
    "    hist_roi = result['pet_img'][np.where(roi_img[idx_roi]>0)]\n",
    "\n",
    "    sns.distplot(hist_roi, ax=axes[0, n_cols-1])\n",
    "    axes[0, n_cols-1].set_title('PET hist')\n",
    "    # axes[0, 1].set_xlabel('SUV')\n",
    "\n",
    "\n",
    "    hist_roi = np.array(sorted(hist_roi))\n",
    "    fc_dict = {'mask_img_absolute': absolute_seg, \n",
    "               'mask_img_relative': relative_seg,\n",
    "               'mask_img_otsu': otsu_seg}\n",
    "    titles_dict = {'mask_img_absolute': 'threshold ~ 2.5 SUV', \n",
    "                   'mask_img_relative': 'threshold ~ 42 % SUV max',\n",
    "                   'mask_img_otsu': 'threshold otsu'}\n",
    "\n",
    "    mean_probs = []\n",
    "    for ii, key in enumerate(keys):\n",
    "        probs = fc_dict[key](hist_roi)\n",
    "        mean_probs.append(probs)\n",
    "        axes[ii+1, n_cols-1].plot(hist_roi, probs)\n",
    "        axes[ii+1, n_cols-1].set_title(key)\n",
    "\n",
    "    ii = len(keys)\n",
    "    mean_probs = np.mean(mean_probs, axis=0)\n",
    "    axes[ii+1, n_cols-1].plot(hist_roi, mean_probs)\n",
    "    axes[ii+1, n_cols-1].set_title('average')\n",
    "\n",
    "\n",
    "    # PLOT image & mask\n",
    "    \n",
    "    for ncol, axis in enumerate(axis_list):\n",
    "\n",
    "        # ax1 = fig.add_subplot(n_rows, 1, 1)\n",
    "        im1 = axes[0, ncol].imshow(np.max(pet_roi, axis=axis), cmap='hot')\n",
    "\n",
    "        divider = make_axes_locatable(axes[0, ncol])\n",
    "        cax = divider.append_axes('right', size='5%', pad=0.05)\n",
    "        fig.colorbar(im1, cax=cax, orientation='vertical')\n",
    "        axes[0, ncol].set_title('axis {} MIP \\nPET'.format(axis))\n",
    "        \n",
    "        mean_mask = []\n",
    "        for ii, key in enumerate(keys):\n",
    "        #     ax2 = fig.add_subplot(2, 1, 2)\n",
    "        \n",
    "            hist_roi = result['pet_img'][np.where(roi_img[idx_roi]>0)]\n",
    "            probs = fc_dict[key](hist_roi)\n",
    "            \n",
    "            mask = np.zeros(roi_img[idx_roi].shape)\n",
    "#             print(mask.shape)\n",
    "            mask[np.where(roi_img[idx_roi]>0)] = probs\n",
    "            mask = mask[x_min:x_max, y_min:y_max, z_min:z_max]\n",
    "            mean_mask.append(mask)\n",
    "            \n",
    "            im2 = axes[ii+1, ncol].imshow(np.max(mask, axis=axis))\n",
    "\n",
    "            divider = make_axes_locatable(axes[ii+1, ncol])\n",
    "            cax = divider.append_axes('right', size='5%', pad=0.05)\n",
    "            fig.colorbar(im2, cax=cax, orientation='vertical')\n",
    "            axes[ii+1, ncol].set_title(titles_dict[key])\n",
    "\n",
    "        ii = len(keys)\n",
    "        # mean_mask = np.mean([mask_rois[key] for key in keys], axis=0)\n",
    "        mean_mask = np.mean(mean_mask, axis=0)\n",
    "        im2 = axes[ii+1, ncol].imshow(np.max(mean_mask, axis=axis))\n",
    "\n",
    "        divider = make_axes_locatable(axes[ii+1, ncol])\n",
    "        cax = divider.append_axes('right', size='5%', pad=0.05)\n",
    "        fig.colorbar(im2, cax=cax, orientation='vertical')\n",
    "        axes[ii+1, ncol].set_title('average_mask')\n",
    "\n",
    "\n",
    "\n",
    "    plt.subplots_adjust(top=0.92, bottom=0.08, left=0.10, right=0.95,\n",
    "                       hspace=0.25, wspace=0.35)\n",
    "    plt.show()"
   ]
  },
  {
   "cell_type": "code",
   "execution_count": null,
   "metadata": {},
   "outputs": [],
   "source": []
  },
  {
   "cell_type": "code",
   "execution_count": null,
   "metadata": {},
   "outputs": [],
   "source": []
  },
  {
   "cell_type": "code",
   "execution_count": null,
   "metadata": {},
   "outputs": [],
   "source": []
  },
  {
   "cell_type": "code",
   "execution_count": null,
   "metadata": {},
   "outputs": [],
   "source": [
    "idx_data = -1"
   ]
  },
  {
   "cell_type": "code",
   "execution_count": null,
   "metadata": {},
   "outputs": [],
   "source": [
    "idx_data += 1 # = 8\n",
    "print(idx_data)\n",
    "img_path = dataset[idx_data]\n",
    "\n",
    "result = transformers2(img_path)\n",
    "print(result.keys())"
   ]
  },
  {
   "cell_type": "code",
   "execution_count": null,
   "metadata": {},
   "outputs": [],
   "source": [
    "roi_img = sitk.GetArrayFromImage(result['mask_img'])\n",
    "if len(roi_img.shape) == 3:\n",
    "    roi_img = np.expand_dims(roi_img, axis=0)\n",
    "print(roi_img.shape)"
   ]
  },
  {
   "cell_type": "code",
   "execution_count": null,
   "metadata": {},
   "outputs": [],
   "source": []
  },
  {
   "cell_type": "code",
   "execution_count": null,
   "metadata": {
    "scrolled": false
   },
   "outputs": [],
   "source": [
    "print('n_roi : ', roi_img.shape[0])\n",
    "for idx_roi in range(roi_img.shape[0]):\n",
    "    print(idx_roi)\n",
    "    plot_seg_hist(result, idx_roi, axis=(2, 1, 0))\n",
    "    \n",
    "    "
   ]
  },
  {
   "cell_type": "code",
   "execution_count": null,
   "metadata": {},
   "outputs": [],
   "source": []
  },
  {
   "cell_type": "code",
   "execution_count": null,
   "metadata": {},
   "outputs": [],
   "source": []
  },
  {
   "cell_type": "code",
   "execution_count": null,
   "metadata": {},
   "outputs": [],
   "source": [
    "for axis in [1, 2]: #  axis = (x, y, z)\n",
    "    mip_pet = result['pet_img'].copy()\n",
    "    mip_pet = np.max(np.flip(mip_pet, axis=0), axis=axis)\n",
    "\n",
    "    keys = ['mask_img_absolute', 'mask_img_relative', 'mask_img_otsu']\n",
    "    title_dict = {'mask_img_absolute': '~2.5 SUV', \n",
    "             'mask_img_relative': '~42% SUV max', \n",
    "             'mask_img_otsu': 'otsu'}\n",
    "\n",
    "\n",
    "    figsize=(16, 16)\n",
    "    fig, axes = plt.subplots(1, len(keys)+1, figsize=figsize)\n",
    "    # print(axes)\n",
    "    masks = []\n",
    "    for ii, key in enumerate(keys):\n",
    "    #     print(ii, key)\n",
    "        mask = result[key].copy()\n",
    "        masks.append(mask)\n",
    "        mask = np.round(mask)\n",
    "        mask = np.max(np.flip(mask, axis=0), axis=axis)\n",
    "\n",
    "        plot_mip_whole_scan(mip_pet, mask, ax=axes[ii])\n",
    "        axes[ii].set_title(title_dict[key])\n",
    "        \n",
    "    average_mask = np.round(np.mean(masks, axis=0))\n",
    "    \n",
    "    mask = np.max(np.flip(average_mask, axis=0), axis=axis)\n",
    "\n",
    "    plot_mip_whole_scan(mip_pet, mask, ax=axes[ii+1])\n",
    "    axes[ii+1].set_title('average')\n",
    "\n",
    "    \n",
    "    plt.show()"
   ]
  },
  {
   "cell_type": "code",
   "execution_count": null,
   "metadata": {},
   "outputs": [],
   "source": [
    "# figsize=(16, 16)\n",
    "# fig, axes = plt.subplots(1, 3, figsize=figsize)\n",
    "\n",
    "# plot_mip_whole_scan(mip_pet, mip_mask_true)\n",
    "# plot_seg(ax=axes[i])\n",
    "\n",
    "# plt.show()"
   ]
  },
  {
   "cell_type": "code",
   "execution_count": null,
   "metadata": {},
   "outputs": [],
   "source": []
  },
  {
   "cell_type": "code",
   "execution_count": null,
   "metadata": {},
   "outputs": [],
   "source": []
  },
  {
   "cell_type": "code",
   "execution_count": null,
   "metadata": {},
   "outputs": [],
   "source": []
  },
  {
   "cell_type": "code",
   "execution_count": null,
   "metadata": {},
   "outputs": [],
   "source": []
  },
  {
   "cell_type": "code",
   "execution_count": null,
   "metadata": {},
   "outputs": [],
   "source": []
  }
 ],
 "metadata": {
  "kernelspec": {
   "display_name": "Python 3",
   "language": "python",
   "name": "python3"
  },
  "language_info": {
   "codemirror_mode": {
    "name": "ipython",
    "version": 3
   },
   "file_extension": ".py",
   "mimetype": "text/x-python",
   "name": "python",
   "nbconvert_exporter": "python",
   "pygments_lexer": "ipython3",
   "version": "3.8.3"
  }
 },
 "nbformat": 4,
 "nbformat_minor": 4
}
