{
 "cells": [
  {
   "cell_type": "code",
   "execution_count": null,
   "metadata": {},
   "outputs": [],
   "source": [
    "import os\n",
    "\n",
    "import pandas as pd\n",
    "import numpy as np\n",
    "\n",
    "import matplotlib.pyplot as plt\n",
    "import seaborn as sns\n",
    "\n",
    "from sklearn.metrics import r2_score\n",
    "from scipy.stats import pearsonr"
   ]
  },
  {
   "cell_type": "code",
   "execution_count": null,
   "metadata": {},
   "outputs": [],
   "source": []
  },
  {
   "cell_type": "code",
   "execution_count": null,
   "metadata": {},
   "outputs": [],
   "source": []
  },
  {
   "cell_type": "code",
   "execution_count": null,
   "metadata": {},
   "outputs": [],
   "source": [
    "df = pd.read_csv('/home/oncopole/Documents/Rudy/DeepOncopole/data/DB_PATH_NIFTI.csv')\n",
    "df = df[df['PET']=='pet0']"
   ]
  },
  {
   "cell_type": "code",
   "execution_count": null,
   "metadata": {
    "scrolled": true
   },
   "outputs": [],
   "source": [
    "df.head()"
   ]
  },
  {
   "cell_type": "code",
   "execution_count": null,
   "metadata": {},
   "outputs": [],
   "source": [
    "df.columns"
   ]
  },
  {
   "cell_type": "code",
   "execution_count": null,
   "metadata": {},
   "outputs": [],
   "source": []
  },
  {
   "cell_type": "code",
   "execution_count": null,
   "metadata": {},
   "outputs": [],
   "source": [
    "import numpy as np\n",
    "import SimpleITK as sitk\n",
    "\n",
    "dtypes = {'pet_img': sitk.sitkFloat32,\n",
    "          'ct_img': sitk.sitkFloat32,\n",
    "          'mask_img': sitk.sitkUInt8}\n",
    "\n",
    "# sitk.ReadImage(filename, self.dtypes['pet_img'])\n",
    "# sitk.GetArrayFromImage()"
   ]
  },
  {
   "cell_type": "code",
   "execution_count": null,
   "metadata": {},
   "outputs": [],
   "source": []
  },
  {
   "cell_type": "code",
   "execution_count": null,
   "metadata": {},
   "outputs": [],
   "source": [
    "from skimage import filters\n",
    "\n",
    "def calculate_threshold(roi, threshold, tval):\n",
    "    if threshold == 'absolute':\n",
    "        if tval is None:\n",
    "            return 2.5\n",
    "        return tval\n",
    "    elif threshold == 'relative':\n",
    "        if len(roi) == 0:\n",
    "            return 1.0\n",
    "        else:\n",
    "            try : \n",
    "                SUV_max = np.max(roi)\n",
    "            except:\n",
    "                SUV_max = 0.0\n",
    "            if tval is None:\n",
    "                return SUV_max * 0.42\n",
    "            else:\n",
    "                return SUV_max * tval\n",
    "    \n",
    "    elif threshold == 'otsu':\n",
    "        try :\n",
    "            return filters.threshold_otsu(roi)\n",
    "        except:\n",
    "            if len(roi) == 0 :\n",
    "                return 0.0\n",
    "            else:\n",
    "                return np.max(roi) + 1\n",
    "\n",
    "\n",
    "def roi2mask(pet_array, mask_array, threshold='otsu', tval=None):\n",
    "    if len(mask_array.shape)==3:\n",
    "        mask_array = np.expand_dims(mask_array, axis=0)\n",
    "    \n",
    "    new_mask = np.zeros(mask_array.shape[1:], dtype=np.int8)\n",
    "    \n",
    "    for num_slice in range(mask_array.shape[0]):\n",
    "        mask_slice = mask_array[num_slice]\n",
    "        roi = pet_array[mask_slice > 0]\n",
    "        \n",
    "        t = calculate_threshold(roi, threshold=threshold, tval=tval)\n",
    "\n",
    "        # apply threshold\n",
    "        new_mask[np.where((pet_array >= t) & (mask_slice > 0))] = 1\n",
    "        \n",
    "    return new_mask"
   ]
  },
  {
   "cell_type": "code",
   "execution_count": null,
   "metadata": {},
   "outputs": [],
   "source": []
  },
  {
   "cell_type": "code",
   "execution_count": null,
   "metadata": {},
   "outputs": [],
   "source": [
    "import colorsys\n",
    "import random\n",
    "\n",
    "seed_color = 0\n",
    "def random_colors(N, bright=True):\n",
    "    \"\"\"\n",
    "    Generate random colors.\n",
    "    To get visually distinct colors, generate them in HSV space then\n",
    "    convert to RGB.\n",
    "    \"\"\"\n",
    "    brightness = 1.0 if bright else 0.7\n",
    "    hsv = [(i / N, 1, brightness) for i in range(N)]\n",
    "    colors = list(map(lambda c: colorsys.hsv_to_rgb(*c), hsv))\n",
    "    random.Random(seed_color).shuffle(colors)\n",
    "    return colors"
   ]
  },
  {
   "cell_type": "code",
   "execution_count": null,
   "metadata": {},
   "outputs": [],
   "source": [
    "from skimage import filters\n",
    "\n",
    "def calculate_threshold2(roi):\n",
    "#     return 2.5\n",
    "    #return np.max(roi) * 0.42\n",
    "    return filters.threshold_otsu(roi)\n",
    "\n",
    "\n",
    "def roi2mask_slice(pet_array, mask_array):\n",
    "    \n",
    "    new_mask = np.zeros(mask_array.shape)\n",
    "    \n",
    "    for num_slice in range(mask_array.shape[0]):\n",
    "        mask_slice = mask_array[num_slice]\n",
    "        roi = pet_array[mask_slice > 0]\n",
    "        \n",
    "        threshold = calculate_threshold2(roi)\n",
    "\n",
    "        # apply threshold\n",
    "        new_mask[num_slice][np.where((pet_array >= threshold) & (mask_slice > 0))] = 1\n",
    "        \n",
    "    return new_mask\n",
    "\n",
    "from skimage import measure\n",
    "\n",
    "# def to_onehot(values):\n",
    "#     n_values = np.max(values) + 1\n",
    "#     return np.eye(n_values)[values]\n",
    "\n",
    "from mrcnn import visualize\n",
    "from mrcnn.visualize import display_images\n"
   ]
  },
  {
   "cell_type": "code",
   "execution_count": null,
   "metadata": {},
   "outputs": [],
   "source": []
  },
  {
   "cell_type": "code",
   "execution_count": null,
   "metadata": {},
   "outputs": [],
   "source": [
    "\n",
    "def plot_seg(study_uid, img_path, axis=1):\n",
    "    \n",
    "    \n",
    "    figsize=(16, 16)\n",
    "    fig, axes = plt.subplots(1, 3, figsize=figsize)\n",
    "    \n",
    "    pet_path = img_path['pet_path']\n",
    "    mask_path = img_path['mask_path']\n",
    "    \n",
    "    \n",
    "    pet_img = sitk.ReadImage(pet_path, dtypes['pet_img'])\n",
    "    mask_img_true = sitk.ReadImage(mask_path, dtypes['mask_img'])\n",
    "    \n",
    "    \n",
    "    pet_array_= sitk.GetArrayFromImage(pet_img)\n",
    "    mask_array_true_ = sitk.GetArrayFromImage(mask_img_true)\n",
    "    \n",
    "    # flip axial axis\n",
    "    pet_array = np.flip(pet_array_, axis=0)\n",
    "    \n",
    "    for ii, threshold in enumerate(['relative', 'absolute', 'otsu']):\n",
    "        titles = {'absolute': '2.5 SUV', \n",
    "                  'relative': '42 % SUV_max',\n",
    "                  'otsu': 'otsu'}\n",
    "\n",
    "    \n",
    "        mask_array_true = roi2mask(pet_array=pet_array_, mask_array=mask_array_true_,\n",
    "                                  threshold=threshold)\n",
    "        mask_array_true = np.flip(mask_array_true, axis=0)\n",
    "\n",
    "\n",
    "        # MIP\n",
    "        mip_pet = np.max(pet_array, axis=axis)\n",
    "        mip_mask_true = np.max(mask_array_true, axis=axis)\n",
    "\n",
    "\n",
    "        #\n",
    "        # prepapre img for plotting \n",
    "        mip_pet[mip_pet>5.0] = 5.0\n",
    "        mip_pet = (255*mip_pet/5.0).astype(int)\n",
    "        # convert to RBG + MIP\n",
    "        image = mip_pet[:, :, None] * np.ones(3, dtype=int)[None, None, :]\n",
    "\n",
    "        # add dims\n",
    "        mip_mask_true = np.expand_dims(mip_mask_true, axis=-1)\n",
    "\n",
    "\n",
    "        # generate bounding box from the segmentation\n",
    "#         bbox = []\n",
    "#         for i in range(mip_mask_true.shape[2]):\n",
    "#             indexes = np.where(mip_mask_true[:, :, i])\n",
    "#             y1, y2 = min(indexes[0]), max(indexes[0])\n",
    "#             x1, x2 = min(indexes[1]), max(indexes[1])\n",
    "#             bbox.append([y1, x1, y2, x2])\n",
    "        bbox = [[0, 0, mip_mask_true.shape[0], mip_mask_true.shape[1]]]\n",
    "\n",
    "        bbox = np.array(bbox)\n",
    "\n",
    "        colors = random_colors(bbox.shape[0])\n",
    "\n",
    "        # plot the result\n",
    "        class_ids, class_names = np.ones(bbox.shape[0], dtype=int), [\"\", \"\"] # ['background', 'lymphoma']\n",
    "\n",
    "    #     print(image.shape, bbox.shape, mip_mask_true.shape, class_ids.shape)\n",
    "    #     print(np.sum(mip_mask_true))\n",
    "\n",
    "    #     visualize.display_instances(image, np.zeros(bbox.shape), mip_mask_pred, class_ids, class_names, show_bbox=False)\n",
    "\n",
    "        visualize.display_instances(image, bbox, mip_mask_true, class_ids, class_names, show_bbox=False,\n",
    "                                   ax=axes[ii])\n",
    "        axes[ii].set_title(titles[threshold])\n",
    "\n",
    "    plt.show()\n",
    "    \n",
    "    \n",
    "    \n",
    "    "
   ]
  },
  {
   "cell_type": "code",
   "execution_count": null,
   "metadata": {},
   "outputs": [],
   "source": []
  },
  {
   "cell_type": "code",
   "execution_count": null,
   "metadata": {},
   "outputs": [],
   "source": [
    "sample = df.sample(n=1)\n",
    "sample"
   ]
  },
  {
   "cell_type": "code",
   "execution_count": null,
   "metadata": {},
   "outputs": [],
   "source": [
    "print(sample.iloc[0]['STUDY_UID'])"
   ]
  },
  {
   "cell_type": "code",
   "execution_count": null,
   "metadata": {},
   "outputs": [],
   "source": [
    "sample = df.sample(n=1)\n",
    "row = sample.iloc[0]\n",
    "\n",
    "study_uid = row['STUDY_UID']\n",
    "img_path = {'pet_path': row['NIFTI_PET'],\n",
    "           'mask_path': row['NIFTI_MASK']}\n"
   ]
  },
  {
   "cell_type": "code",
   "execution_count": null,
   "metadata": {},
   "outputs": [],
   "source": [
    "img_path"
   ]
  },
  {
   "cell_type": "code",
   "execution_count": null,
   "metadata": {},
   "outputs": [],
   "source": []
  },
  {
   "cell_type": "code",
   "execution_count": null,
   "metadata": {
    "scrolled": false
   },
   "outputs": [],
   "source": [
    "plot_seg(study_uid, img_path)\n",
    "plot_seg(study_uid, img_path, axis=2)"
   ]
  },
  {
   "cell_type": "code",
   "execution_count": null,
   "metadata": {},
   "outputs": [],
   "source": []
  },
  {
   "cell_type": "code",
   "execution_count": null,
   "metadata": {
    "scrolled": true
   },
   "outputs": [],
   "source": [
    "# \"\"\"\n",
    "# 1.2.250.1.74.20120622095500.60000021132086\n",
    "# \"\"\"\n",
    "\n",
    "# for idx, row in df[df['split']=='val'].iterrows():\n",
    "\n",
    "#     study_uid = row['STUDY_UID']\n",
    "#     img_path = {'pet_path': row['NIFTI_PET'],\n",
    "#                'mask_path': row['NIFTI_MASK']}\n",
    "#     print(study_uid)\n",
    "#     print(row['subset'])\n",
    "    \n",
    "#     plot_seg(study_uid, img_path)\n",
    "#     plot_seg(study_uid, img_path, axis=2)"
   ]
  },
  {
   "cell_type": "code",
   "execution_count": null,
   "metadata": {},
   "outputs": [],
   "source": []
  },
  {
   "cell_type": "code",
   "execution_count": null,
   "metadata": {
    "scrolled": false
   },
   "outputs": [],
   "source": [
    "# # for idx, row in df[df['STUDY_UID'].isin({'2.16.840.1.113669.632.20.310000.20002794776',\n",
    "# #                                         '1.2.276.0.7230010.3.2.303858',\n",
    "# #                                         '1.3.51.0.1.1.10.10.13.63.102265672.3880438'})].iterrows():\n",
    "\n",
    "# study_uid = '1.2.840.113619.2.290.3.252365070.563.1422859091.279'\n",
    "\n",
    "# for idx, row in df[df['STUDY_UID']==study_uid].iterrows():\n",
    "\n",
    "#     study_uid = row['STUDY_UID']\n",
    "#     img_path = {'pet_path': row['NIFTI_PET'],\n",
    "#                'mask_path': row['NIFTI_MASK']}\n",
    "#     print(study_uid)\n",
    "#     print(row['subset'])\n",
    "    \n",
    "#     plot_seg(study_uid, img_path)\n",
    "#     plot_seg(study_uid, img_path, axis=2)"
   ]
  },
  {
   "cell_type": "code",
   "execution_count": null,
   "metadata": {},
   "outputs": [],
   "source": []
  },
  {
   "cell_type": "code",
   "execution_count": null,
   "metadata": {},
   "outputs": [],
   "source": []
  },
  {
   "cell_type": "code",
   "execution_count": null,
   "metadata": {},
   "outputs": [],
   "source": [
    "df['subset'].value_counts()"
   ]
  },
  {
   "cell_type": "code",
   "execution_count": null,
   "metadata": {},
   "outputs": [],
   "source": []
  },
  {
   "cell_type": "code",
   "execution_count": null,
   "metadata": {
    "scrolled": true
   },
   "outputs": [],
   "source": [
    "\n",
    "\n",
    "for idx, row in df[df['subset']=='excluded'].iterrows():\n",
    "\n",
    "    study_uid = row['STUDY_UID']\n",
    "    img_path = {'pet_path': row['NIFTI_PET'],\n",
    "               'mask_path': row['NIFTI_MASK']}\n",
    "    print(study_uid)\n",
    "    print(row['subset'])\n",
    "    \n",
    "    plot_seg(study_uid, img_path)\n",
    "    plot_seg(study_uid, img_path, axis=2)\n",
    "    "
   ]
  },
  {
   "cell_type": "code",
   "execution_count": null,
   "metadata": {},
   "outputs": [],
   "source": []
  },
  {
   "cell_type": "markdown",
   "metadata": {},
   "source": [
    "# display every MIP"
   ]
  },
  {
   "cell_type": "code",
   "execution_count": null,
   "metadata": {
    "scrolled": true
   },
   "outputs": [],
   "source": [
    "#for idx, row in df_val.sort_values(by='dice_cnn', ascending=False).head(N).iterrows()\n",
    "\n",
    "\n",
    "for idx, row in df.iterrows():\n",
    "\n",
    "    study_uid = row['STUDY_UID']\n",
    "    img_path = {'pet_path': row['NIFTI_PET'],\n",
    "               'mask_path': row['NIFTI_MASK']}\n",
    "    print(study_uid)\n",
    "    print(row['subset'])\n",
    "    \n",
    "    plot_seg(study_uid, img_path)\n",
    "    plot_seg(study_uid, img_path, axis=2)\n",
    "    "
   ]
  },
  {
   "cell_type": "code",
   "execution_count": null,
   "metadata": {},
   "outputs": [],
   "source": []
  },
  {
   "cell_type": "code",
   "execution_count": null,
   "metadata": {},
   "outputs": [],
   "source": []
  },
  {
   "cell_type": "code",
   "execution_count": null,
   "metadata": {
    "scrolled": false
   },
   "outputs": [],
   "source": []
  },
  {
   "cell_type": "code",
   "execution_count": null,
   "metadata": {},
   "outputs": [],
   "source": []
  },
  {
   "cell_type": "code",
   "execution_count": null,
   "metadata": {},
   "outputs": [],
   "source": []
  },
  {
   "cell_type": "code",
   "execution_count": null,
   "metadata": {},
   "outputs": [],
   "source": [
    "# Test Seg intersection otsu | 2.5 SUV"
   ]
  },
  {
   "cell_type": "code",
   "execution_count": null,
   "metadata": {},
   "outputs": [],
   "source": [
    "\n",
    "def plot_seg_otsu_absolute(study_uid, img_path, axis=1):\n",
    "    \n",
    "    threshold_values = [3.5, 4.0]\n",
    "    \n",
    "    figsize=(16, 16)\n",
    "    fig, axes = plt.subplots(1, len(threshold_values)+1, figsize=figsize)\n",
    "    \n",
    "    pet_path = img_path['pet_path']\n",
    "    mask_path = img_path['mask_path']\n",
    "    \n",
    "    \n",
    "    pet_img = sitk.ReadImage(pet_path, dtypes['pet_img'])\n",
    "    mask_img_true = sitk.ReadImage(mask_path, dtypes['mask_img'])\n",
    "    \n",
    "    \n",
    "    pet_array_= sitk.GetArrayFromImage(pet_img)\n",
    "    mask_array_true_ = sitk.GetArrayFromImage(mask_img_true)\n",
    "    \n",
    "    # flip axial axis\n",
    "    pet_array = np.flip(pet_array_, axis=0)\n",
    "    \n",
    "    \n",
    "    mask_otsu = roi2mask(pet_array=pet_array_, mask_array=mask_array_true_,\n",
    "                                  threshold='otsu')    \n",
    "    for ii, tval in enumerate(threshold_values) :\n",
    "\n",
    "        mask_absolute = roi2mask(pet_array=pet_array_, mask_array=mask_array_true_,\n",
    "                                      threshold='absolute', tval=tval)\n",
    "\n",
    "        mask_array_true = mask_otsu * mask_absolute\n",
    "        mask_array_true = np.flip(mask_array_true, axis=0)\n",
    "\n",
    "\n",
    "        # MIP\n",
    "        mip_pet = np.max(pet_array, axis=axis)\n",
    "        mip_mask_true = np.max(mask_array_true, axis=axis)\n",
    "\n",
    "\n",
    "        #\n",
    "        # prepapre img for plotting \n",
    "        mip_pet[mip_pet>5.0] = 5.0\n",
    "        mip_pet = (255*mip_pet/5.0).astype(int)\n",
    "        # convert to RBG + MIP\n",
    "        image = mip_pet[:, :, None] * np.ones(3, dtype=int)[None, None, :]\n",
    "\n",
    "        # add dims\n",
    "        mip_mask_true = np.expand_dims(mip_mask_true, axis=-1)\n",
    "\n",
    "\n",
    "        # generate bounding box from the segmentation\n",
    "    #         bbox = []\n",
    "    #         for i in range(mip_mask_true.shape[2]):\n",
    "    #             indexes = np.where(mip_mask_true[:, :, i])\n",
    "    #             y1, y2 = min(indexes[0]), max(indexes[0])\n",
    "    #             x1, x2 = min(indexes[1]), max(indexes[1])\n",
    "    #             bbox.append([y1, x1, y2, x2])\n",
    "        bbox = [[0, 0, mip_mask_true.shape[0], mip_mask_true.shape[1]]]\n",
    "\n",
    "        bbox = np.array(bbox)\n",
    "\n",
    "        colors = random_colors(bbox.shape[0])\n",
    "\n",
    "        # plot the result\n",
    "        class_ids, class_names = np.ones(bbox.shape[0], dtype=int), [\"\", \"\"] # ['background', 'lymphoma']\n",
    "\n",
    "    #     print(image.shape, bbox.shape, mip_mask_true.shape, class_ids.shape)\n",
    "    #     print(np.sum(mip_mask_true))\n",
    "\n",
    "    #     visualize.display_instances(image, np.zeros(bbox.shape), mip_mask_pred, class_ids, class_names, show_bbox=False)\n",
    "\n",
    "        visualize.display_instances(image, bbox, mip_mask_true, class_ids, class_names, show_bbox=False,\n",
    "                                   ax=axes[ii+1])\n",
    "        axes[ii+1].set_title('otsu|{} SUV'.format(tval))\n",
    "    \n",
    "    visualize.display_instances(image, bbox, np.zeros(mip_mask_true.shape), class_ids, class_names, show_bbox=False,\n",
    "                           ax=axes[0])\n",
    "    axes[0].set_title('MIP PET')\n",
    "\n",
    "\n",
    "    \n",
    "    \n",
    "    "
   ]
  },
  {
   "cell_type": "code",
   "execution_count": null,
   "metadata": {},
   "outputs": [],
   "source": []
  },
  {
   "cell_type": "code",
   "execution_count": null,
   "metadata": {
    "scrolled": false
   },
   "outputs": [],
   "source": [
    "for idx, row in df[df['subset']=='excluded'].iterrows():\n",
    "\n",
    "    study_uid = row['STUDY_UID']\n",
    "    img_path = {'pet_path': row['NIFTI_PET'],\n",
    "               'mask_path': row['NIFTI_MASK']}\n",
    "    print(study_uid)\n",
    "    print(row['subset'])\n",
    "    \n",
    "    plot_seg_otsu_absolute(study_uid, img_path)\n",
    "    plot_seg_otsu_absolute(study_uid, img_path, axis=2)\n",
    "    \n",
    "    plt.show()\n",
    "    "
   ]
  },
  {
   "cell_type": "code",
   "execution_count": null,
   "metadata": {
    "scrolled": true
   },
   "outputs": [],
   "source": [
    "for idx, row in df.sample(n=50).iterrows():\n",
    "\n",
    "    study_uid = row['STUDY_UID']\n",
    "    img_path = {'pet_path': row['NIFTI_PET'],\n",
    "               'mask_path': row['NIFTI_MASK']}\n",
    "    print(study_uid)\n",
    "    print(row['subset'])\n",
    "    \n",
    "    plot_seg_otsu_absolute(study_uid, img_path)\n",
    "    plot_seg_otsu_absolute(study_uid, img_path, axis=2)\n",
    "    \n",
    "    plt.show()\n",
    "    "
   ]
  },
  {
   "cell_type": "code",
   "execution_count": null,
   "metadata": {},
   "outputs": [],
   "source": []
  },
  {
   "cell_type": "code",
   "execution_count": null,
   "metadata": {},
   "outputs": [],
   "source": []
  },
  {
   "cell_type": "code",
   "execution_count": null,
   "metadata": {},
   "outputs": [],
   "source": []
  },
  {
   "cell_type": "code",
   "execution_count": null,
   "metadata": {},
   "outputs": [],
   "source": []
  }
 ],
 "metadata": {
  "kernelspec": {
   "display_name": "Python 3",
   "language": "python",
   "name": "python3"
  },
  "language_info": {
   "codemirror_mode": {
    "name": "ipython",
    "version": 3
   },
   "file_extension": ".py",
   "mimetype": "text/x-python",
   "name": "python",
   "nbconvert_exporter": "python",
   "pygments_lexer": "ipython3",
   "version": "3.8.3"
  }
 },
 "nbformat": 4,
 "nbformat_minor": 4
}
